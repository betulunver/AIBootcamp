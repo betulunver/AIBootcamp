{
 "cells": [
  {
   "cell_type": "markdown",
   "id": "9eda1a8f-8dc9-4e7d-a35d-6cf017b76e4d",
   "metadata": {},
   "source": [
    "# Natural Language Processing - Doğal Dil İşleme"
   ]
  },
  {
   "cell_type": "code",
   "execution_count": 1,
   "id": "69cd52b2-34a9-45a5-8f23-790d4fdbf4a6",
   "metadata": {},
   "outputs": [
    {
     "name": "stdout",
     "output_type": "stream",
     "text": [
      "Defaulting to user installation because normal site-packages is not writeable"
     ]
    },
    {
     "name": "stderr",
     "output_type": "stream",
     "text": [
      "ERROR: Invalid requirement: '#natural'\n",
      "\n",
      "[notice] A new release of pip available: 22.2.2 -> 22.3\n",
      "[notice] To update, run: python.exe -m pip install --upgrade pip\n"
     ]
    },
    {
     "name": "stdout",
     "output_type": "stream",
     "text": [
      "\n"
     ]
    }
   ],
   "source": [
    "!pip install nltk #natural language toolkit"
   ]
  },
  {
   "cell_type": "code",
   "execution_count": 2,
   "id": "9cb8bba9-b49e-4673-bcb1-4fbf9b89dcce",
   "metadata": {},
   "outputs": [],
   "source": [
    "import nltk"
   ]
  },
  {
   "cell_type": "code",
   "execution_count": 3,
   "id": "c9de745d-0325-49b4-b07e-b2106f997092",
   "metadata": {},
   "outputs": [
    {
     "name": "stderr",
     "output_type": "stream",
     "text": [
      "[nltk_data] Downloading package punkt to C:\\Users\\Betül\n",
      "[nltk_data]     Ünver\\AppData\\Roaming\\nltk_data...\n",
      "[nltk_data]   Package punkt is already up-to-date!\n"
     ]
    },
    {
     "data": {
      "text/plain": [
       "True"
      ]
     },
     "execution_count": 3,
     "metadata": {},
     "output_type": "execute_result"
    }
   ],
   "source": [
    "nltk.download(\"punkt\")"
   ]
  },
  {
   "cell_type": "code",
   "execution_count": 4,
   "id": "14fb2617-c9de-4573-8831-d9b8f3f201c5",
   "metadata": {},
   "outputs": [],
   "source": [
    "cumle=\"Yaylaya gitmişti yayla zamano, Gülizar döndü de Döndü dönmedi.\""
   ]
  },
  {
   "cell_type": "code",
   "execution_count": 5,
   "id": "c951ed0c-9b90-4ac1-94de-e28267abf65d",
   "metadata": {},
   "outputs": [
    {
     "data": {
      "text/plain": [
       "'YAYLAYA GITMIŞTI YAYLA ZAMANO, GÜLIZAR DÖNDÜ DE DÖNDÜ DÖNMEDI.'"
      ]
     },
     "execution_count": 5,
     "metadata": {},
     "output_type": "execute_result"
    }
   ],
   "source": [
    "cumle.upper()"
   ]
  },
  {
   "cell_type": "code",
   "execution_count": 6,
   "id": "098066ef-3816-4033-85da-84c4874edbd1",
   "metadata": {},
   "outputs": [
    {
     "data": {
      "text/plain": [
       "'yaylaya gitmişti yayla zamano, gülizar döndü de döndü dönmedi.'"
      ]
     },
     "execution_count": 6,
     "metadata": {},
     "output_type": "execute_result"
    }
   ],
   "source": [
    "cumle.lower()"
   ]
  },
  {
   "cell_type": "code",
   "execution_count": 7,
   "id": "33342774-74e7-4dec-bbdc-670b0a45b01c",
   "metadata": {},
   "outputs": [
    {
     "data": {
      "text/plain": [
       "['Yaylaya',\n",
       " 'gitmişti',\n",
       " 'yayla',\n",
       " 'zamano,',\n",
       " 'Gülizar',\n",
       " 'döndü',\n",
       " 'de',\n",
       " 'Döndü',\n",
       " 'dönmedi.']"
      ]
     },
     "execution_count": 7,
     "metadata": {},
     "output_type": "execute_result"
    }
   ],
   "source": [
    "cumle.split()"
   ]
  },
  {
   "cell_type": "code",
   "execution_count": 8,
   "id": "04cc1851-015a-4a94-b137-d0c6769da5c3",
   "metadata": {},
   "outputs": [
    {
     "data": {
      "text/plain": [
       "'Y'"
      ]
     },
     "execution_count": 8,
     "metadata": {},
     "output_type": "execute_result"
    }
   ],
   "source": [
    "cumle[0]"
   ]
  },
  {
   "cell_type": "code",
   "execution_count": 9,
   "id": "3b993804-54f6-4867-bbba-a8c5849bc2fd",
   "metadata": {},
   "outputs": [],
   "source": [
    "from nltk.tokenize import sent_tokenize"
   ]
  },
  {
   "cell_type": "code",
   "execution_count": 10,
   "id": "aa1d9811-54b4-4204-83cd-3899ee118894",
   "metadata": {},
   "outputs": [],
   "source": [
    "text=\"I love python. zafer lives işn a small village. Please call be back.\""
   ]
  },
  {
   "cell_type": "code",
   "execution_count": 11,
   "id": "f8635bba-a8ca-413a-949c-eab72da3965b",
   "metadata": {},
   "outputs": [
    {
     "data": {
      "text/plain": [
       "['I love python',\n",
       " ' zafer lives işn a small village',\n",
       " ' Please call be back',\n",
       " '']"
      ]
     },
     "execution_count": 11,
     "metadata": {},
     "output_type": "execute_result"
    }
   ],
   "source": [
    "text.split(\".\")"
   ]
  },
  {
   "cell_type": "code",
   "execution_count": 12,
   "id": "fae43ddc-0476-47ab-8a10-c2626d6db111",
   "metadata": {},
   "outputs": [
    {
     "data": {
      "text/plain": [
       "['I love python.', 'zafer lives işn a small village.', 'Please call be back.']"
      ]
     },
     "execution_count": 12,
     "metadata": {},
     "output_type": "execute_result"
    }
   ],
   "source": [
    "sent_tokenize(text) #aynı işlemi sent_tokenize ile yaptık. kendi cümlelere ayırabiliyor"
   ]
  },
  {
   "cell_type": "code",
   "execution_count": 13,
   "id": "7ccbf6aa-9479-42d1-b69b-e9664bf2616e",
   "metadata": {},
   "outputs": [],
   "source": [
    " from nltk.tokenize import word_tokenize #kelimeleri ayırıyor."
   ]
  },
  {
   "cell_type": "code",
   "execution_count": 14,
   "id": "6f12f75c-ab8e-465a-a0b7-ff7e0185c469",
   "metadata": {},
   "outputs": [
    {
     "data": {
      "text/plain": [
       "['I',\n",
       " 'love',\n",
       " 'python',\n",
       " '.',\n",
       " 'zafer',\n",
       " 'lives',\n",
       " 'işn',\n",
       " 'a',\n",
       " 'small',\n",
       " 'village',\n",
       " '.',\n",
       " 'Please',\n",
       " 'call',\n",
       " 'be',\n",
       " 'back',\n",
       " '.']"
      ]
     },
     "execution_count": 14,
     "metadata": {},
     "output_type": "execute_result"
    }
   ],
   "source": [
    "word_tokenize(text)"
   ]
  },
  {
   "cell_type": "code",
   "execution_count": 15,
   "id": "702f7d58-6643-4a05-a7fb-f25b01b61e59",
   "metadata": {},
   "outputs": [],
   "source": [
    "from nltk.tokenize import TreebankWordTokenizer"
   ]
  },
  {
   "cell_type": "code",
   "execution_count": 16,
   "id": "58ad1a67-ba51-4e83-96f4-c4b45d9a0992",
   "metadata": {},
   "outputs": [
    {
     "data": {
      "text/plain": [
       "['I',\n",
       " 'love',\n",
       " 'python.',\n",
       " 'zafer',\n",
       " 'lives',\n",
       " 'işn',\n",
       " 'a',\n",
       " 'small',\n",
       " 'village.',\n",
       " 'Please',\n",
       " 'call',\n",
       " 'be',\n",
       " 'back',\n",
       " '.']"
      ]
     },
     "execution_count": 16,
     "metadata": {},
     "output_type": "execute_result"
    }
   ],
   "source": [
    "TreebankWordTokenizer().tokenize(text)"
   ]
  },
  {
   "cell_type": "code",
   "execution_count": 17,
   "id": "8ec8949e-03d6-49e3-b87d-bf5cc8d0d0c7",
   "metadata": {},
   "outputs": [],
   "source": [
    "#stopwords -> gereksiz kelimeler (konuştuğum cümlelri yardımcı kelimleerle birleştiriyorsam , aralarda ee diyorsam bunlar gereksiz. bunlar en ok tekrar eden kelimler ama biz anahtar kelimleri kulanmak istiyoruz.)"
   ]
  },
  {
   "cell_type": "code",
   "execution_count": 18,
   "id": "e38d98cf-8a1e-45ac-8901-7cb0f0d407f8",
   "metadata": {},
   "outputs": [
    {
     "name": "stderr",
     "output_type": "stream",
     "text": [
      "[nltk_data] Downloading package stopwords to C:\\Users\\Betül\n",
      "[nltk_data]     Ünver\\AppData\\Roaming\\nltk_data...\n",
      "[nltk_data]   Package stopwords is already up-to-date!\n"
     ]
    },
    {
     "data": {
      "text/plain": [
       "True"
      ]
     },
     "execution_count": 18,
     "metadata": {},
     "output_type": "execute_result"
    }
   ],
   "source": [
    "nltk.download('stopwords')"
   ]
  },
  {
   "cell_type": "code",
   "execution_count": 19,
   "id": "b728bbe2-f741-41f0-8f10-18d4ee155079",
   "metadata": {},
   "outputs": [
    {
     "name": "stdout",
     "output_type": "stream",
     "text": [
      "['i', 'me', 'my', 'myself', 'we', 'our', 'ours', 'ourselves', 'you', \"you're\", \"you've\", \"you'll\", \"you'd\", 'your', 'yours', 'yourself', 'yourselves', 'he', 'him', 'his', 'himself', 'she', \"she's\", 'her', 'hers', 'herself', 'it', \"it's\", 'its', 'itself', 'they', 'them', 'their', 'theirs', 'themselves', 'what', 'which', 'who', 'whom', 'this', 'that', \"that'll\", 'these', 'those', 'am', 'is', 'are', 'was', 'were', 'be', 'been', 'being', 'have', 'has', 'had', 'having', 'do', 'does', 'did', 'doing', 'a', 'an', 'the', 'and', 'but', 'if', 'or', 'because', 'as', 'until', 'while', 'of', 'at', 'by', 'for', 'with', 'about', 'against', 'between', 'into', 'through', 'during', 'before', 'after', 'above', 'below', 'to', 'from', 'up', 'down', 'in', 'out', 'on', 'off', 'over', 'under', 'again', 'further', 'then', 'once', 'here', 'there', 'when', 'where', 'why', 'how', 'all', 'any', 'both', 'each', 'few', 'more', 'most', 'other', 'some', 'such', 'no', 'nor', 'not', 'only', 'own', 'same', 'so', 'than', 'too', 'very', 's', 't', 'can', 'will', 'just', 'don', \"don't\", 'should', \"should've\", 'now', 'd', 'll', 'm', 'o', 're', 've', 'y', 'ain', 'aren', \"aren't\", 'couldn', \"couldn't\", 'didn', \"didn't\", 'doesn', \"doesn't\", 'hadn', \"hadn't\", 'hasn', \"hasn't\", 'haven', \"haven't\", 'isn', \"isn't\", 'ma', 'mightn', \"mightn't\", 'mustn', \"mustn't\", 'needn', \"needn't\", 'shan', \"shan't\", 'shouldn', \"shouldn't\", 'wasn', \"wasn't\", 'weren', \"weren't\", 'won', \"won't\", 'wouldn', \"wouldn't\"]\n"
     ]
    }
   ],
   "source": [
    "print(nltk.corpus.stopwords.words(\"english\")) #ingliizcedeki greksiz kelimeler"
   ]
  },
  {
   "cell_type": "code",
   "execution_count": 20,
   "id": "036ba00b-feba-4597-b1d6-9a3ba21813a5",
   "metadata": {},
   "outputs": [
    {
     "name": "stdout",
     "output_type": "stream",
     "text": [
      "['acaba', 'ama', 'aslında', 'az', 'bazı', 'belki', 'biri', 'birkaç', 'birşey', 'biz', 'bu', 'çok', 'çünkü', 'da', 'daha', 'de', 'defa', 'diye', 'eğer', 'en', 'gibi', 'hem', 'hep', 'hepsi', 'her', 'hiç', 'için', 'ile', 'ise', 'kez', 'ki', 'kim', 'mı', 'mu', 'mü', 'nasıl', 'ne', 'neden', 'nerde', 'nerede', 'nereye', 'niçin', 'niye', 'o', 'sanki', 'şey', 'siz', 'şu', 'tüm', 've', 'veya', 'ya', 'yani']\n"
     ]
    }
   ],
   "source": [
    "print(nltk.corpus.stopwords.words(\"turkish\")) #türkçedeki gereksiz kelimeler"
   ]
  },
  {
   "cell_type": "code",
   "execution_count": 21,
   "id": "9d53e1d3-3386-4e41-914b-667ea1b5f509",
   "metadata": {},
   "outputs": [],
   "source": [
    "from nltk.stem import PorterStemmer"
   ]
  },
  {
   "cell_type": "code",
   "execution_count": 22,
   "id": "f68167cb-16ec-4964-9cbe-cd6394ec2eb3",
   "metadata": {},
   "outputs": [
    {
     "data": {
      "text/plain": [
       "'happi'"
      ]
     },
     "execution_count": 22,
     "metadata": {},
     "output_type": "execute_result"
    }
   ],
   "source": [
    "PorterStemmer().stem(\"Happiness\")"
   ]
  },
  {
   "cell_type": "code",
   "execution_count": 23,
   "id": "2f6ebc6c-8082-4029-9af3-cba5b553f17b",
   "metadata": {},
   "outputs": [],
   "source": [
    "from nltk.stem import LancasterStemmer"
   ]
  },
  {
   "cell_type": "code",
   "execution_count": 24,
   "id": "4e087df8-6ad1-4165-98eb-2d17659cf7c3",
   "metadata": {},
   "outputs": [
    {
     "data": {
      "text/plain": [
       "'happy'"
      ]
     },
     "execution_count": 24,
     "metadata": {},
     "output_type": "execute_result"
    }
   ],
   "source": [
    "LancasterStemmer().stem(\"Happiness\")"
   ]
  },
  {
   "cell_type": "code",
   "execution_count": 25,
   "id": "dd24966d-8ccb-46e9-8a28-6050673af1ce",
   "metadata": {},
   "outputs": [],
   "source": [
    "# Markov Chain - önceki hamleden sonrakini tahmin etme"
   ]
  },
  {
   "cell_type": "code",
   "execution_count": 26,
   "id": "f38d5421-14b2-465b-b2dd-bd44acbb807d",
   "metadata": {},
   "outputs": [],
   "source": [
    "from nltk.stem import RegexpStemmer"
   ]
  },
  {
   "cell_type": "code",
   "execution_count": 27,
   "id": "f87a1196-8d4e-4c3e-ad9a-0bf0cd197750",
   "metadata": {},
   "outputs": [],
   "source": [
    "rs=RegexpStemmer(\"ing\")"
   ]
  },
  {
   "cell_type": "code",
   "execution_count": 28,
   "id": "63dee9e9-6148-4c9a-8a7d-bd758feab6a0",
   "metadata": {},
   "outputs": [
    {
     "data": {
      "text/plain": [
       "'work'"
      ]
     },
     "execution_count": 28,
     "metadata": {},
     "output_type": "execute_result"
    }
   ],
   "source": [
    "rs.stem(\"working\")"
   ]
  },
  {
   "cell_type": "markdown",
   "id": "4e2f4ddc-642c-4692-9061-1a0509c5ead8",
   "metadata": {},
   "source": [
    "#### NLP PRojesinde 7 altin kural\n",
    "1- Noktalama işsaretlerine,\n",
    "2- Hepsini küçük harfe çeviriyoruz.\n",
    "3- Enter veya \\n kaldir\n",
    "4- Rakamlari kaldir\n",
    "5- Tokenize etmek\n",
    "6- Eklerini kaldir koklerini bul\n",
    "7- Stopwords kaldir gereksiz kelimeler."
   ]
  },
  {
   "cell_type": "code",
   "execution_count": 29,
   "id": "72fde598-b9a1-4056-85f7-3f0203e921c0",
   "metadata": {},
   "outputs": [],
   "source": [
    "from nltk.stem import SnowballStemmer"
   ]
  },
  {
   "cell_type": "code",
   "execution_count": 30,
   "id": "39a20add-f9c2-4c4c-8bc4-fb96965fcc92",
   "metadata": {},
   "outputs": [
    {
     "data": {
      "text/plain": [
       "('arabic',\n",
       " 'danish',\n",
       " 'dutch',\n",
       " 'english',\n",
       " 'finnish',\n",
       " 'french',\n",
       " 'german',\n",
       " 'hungarian',\n",
       " 'italian',\n",
       " 'norwegian',\n",
       " 'porter',\n",
       " 'portuguese',\n",
       " 'romanian',\n",
       " 'russian',\n",
       " 'spanish',\n",
       " 'swedish')"
      ]
     },
     "execution_count": 30,
     "metadata": {},
     "output_type": "execute_result"
    }
   ],
   "source": [
    "SnowballStemmer.languages #hangi dilleri destekliyor"
   ]
  },
  {
   "cell_type": "code",
   "execution_count": 31,
   "id": "1583f757-aba5-482f-86cb-d3652c87099e",
   "metadata": {},
   "outputs": [
    {
     "name": "stdout",
     "output_type": "stream",
     "text": [
      "Defaulting to user installation because normal site-packages is not writeable\n",
      "Requirement already satisfied: TurkishStemmer in c:\\users\\betül ünver\\appdata\\roaming\\python\\python38\\site-packages (1.3)\n"
     ]
    },
    {
     "name": "stderr",
     "output_type": "stream",
     "text": [
      "\n",
      "[notice] A new release of pip available: 22.2.2 -> 22.3\n",
      "[notice] To update, run: python.exe -m pip install --upgrade pip\n"
     ]
    }
   ],
   "source": [
    "!pip install TurkishStemmer"
   ]
  },
  {
   "cell_type": "code",
   "execution_count": 32,
   "id": "36d2dc5a-cc16-4a1c-9cb4-3392d3024d99",
   "metadata": {},
   "outputs": [],
   "source": [
    "from TurkishStemmer import TurkishStemmer"
   ]
  },
  {
   "cell_type": "code",
   "execution_count": 33,
   "id": "a92b5479-04de-4a5b-81fe-6f7b37e60f55",
   "metadata": {},
   "outputs": [
    {
     "data": {
      "text/plain": [
       "'bardak'"
      ]
     },
     "execution_count": 33,
     "metadata": {},
     "output_type": "execute_result"
    }
   ],
   "source": [
    "TurkishStemmer().stem(\"bardaktan\") #mastar halini buluyor"
   ]
  },
  {
   "cell_type": "code",
   "execution_count": 34,
   "id": "9d2ddd78-5654-42fb-8673-7214ec8d5360",
   "metadata": {},
   "outputs": [
    {
     "data": {
      "text/plain": [
       "'geliyor'"
      ]
     },
     "execution_count": 34,
     "metadata": {},
     "output_type": "execute_result"
    }
   ],
   "source": [
    "TurkishStemmer().stem(\"geliyorum\")"
   ]
  },
  {
   "cell_type": "code",
   "execution_count": 35,
   "id": "6797b172-39e9-48b6-b7ff-871f3a88e096",
   "metadata": {},
   "outputs": [
    {
     "data": {
      "text/plain": [
       "'gözlük'"
      ]
     },
     "execution_count": 35,
     "metadata": {},
     "output_type": "execute_result"
    }
   ],
   "source": [
    "TurkishStemmer().stem(\"gözlük\")"
   ]
  },
  {
   "cell_type": "code",
   "execution_count": 36,
   "id": "7f298222-649d-4c5c-843b-4e068dedc9bb",
   "metadata": {},
   "outputs": [
    {
     "data": {
      "text/plain": [
       "'mahalle'"
      ]
     },
     "execution_count": 36,
     "metadata": {},
     "output_type": "execute_result"
    }
   ],
   "source": [
    "TurkishStemmer().stem(\"mahalle\")"
   ]
  },
  {
   "cell_type": "code",
   "execution_count": 37,
   "id": "b4243307-5761-471c-92be-e501c27c1eaf",
   "metadata": {},
   "outputs": [
    {
     "data": {
      "text/plain": [
       "'dost'"
      ]
     },
     "execution_count": 37,
     "metadata": {},
     "output_type": "execute_result"
    }
   ],
   "source": [
    "TurkishStemmer().stem(\"dostun\")"
   ]
  },
  {
   "cell_type": "code",
   "execution_count": 38,
   "id": "b3e656f5-3fd8-488f-87bd-266b22d700f5",
   "metadata": {},
   "outputs": [
    {
     "data": {
      "text/plain": [
       "'göz'"
      ]
     },
     "execution_count": 38,
     "metadata": {},
     "output_type": "execute_result"
    }
   ],
   "source": [
    "TurkishStemmer().stem(\"gözde\")"
   ]
  },
  {
   "cell_type": "code",
   "execution_count": 39,
   "id": "8333a6b2-a09e-4e85-85ef-a47695af2218",
   "metadata": {},
   "outputs": [
    {
     "data": {
      "text/plain": [
       "'muhallebiç'"
      ]
     },
     "execution_count": 39,
     "metadata": {},
     "output_type": "execute_result"
    }
   ],
   "source": [
    "TurkishStemmer().stem(\"muhallebici\")"
   ]
  },
  {
   "cell_type": "code",
   "execution_count": 40,
   "id": "2a9a9ac2-3103-4edd-8158-0a453052c035",
   "metadata": {},
   "outputs": [
    {
     "data": {
      "text/plain": [
       "'gör'"
      ]
     },
     "execution_count": 40,
     "metadata": {},
     "output_type": "execute_result"
    }
   ],
   "source": [
    "TurkishStemmer().stem(\"görümce\")"
   ]
  },
  {
   "cell_type": "code",
   "execution_count": 41,
   "id": "a96b9d66-b047-428b-8b27-161b5a125545",
   "metadata": {},
   "outputs": [
    {
     "data": {
      "text/plain": [
       "'mahalle'"
      ]
     },
     "execution_count": 41,
     "metadata": {},
     "output_type": "execute_result"
    }
   ],
   "source": [
    "TurkishStemmer().stem(\"mahalleli\")"
   ]
  },
  {
   "cell_type": "code",
   "execution_count": 42,
   "id": "dd21db80-28f6-44f0-8a75-79c9617e9ea2",
   "metadata": {},
   "outputs": [],
   "source": [
    "spstemmer=SnowballStemmer(\"spanish\") #ispanyolca"
   ]
  },
  {
   "cell_type": "code",
   "execution_count": 43,
   "id": "e0fe1968-5658-4eec-aa70-c2dfbe7c4aad",
   "metadata": {},
   "outputs": [
    {
     "data": {
      "text/plain": [
       "'com'"
      ]
     },
     "execution_count": 43,
     "metadata": {},
     "output_type": "execute_result"
    }
   ],
   "source": [
    "spstemmer.stem(\"comiendo\")"
   ]
  },
  {
   "cell_type": "code",
   "execution_count": 44,
   "id": "bf67c947-053c-4fff-8560-91ff8e265238",
   "metadata": {},
   "outputs": [
    {
     "data": {
      "text/plain": [
       "'tiam'"
      ]
     },
     "execution_count": 44,
     "metadata": {},
     "output_type": "execute_result"
    }
   ],
   "source": [
    "spstemmer.stem(\"tiamo\")"
   ]
  },
  {
   "cell_type": "code",
   "execution_count": 45,
   "id": "c4cadeb8-facc-4b00-9693-1c8ae4051f16",
   "metadata": {},
   "outputs": [],
   "source": [
    "frstemmer=SnowballStemmer(\"french\") #fransızca"
   ]
  },
  {
   "cell_type": "code",
   "execution_count": 46,
   "id": "f339e850-dc1b-4e1b-a4c5-a84dc8eeda85",
   "metadata": {},
   "outputs": [
    {
     "data": {
      "text/plain": [
       "'manag'"
      ]
     },
     "execution_count": 46,
     "metadata": {},
     "output_type": "execute_result"
    }
   ],
   "source": [
    "frstemmer.stem(\"manager\")"
   ]
  },
  {
   "cell_type": "code",
   "execution_count": 47,
   "id": "e3a3247b-eb31-4b40-a403-a9ebf30c6dfe",
   "metadata": {},
   "outputs": [
    {
     "data": {
      "text/plain": [
       "'kes kos'"
      ]
     },
     "execution_count": 47,
     "metadata": {},
     "output_type": "execute_result"
    }
   ],
   "source": [
    "frstemmer.stem(\"kes kose\")"
   ]
  },
  {
   "cell_type": "code",
   "execution_count": 48,
   "id": "3f0d8651-2270-4914-adc7-2fd2852bbb87",
   "metadata": {},
   "outputs": [],
   "source": [
    "#Part of Speech - POS İsim fiil, özne yüklem, fiil fail -> ne olduğu buluyor"
   ]
  },
  {
   "cell_type": "code",
   "execution_count": 49,
   "id": "53b56311-41be-4919-b3a0-f6599acb7e3f",
   "metadata": {},
   "outputs": [],
   "source": [
    "from nltk.tokenize import word_tokenize"
   ]
  },
  {
   "cell_type": "code",
   "execution_count": 50,
   "id": "fd06a447-d935-4165-9f0f-87c04d22891a",
   "metadata": {},
   "outputs": [],
   "source": [
    "cumle=\"Zafer love stuffed grape leaves. Artificial Intellgence is cool\""
   ]
  },
  {
   "cell_type": "code",
   "execution_count": 51,
   "id": "0713fc09-47b8-4892-b202-1d5af7836acd",
   "metadata": {},
   "outputs": [
    {
     "name": "stderr",
     "output_type": "stream",
     "text": [
      "[nltk_data] Downloading package averaged_perceptron_tagger to\n",
      "[nltk_data]     C:\\Users\\Betül Ünver\\AppData\\Roaming\\nltk_data...\n",
      "[nltk_data]   Package averaged_perceptron_tagger is already up-to-\n",
      "[nltk_data]       date!\n"
     ]
    },
    {
     "data": {
      "text/plain": [
       "True"
      ]
     },
     "execution_count": 51,
     "metadata": {},
     "output_type": "execute_result"
    }
   ],
   "source": [
    "nltk.download('averaged_perceptron_tagger')"
   ]
  },
  {
   "cell_type": "code",
   "execution_count": 52,
   "id": "d32cd7c6-3ae6-4c11-b7a9-1f76d5568041",
   "metadata": {},
   "outputs": [
    {
     "data": {
      "text/plain": [
       "[('Zafer', 'NNP'),\n",
       " ('love', 'NN'),\n",
       " ('stuffed', 'VBD'),\n",
       " ('grape', 'NN'),\n",
       " ('leaves', 'NNS'),\n",
       " ('.', '.'),\n",
       " ('Artificial', 'JJ'),\n",
       " ('Intellgence', 'NNP'),\n",
       " ('is', 'VBZ'),\n",
       " ('cool', 'JJ')]"
      ]
     },
     "execution_count": 52,
     "metadata": {},
     "output_type": "execute_result"
    }
   ],
   "source": [
    "nltk.pos_tag(word_tokenize(cumle)) # her bir kelimenin ne olduğunu yazdı. pos tagging"
   ]
  },
  {
   "cell_type": "code",
   "execution_count": 53,
   "id": "9d0f337c-8a22-4167-8925-d65876b4c128",
   "metadata": {},
   "outputs": [],
   "source": [
    "text=word_tokenize(\"it is a pleasant day today\")"
   ]
  },
  {
   "cell_type": "code",
   "execution_count": 54,
   "id": "5929fe62-df15-471a-9687-103575687807",
   "metadata": {},
   "outputs": [
    {
     "data": {
      "text/plain": [
       "[('it', 'PRP'),\n",
       " ('is', 'VBZ'),\n",
       " ('a', 'DT'),\n",
       " ('pleasant', 'JJ'),\n",
       " ('day', 'NN'),\n",
       " ('today', 'NN')]"
      ]
     },
     "execution_count": 54,
     "metadata": {},
     "output_type": "execute_result"
    }
   ],
   "source": [
    "nltk.pos_tag(text)"
   ]
  },
  {
   "cell_type": "code",
   "execution_count": 55,
   "id": "9273c441-98d5-41fe-a0d7-bcba6daaba45",
   "metadata": {},
   "outputs": [],
   "source": [
    "from nltk.tag import DefaultTagger"
   ]
  },
  {
   "cell_type": "code",
   "execution_count": 56,
   "id": "416027b4-9058-4375-926c-249bf5819e0e",
   "metadata": {},
   "outputs": [],
   "source": [
    "tag=DefaultTagger(\"He is the man\")"
   ]
  },
  {
   "cell_type": "code",
   "execution_count": 57,
   "id": "442e2ba5-41ff-4b43-8553-ef854fec07ca",
   "metadata": {},
   "outputs": [
    {
     "data": {
      "text/plain": [
       "[('beatiful', 'He is the man'), ('morning', 'He is the man')]"
      ]
     },
     "execution_count": 57,
     "metadata": {},
     "output_type": "execute_result"
    }
   ],
   "source": [
    "tag.tag([\"beatiful\",\"morning\"])"
   ]
  },
  {
   "cell_type": "code",
   "execution_count": 58,
   "id": "1845ff88-b337-49b1-8f17-6c0c6ffd5c2b",
   "metadata": {},
   "outputs": [
    {
     "name": "stdout",
     "output_type": "stream",
     "text": [
      "Defaulting to user installation because normal site-packages is not writeable"
     ]
    },
    {
     "name": "stderr",
     "output_type": "stream",
     "text": [
      "\n",
      "[notice] A new release of pip available: 22.2.2 -> 22.3\n",
      "[notice] To update, run: python.exe -m pip install --upgrade pip\n"
     ]
    },
    {
     "name": "stdout",
     "output_type": "stream",
     "text": [
      "\n",
      "Requirement already satisfied: autocorrect in c:\\users\\betül ünver\\appdata\\roaming\\python\\python38\\site-packages (2.6.1)\n"
     ]
    }
   ],
   "source": [
    "!pip install autocorrect"
   ]
  },
  {
   "cell_type": "code",
   "execution_count": 59,
   "id": "ef6ab3b0-b8c5-4639-b937-2958eeb2f311",
   "metadata": {},
   "outputs": [],
   "source": [
    "from autocorrect import spell"
   ]
  },
  {
   "cell_type": "code",
   "execution_count": 60,
   "id": "db010e96-67eb-469f-90d0-7cb50b9900a5",
   "metadata": {},
   "outputs": [
    {
     "name": "stdout",
     "output_type": "stream",
     "text": [
      "autocorrect.spell is deprecated,             use autocorrect.Speller instead\n"
     ]
    },
    {
     "data": {
      "text/plain": [
       "'the'"
      ]
     },
     "execution_count": 60,
     "metadata": {},
     "output_type": "execute_result"
    }
   ],
   "source": [
    "spell(\"tghe\")"
   ]
  },
  {
   "cell_type": "code",
   "execution_count": 61,
   "id": "cb956588-cedd-4390-8781-5ce75af75d64",
   "metadata": {},
   "outputs": [
    {
     "name": "stdout",
     "output_type": "stream",
     "text": [
      "Defaulting to user installation because normal site-packages is not writeable\n",
      "Requirement already satisfied: textblob in c:\\users\\betül ünver\\appdata\\roaming\\python\\python38\\site-packages (0.17.1)\n",
      "Requirement already satisfied: nltk>=3.1 in c:\\users\\betül ünver\\appdata\\roaming\\python\\python38\\site-packages (from textblob) (3.7)\n",
      "Requirement already satisfied: tqdm in c:\\users\\betül ünver\\appdata\\roaming\\python\\python38\\site-packages (from nltk>=3.1->textblob) (4.64.1)\n",
      "Requirement already satisfied: regex>=2021.8.3 in c:\\users\\betül ünver\\appdata\\roaming\\python\\python38\\site-packages (from nltk>=3.1->textblob) (2022.9.13)\n",
      "Requirement already satisfied: click in c:\\users\\betül ünver\\appdata\\roaming\\python\\python38\\site-packages (from nltk>=3.1->textblob) (8.1.3)\n",
      "Requirement already satisfied: joblib in c:\\users\\betül ünver\\appdata\\roaming\\python\\python38\\site-packages (from nltk>=3.1->textblob) (1.2.0)\n",
      "Requirement already satisfied: colorama in c:\\users\\betül ünver\\appdata\\roaming\\python\\python38\\site-packages (from click->nltk>=3.1->textblob) (0.4.4)"
     ]
    },
    {
     "name": "stderr",
     "output_type": "stream",
     "text": [
      "\n",
      "[notice] A new release of pip available: 22.2.2 -> 22.3\n",
      "[notice] To update, run: python.exe -m pip install --upgrade pip\n"
     ]
    },
    {
     "name": "stdout",
     "output_type": "stream",
     "text": [
      "\n"
     ]
    }
   ],
   "source": [
    "!pip install --trusted-host pypi.python.org textblob"
   ]
  },
  {
   "cell_type": "code",
   "execution_count": 62,
   "id": "4f5874e1-765c-478e-87b1-4fc37b82264b",
   "metadata": {},
   "outputs": [],
   "source": [
    "from textblob import TextBlob"
   ]
  },
  {
   "cell_type": "code",
   "execution_count": 63,
   "id": "b1a3ca0d-6d9c-4ed3-8c59-a542eca301dc",
   "metadata": {},
   "outputs": [],
   "source": [
    "b=TextBlob(\"I havv good spelling\")"
   ]
  },
  {
   "cell_type": "code",
   "execution_count": 64,
   "id": "a4e5015c-54a4-4917-8321-9929a414d695",
   "metadata": {},
   "outputs": [],
   "source": [
    "# hangi dilde anlayacak ve yanlışı düzeltecek"
   ]
  },
  {
   "cell_type": "code",
   "execution_count": 65,
   "id": "966771aa-28cd-4867-82f1-7d517c7a4990",
   "metadata": {},
   "outputs": [],
   "source": [
    "#b.detect_language() çalışmadı"
   ]
  },
  {
   "cell_type": "code",
   "execution_count": 66,
   "id": "22664818-9c9c-4f03-a435-3438283f540b",
   "metadata": {},
   "outputs": [
    {
     "data": {
      "text/plain": [
       "TextBlob(\"I have good spelling\")"
      ]
     },
     "execution_count": 66,
     "metadata": {},
     "output_type": "execute_result"
    }
   ],
   "source": [
    "b.correct()"
   ]
  },
  {
   "cell_type": "code",
   "execution_count": 67,
   "id": "0d446f93-c479-4609-ba0a-8db5016196f9",
   "metadata": {},
   "outputs": [
    {
     "name": "stdout",
     "output_type": "stream",
     "text": [
      "Defaulting to user installation because normal site-packages is not writeable"
     ]
    },
    {
     "name": "stderr",
     "output_type": "stream",
     "text": [
      "\n",
      "[notice] A new release of pip available: 22.2.2 -> 22.3\n",
      "[notice] To update, run: python.exe -m pip install --upgrade pip\n"
     ]
    },
    {
     "name": "stdout",
     "output_type": "stream",
     "text": [
      "\n",
      "Requirement already satisfied: langdetect in c:\\users\\betül ünver\\appdata\\roaming\\python\\python38\\site-packages (1.0.9)\n",
      "Requirement already satisfied: six in c:\\users\\betül ünver\\appdata\\roaming\\python\\python38\\site-packages (from langdetect) (1.15.0)\n"
     ]
    }
   ],
   "source": [
    "!pip install langdetect"
   ]
  },
  {
   "cell_type": "code",
   "execution_count": 68,
   "id": "7626c096-4b20-42a0-9440-c87a0fb17410",
   "metadata": {},
   "outputs": [],
   "source": [
    "from langdetect import detect"
   ]
  },
  {
   "cell_type": "code",
   "execution_count": 69,
   "id": "726ac38a-55fd-45e5-b57d-a7d03a4cc8d9",
   "metadata": {},
   "outputs": [
    {
     "data": {
      "text/plain": [
       "'de'"
      ]
     },
     "execution_count": 69,
     "metadata": {},
     "output_type": "execute_result"
    }
   ],
   "source": [
    "detect(\"Ein, zwei, vier\") #hangi dil olduğunu anlıyor"
   ]
  },
  {
   "cell_type": "code",
   "execution_count": 70,
   "id": "22ae3c07-dc02-4083-a22c-d336592201ae",
   "metadata": {},
   "outputs": [
    {
     "data": {
      "text/plain": [
       "'tr'"
      ]
     },
     "execution_count": 70,
     "metadata": {},
     "output_type": "execute_result"
    }
   ],
   "source": [
    "detect(\"Döndü dönmedi\")"
   ]
  },
  {
   "cell_type": "code",
   "execution_count": 71,
   "id": "3812e043-88c7-4b05-8a83-7e00e3135812",
   "metadata": {},
   "outputs": [
    {
     "data": {
      "text/plain": [
       "'tr'"
      ]
     },
     "execution_count": 71,
     "metadata": {},
     "output_type": "execute_result"
    }
   ],
   "source": [
    "detect(\"Nasılsınız\")"
   ]
  },
  {
   "cell_type": "code",
   "execution_count": 72,
   "id": "71070d7a-47e9-4d80-91d4-a943b1c754fe",
   "metadata": {},
   "outputs": [
    {
     "data": {
      "text/plain": [
       "'es'"
      ]
     },
     "execution_count": 72,
     "metadata": {},
     "output_type": "execute_result"
    }
   ],
   "source": [
    "detect(\"Eu gosto de vier\")"
   ]
  },
  {
   "cell_type": "code",
   "execution_count": 73,
   "id": "0630f846-396c-4a40-8478-3991686ef98e",
   "metadata": {},
   "outputs": [
    {
     "data": {
      "text/plain": [
       "'id'"
      ]
     },
     "execution_count": 73,
     "metadata": {},
     "output_type": "execute_result"
    }
   ],
   "source": [
    "detect(\"Merhaba\")"
   ]
  },
  {
   "cell_type": "code",
   "execution_count": 74,
   "id": "bda1ee99-f3c3-4a54-b943-4bd4e89d8df3",
   "metadata": {},
   "outputs": [],
   "source": [
    "# iki kelimeyle bakmak daha sağlıklı. mesela ingilizce phrasel verb var. look başka look up başka, look for başka"
   ]
  },
  {
   "cell_type": "code",
   "execution_count": 75,
   "id": "89d17788-4932-4007-a7a0-093079f6fb54",
   "metadata": {},
   "outputs": [],
   "source": [
    "#Speech to Text"
   ]
  },
  {
   "cell_type": "code",
   "execution_count": 76,
   "id": "75619989-35cc-4c14-8797-5a2bd0664f72",
   "metadata": {},
   "outputs": [],
   "source": [
    "c=\"I am a free black man from Africa\""
   ]
  },
  {
   "cell_type": "code",
   "execution_count": 77,
   "id": "d63c31f0-9f3e-4a30-b5e7-3215eaaa0b81",
   "metadata": {},
   "outputs": [],
   "source": [
    "b=TextBlob(c)"
   ]
  },
  {
   "cell_type": "code",
   "execution_count": 78,
   "id": "71915185-f744-4b92-9fa0-ba538a1241cd",
   "metadata": {},
   "outputs": [
    {
     "data": {
      "text/plain": [
       "TextBlob(\"Afrika'dan özgür bir siyah adamım\")"
      ]
     },
     "execution_count": 78,
     "metadata": {},
     "output_type": "execute_result"
    }
   ],
   "source": [
    "b.translate(from_lang=\"en\",to=\"tr\")"
   ]
  },
  {
   "cell_type": "code",
   "execution_count": 79,
   "id": "b95eb017-971d-4c16-9edc-316b9ff22910",
   "metadata": {},
   "outputs": [],
   "source": [
    "k=\"hayat kısa, kuşlar uçuyor\""
   ]
  },
  {
   "cell_type": "code",
   "execution_count": 80,
   "id": "39d3d73c-5f51-4b69-b925-dbdd50760b4d",
   "metadata": {},
   "outputs": [],
   "source": [
    "b=TextBlob(k)"
   ]
  },
  {
   "cell_type": "code",
   "execution_count": 81,
   "id": "121b1418-d077-4efc-8770-8823385b6836",
   "metadata": {},
   "outputs": [
    {
     "data": {
      "text/plain": [
       "TextBlob(\"الحياة قصيرة ، الطيور تطير\")"
      ]
     },
     "execution_count": 81,
     "metadata": {},
     "output_type": "execute_result"
    }
   ],
   "source": [
    "b.translate(\"tr\",\"ar\")"
   ]
  },
  {
   "cell_type": "code",
   "execution_count": 82,
   "id": "72fde2b5-3004-4e82-873a-1ea088d78f2d",
   "metadata": {},
   "outputs": [],
   "source": [
    "l=\"Benim çok işim var, bana bulaşma\""
   ]
  },
  {
   "cell_type": "code",
   "execution_count": 83,
   "id": "d6a9ae6d-ecdd-4131-9951-d06e3184a9be",
   "metadata": {},
   "outputs": [],
   "source": [
    "b=TextBlob(l)"
   ]
  },
  {
   "cell_type": "code",
   "execution_count": 84,
   "id": "ea4376fa-1a9f-4b07-b89f-d59efba946ce",
   "metadata": {},
   "outputs": [
    {
     "data": {
      "text/plain": [
       "TextBlob(\"I have a lot of work, don't get involved in me\")"
      ]
     },
     "execution_count": 84,
     "metadata": {},
     "output_type": "execute_result"
    }
   ],
   "source": [
    "b.translate(\"tr\",\"en\")"
   ]
  },
  {
   "cell_type": "code",
   "execution_count": 85,
   "id": "dd8732e7-2250-4f52-8d38-2b71e0dccdc5",
   "metadata": {},
   "outputs": [],
   "source": [
    "#TF-IDF -> Term Frequency  - Inverse documnet frequency\n",
    "#1- Cümle document\n",
    "#2- Bütün sayfa document\n",
    "#3- Web sitesi\n",
    "#4- Kitap\n"
   ]
  },
  {
   "cell_type": "code",
   "execution_count": 86,
   "id": "aa199346-9bcd-4693-8c09-353e09082a80",
   "metadata": {},
   "outputs": [
    {
     "name": "stdout",
     "output_type": "stream",
     "text": [
      "Defaulting to user installation because normal site-packages is not writeable\n",
      "Requirement already satisfied: google in c:\\users\\betül ünver\\appdata\\roaming\\python\\python38\\site-packages (3.0.0)\n",
      "Requirement already satisfied: beautifulsoup4 in c:\\program files\\python38\\lib\\site-packages (from google) (4.11.1)\n",
      "Requirement already satisfied: soupsieve>1.2 in c:\\program files\\python38\\lib\\site-packages (from beautifulsoup4->google) (2.3.2.post1)\n"
     ]
    },
    {
     "name": "stderr",
     "output_type": "stream",
     "text": [
      "\n",
      "[notice] A new release of pip available: 22.2.2 -> 22.3\n",
      "[notice] To update, run: python.exe -m pip install --upgrade pip\n"
     ]
    }
   ],
   "source": [
    "!pip install google"
   ]
  },
  {
   "cell_type": "code",
   "execution_count": 87,
   "id": "f065b130-97ea-4505-a540-bc3558ab52a0",
   "metadata": {},
   "outputs": [],
   "source": [
    "from googlesearch import search"
   ]
  },
  {
   "cell_type": "code",
   "execution_count": 88,
   "id": "e934e1fc-be1b-46e8-a215-2dc78cf56fc4",
   "metadata": {
    "collapsed": true,
    "jupyter": {
     "outputs_hidden": true
    },
    "tags": []
   },
   "outputs": [
    {
     "name": "stdout",
     "output_type": "stream",
     "text": [
      "https://tr.linkedin.com/in/bet%C3%BCl-%C3%BCnver-40052b170\n",
      "https://tr.linkedin.com/in/betul-unver\n",
      "https://tr-tr.facebook.com/public/Bet%C3%BCl-%C3%9Cnver\n",
      "https://www.instagram.com/betulunverrrr/\n",
      "https://www.instagram.com/betul.unver/\n",
      "https://twitter.com/btlunvr\n",
      "https://www.kariyer.net/ozgecmis/betulunver\n",
      "https://iam.metu.edu.tr/en/student-assistants\n",
      "https://magizeroo.meb.k12.tr/01/01/724817/idari_personel/betul-unver_1435765.html\n",
      "https://tr.pinterest.com/betul_unver/\n",
      "https://tez.yok.gov.tr/UlusalTezMerkezi/tezDetay.jsp?id=lwZrS6aXCIzglKcLHnoAEg&no=HRd1xs7eCeoP7E7y0ya_Ig\n",
      "https://www.kitapsec.com/mobil/betul-unver_yzr74262/\n",
      "https://tr.foursquare.com/user/60533581\n",
      "https://www.bulurum.com/details/15d037_e7iad615d4_42b4353d24a_6k\n",
      "https://medium.com/batech/about\n",
      "https://medium.com/@betul.unver/about\n",
      "https://dergipark.org.tr/tr/pub/anatomy/issue/57163/690251\n",
      "https://www.youtube.com/channel/UCFv7ni4vihlwNrO59RBqONQ\n",
      "https://skiguide-patty.at/merve-erta%C5%9F-bilge-adam.html\n",
      "https://www.anadolu.edu.tr/en/about-anadolu-1/about-anadolu/institutional/prof-dr-betul-demirci-en\n",
      "https://github.com/betulunver\n",
      "http://www.iibf.mu.edu.tr/Icerik/iibf.mu.edu.tr/Sayfa/KAY1009%20Y%C3%B6netim%20Bilimi.pdf\n",
      "https://www.ataekitap.com/e-kitaplar/ilkokul/3-Sinif/3_Sinif_Citir_Citir_Matematik_Calisma_Kitabim/files/basic-html/page2.html\n",
      "https://www.tiktok.com/@betul.koksoy.unver\n",
      "https://www.doktortakvimi.com/betul-unverdi/pratisyen/amasya\n",
      "https://mlu.boun.edu.tr/en/people/betul-ozturk\n",
      "https://krtknadmn.karatekin.edu.tr/files/islamiilimler/2019/2019%20ders%20se%C3%A7mesi/1.%20S%C4%B1n%C4%B1f%201.%20%C3%B6%C4%9Fretim%203.%20%C5%9Fube.docx\n",
      "https://www.kitapiste.com/Betul-Unver_ar_4110\n",
      "https://bayburt.edu.tr/en/betul-akturk\n",
      "https://atilim.libcal.com/appointment/29456\n",
      "https://kocaelisaglik.edu.tr/en/betul-buyukkilic-altinbasak-2/\n",
      "https://sivasism.saglik.gov.tr/Eklenti/163480/0/sivas-il-saglik-mudurlugu-2022-yili-1-grup-aday-memur-hazirlayici-egitim-sinav-sonuclaripdf.pdf\n",
      "https://law.ku.edu.tr/people/alumni/betul-durmus/\n",
      "https://www.sahibinden.com/ilan/ikinci-el-ve-sifir-alisveris-muzik-muzik-aletleri-kawai-kdp110-b-dijital-piyano-1048797476/detay\n",
      "https://www.ozyegin.edu.tr/en/faculty/betulsenturk\n",
      "https://golfkimya.com/iletisim\n",
      "https://www.kacarlab.org/betul\n",
      "https://mimoza.marmara.edu.tr/~betul.demiroz/\n",
      "https://biz.nevsehir.edu.tr/betulsimsek/en\n",
      "https://bbayraktar.sakarya.edu.tr/en/galeri\n",
      "https://www.hekimler.net/betul-unverdi-elden\n",
      "https://atauni.edu.tr/betul-apaydin-yildirim\n",
      "https://www.hakkari.edu.tr/en/blog/user/9223/betul-guney\n",
      "https://staff.yasar.edu.tr/Create/Cv/VFVScmVWUkhaekJ45YTA1MlRrUkplazFVWXpJ45$xYSR/en\n",
      "https://www.researchgate.net/profile/Betuel-Yilmaz-Oeztuerk\n",
      "https://tip.uludag.edu.tr/en/betul-berrin-sevinir\n",
      "https://sehir.academia.edu/Bet%C3%BClS%C4%B0NANN%C4%B0ZAM\n",
      "https://www.research.manchester.ac.uk/portal/betul.yilmaz.html\n",
      "https://www.bilgi.edu.tr/en/academic/staff/betul-budak/\n",
      "http://www.cagsuduzce.com/tr/EBebek.asp?BId=6856\n",
      "https://www.kitapisler.com/Betul-Unver_ar_3740\n",
      "http://ww3.ticaret.edu.tr/bgur/\n",
      "https://www.uhhospitals.org/doctors/Hatipoglu-Betul-1245343862\n",
      "https://npistanbul.com/tibbi-kadro/zeynep-betul-alp\n",
      "https://www.gla.ac.uk/schools/psychologyneuroscience/staff/betultatar/\n",
      "https://w3.bilkent.edu.tr/bilkent/talk-cesitli-kent-parcalarini-deneyimlemek-ayca-keskin-fatma-betul-karakaya-p2-tasarim-fb-309-12am-1pm-march-10-tr/\n",
      "https://www.nottingham.ac.uk/psychology/people/meryem.yasdiman\n",
      "https://che.uic.edu/profiles/betul-bilgin/\n",
      "https://www.kitabinabak.com/kitap/ata-3-sinif-citir-citir-matematik-calisma-kitabim-ata-yayincilik----ata--kbk--9786052610855\n",
      "https://www.stir.ac.uk/people/1004375\n",
      "https://www.acarindex.com/journal-of-neurological-sciences-turkish/multiple-sklerozlu-hastalarda-yorgunluk-iliskili-faktorler-ve-basetme-davranislarinin-incelenmesi-712815\n",
      "https://gcris.eskisehir.edu.tr/browse?type=author&value=C%C4%B1nd%C4%B1k%2C+Bet%C3%BCl\n",
      "https://profiles.rice.edu/faculty/betul-orcan-ekmekci\n",
      "http://www.name-statistics.org/tr/numef.php?numedefamilie=%C3%9Cnver\n",
      "https://www.macrothink.org/journal/index.php/jse/search/authors/view?firstName=Bet%C3%BCl&middleName=&lastName=Balkar&affiliation=University%20of%20Gaziantep&country=\n",
      "https://www.erbakan.edu.tr/personel/3455/ahmet-unver/bildiriler\n",
      "https://search.trdizin.gov.tr/yayin/detay/182661/\n",
      "https://www.eur.nl/people/betul-kas\n",
      "https://shs.ieu.edu.tr/en/academic_personnel\n",
      "https://bau.edu.tr/kadro/6944-egitim-bilimleri-fakultesi\n",
      "https://www.doktorsitesi.com/dr-betul-unverdi/pratisyen-hekimlik/amasya\n",
      "https://www.durham.ac.uk/staff/betul-dogan-akkas/\n",
      "https://www.yenisafak.com/hayat/kazan-biz-kepce-2884138\n",
      "https://www.kent.ac.uk/kent-business-school/people/2434/coban-betul\n",
      "https://www.okulhaberleri.net/istiklal-marsini-guzel-okuma-yarismasi-2195618\n",
      "https://www.aa.com.tr/tr/yasam/karanlik-dunyalari-kuranla-aydinlaniyor/610928\n",
      "https://haberdairesi.com/konya/konya-barosu-yeni-baskanini-sececek-iste-adaylar-ve-oy-kullanacak-isimler-81911h\n",
      "http://www.bubhopal.ac.in/\n",
      "https://en.wikipedia.org/wiki/Betul,_Madhya_Pradesh\n",
      "https://sbf.dpu.edu.tr/\n",
      "https://avukatbilgisi.com/kars-ardahan-barosu-avukatlari/115101-beytul-unver\n",
      "http://www.tansusipahi.com.tr/ulusal-bildirilerin-listesi/\n",
      "https://www.rgpvdiploma.in/Exam/ProgramSelect.aspx\n",
      "https://onlinelibrary.wiley.com/doi/abs/10.1002/cpe.7393\n",
      "https://news.uark.edu/articles/62304/student-professional-chapter-takes-cum-laude-award-for-second-year\n",
      "https://tr.adrianaghollett.it/bilgin%20emlak%20urfa.html\n",
      "https://www.gop.edu.tr/\n",
      "http://www.malatyaguncel.com/dunya-para-taekwondo-grand-prixinde-millilerden-7-madalya-2162785h.htm\n",
      "http://www.malatyaguncel.com/sesli-siir-antolojisi-siir-tutkunlarini-bulusturacak-2162649h.htm\n",
      "https://xuym.pizzeriaraimondi.it/enes-batur-vikipedi.html\n",
      "https://www.telgraf.net/haber/nto-dunyanin-en-buyuk-gida-fuari-sial-parisde-haberi-111324.html\n",
      "https://www.habereguven.com/masa-basi-isler-beyninizi-nasil-degistirir-ve-neden-bu-kadar-yorucudur\n",
      "https://crga.vittorioorlandi.it/ahi-evran-hastanesi-trabzon.html\n",
      "https://pittnews.com/article/176300/top-stories/more-than-100-student-leaders-release-letter-urging-pitt-for-an-official-statement-on-situation-in-iran/\n",
      "https://jp.ambientelocri.it/zEyO5tredds\n",
      "https://raillynews.com/2022/10/izmirin-ilk-akademik-anaokulu-acildi/\n",
      "https://www.insidethegames.biz/articles/1129460/para-taekwondo-gp\n",
      "https://tsyh.amministrazioni-foresti.it/alper-toker-florence-nightingale.html\n",
      "https://www.getmyuni.com/master-of-business-studies-mbs-course\n",
      "https://www.getmyuni.com/master-of-financial-management-course\n",
      "https://magento.xojo.com/11-Direct-Marketing-Arif-Sari/fulldisplay?t=W2N5P0\n",
      "https://crazybollywood.com/a-serious-charge-on-delhi-university-the-faculty-of-law-failed-more-than-400-students-with-zero-marks-cb-news/\n",
      "https://www.merdeka.com/sumut/6-tokoh-dunia-yang-lahir-pada-20-oktober-salah-satunya-kamala-haris-kln.html\n",
      "https://asumsi.co/post/72341/yang-manis-tak-selalu-baik/\n",
      "https://www.bharian.com.my/hujung-minggu/sihat/2022/10/1014841/10000-langkah-bukan-cara-turunkan-berat-badan-jadi-apa\n",
      "https://metro.sindonews.com/read/919673/170/kapolda-metro-jaya-minta-jajarannya-tidak-bergaya-hidup-mewah-1666422634\n"
     ]
    }
   ],
   "source": [
    "for i in search(\"Betül Ünver\",lang=\"tr\"):\n",
    "    print(i)"
   ]
  },
  {
   "cell_type": "code",
   "execution_count": 89,
   "id": "854b1c7e-ad2e-4b7e-ac3f-74a1591e4022",
   "metadata": {},
   "outputs": [],
   "source": [
    "#graph theary - 6 kişiyle birine ulaşılabiliyor\n",
    "#graph theory airlines"
   ]
  },
  {
   "cell_type": "code",
   "execution_count": 90,
   "id": "8621e6a9-3413-413f-841b-3cb374293946",
   "metadata": {},
   "outputs": [],
   "source": [
    "#vectorizer -> geçen her bir kelime için sütün açıp geçtiği yere 1 deme işi. cümle içinde geçiyor mu ?"
   ]
  },
  {
   "cell_type": "code",
   "execution_count": 91,
   "id": "45b1431a-402d-4151-af4b-20638a614e00",
   "metadata": {},
   "outputs": [],
   "source": [
    "#aynı uzunluktaki vektörü diğer dillerde bulup çeviri yapıyurz"
   ]
  },
  {
   "cell_type": "code",
   "execution_count": 92,
   "id": "415378a9-d02c-498d-9e5e-30dfbffe65f4",
   "metadata": {},
   "outputs": [],
   "source": [
    "from sklearn.feature_extraction.text import CountVectorizer, TfidfVectorizer #bu işleri bu paketlerle yapacağız."
   ]
  },
  {
   "cell_type": "code",
   "execution_count": 93,
   "id": "b467d4f0-a752-4d42-ba95-9b8dcb813d1f",
   "metadata": {},
   "outputs": [],
   "source": [
    "cumle=\"Call you tonight\",\"Call me a cab\",\"please, call me.....PLEASE!\""
   ]
  },
  {
   "cell_type": "code",
   "execution_count": 94,
   "id": "8db9d970-9c71-4887-91d4-a310fb009c93",
   "metadata": {},
   "outputs": [],
   "source": [
    "vect=CountVectorizer() # n boyutlu dizi oluşturuyor. aynı kelimeleri 1 defa sayıyor. "
   ]
  },
  {
   "cell_type": "code",
   "execution_count": 95,
   "id": "4df56a0b-d1b6-4d5f-bc17-5698ab482c39",
   "metadata": {},
   "outputs": [],
   "source": [
    "import pandas as pd"
   ]
  },
  {
   "cell_type": "code",
   "execution_count": 96,
   "id": "fe09ff14-1c29-4842-ac2e-f28928361cf2",
   "metadata": {},
   "outputs": [
    {
     "name": "stderr",
     "output_type": "stream",
     "text": [
      "C:\\Users\\Betül Ünver\\AppData\\Roaming\\Python\\Python38\\site-packages\\sklearn\\utils\\deprecation.py:87: FutureWarning: Function get_feature_names is deprecated; get_feature_names is deprecated in 1.0 and will be removed in 1.2. Please use get_feature_names_out instead.\n",
      "  warnings.warn(msg, category=FutureWarning)\n"
     ]
    }
   ],
   "source": [
    "tf=pd.DataFrame(vect.fit_transform(cumle).toarray(),columns=vect.get_feature_names())"
   ]
  },
  {
   "cell_type": "code",
   "execution_count": 97,
   "id": "5b06744d-0fe4-4292-8143-9c959926252e",
   "metadata": {},
   "outputs": [
    {
     "data": {
      "text/html": [
       "<div>\n",
       "<style scoped>\n",
       "    .dataframe tbody tr th:only-of-type {\n",
       "        vertical-align: middle;\n",
       "    }\n",
       "\n",
       "    .dataframe tbody tr th {\n",
       "        vertical-align: top;\n",
       "    }\n",
       "\n",
       "    .dataframe thead th {\n",
       "        text-align: right;\n",
       "    }\n",
       "</style>\n",
       "<table border=\"1\" class=\"dataframe\">\n",
       "  <thead>\n",
       "    <tr style=\"text-align: right;\">\n",
       "      <th></th>\n",
       "      <th>cab</th>\n",
       "      <th>call</th>\n",
       "      <th>me</th>\n",
       "      <th>please</th>\n",
       "      <th>tonight</th>\n",
       "      <th>you</th>\n",
       "    </tr>\n",
       "  </thead>\n",
       "  <tbody>\n",
       "    <tr>\n",
       "      <th>0</th>\n",
       "      <td>0</td>\n",
       "      <td>1</td>\n",
       "      <td>0</td>\n",
       "      <td>0</td>\n",
       "      <td>1</td>\n",
       "      <td>1</td>\n",
       "    </tr>\n",
       "    <tr>\n",
       "      <th>1</th>\n",
       "      <td>1</td>\n",
       "      <td>1</td>\n",
       "      <td>1</td>\n",
       "      <td>0</td>\n",
       "      <td>0</td>\n",
       "      <td>0</td>\n",
       "    </tr>\n",
       "    <tr>\n",
       "      <th>2</th>\n",
       "      <td>0</td>\n",
       "      <td>1</td>\n",
       "      <td>1</td>\n",
       "      <td>2</td>\n",
       "      <td>0</td>\n",
       "      <td>0</td>\n",
       "    </tr>\n",
       "  </tbody>\n",
       "</table>\n",
       "</div>"
      ],
      "text/plain": [
       "   cab  call  me  please  tonight  you\n",
       "0    0     1   0       0        1    1\n",
       "1    1     1   1       0        0    0\n",
       "2    0     1   1       2        0    0"
      ]
     },
     "execution_count": 97,
     "metadata": {},
     "output_type": "execute_result"
    }
   ],
   "source": [
    "tf"
   ]
  },
  {
   "cell_type": "code",
   "execution_count": 98,
   "id": "3f36fa64-7451-4a03-9be5-9bc597148207",
   "metadata": {},
   "outputs": [],
   "source": [
    "#büyül ve küçük olan Call kelimesini aynı kabul etmiş, \" a \" yi kelime o larak kabul etmemiş, tekrarlananları tek sefer yazmış,her kelime içn sütun açmış"
   ]
  },
  {
   "cell_type": "code",
   "execution_count": 99,
   "id": "56b44bb4-ce91-4dd0-bbb7-715278a6ef9e",
   "metadata": {},
   "outputs": [],
   "source": [
    "vect=CountVectorizer()\n",
    "df=vect.fit_transform(cumle).toarray().sum(axis=0) #satırları topla"
   ]
  },
  {
   "cell_type": "code",
   "execution_count": 100,
   "id": "9ebaffc4-078b-4565-b514-3ec1473fe5f9",
   "metadata": {},
   "outputs": [
    {
     "data": {
      "text/plain": [
       "array([1, 3, 2, 2, 1, 1], dtype=int64)"
      ]
     },
     "execution_count": 100,
     "metadata": {},
     "output_type": "execute_result"
    }
   ],
   "source": [
    "df"
   ]
  },
  {
   "cell_type": "code",
   "execution_count": 101,
   "id": "ea256526-2985-404a-887f-139553deac4f",
   "metadata": {},
   "outputs": [
    {
     "name": "stderr",
     "output_type": "stream",
     "text": [
      "C:\\Users\\Betül Ünver\\AppData\\Roaming\\Python\\Python38\\site-packages\\sklearn\\utils\\deprecation.py:87: FutureWarning: Function get_feature_names is deprecated; get_feature_names is deprecated in 1.0 and will be removed in 1.2. Please use get_feature_names_out instead.\n",
      "  warnings.warn(msg, category=FutureWarning)\n"
     ]
    },
    {
     "data": {
      "text/html": [
       "<div>\n",
       "<style scoped>\n",
       "    .dataframe tbody tr th:only-of-type {\n",
       "        vertical-align: middle;\n",
       "    }\n",
       "\n",
       "    .dataframe tbody tr th {\n",
       "        vertical-align: top;\n",
       "    }\n",
       "\n",
       "    .dataframe thead th {\n",
       "        text-align: right;\n",
       "    }\n",
       "</style>\n",
       "<table border=\"1\" class=\"dataframe\">\n",
       "  <thead>\n",
       "    <tr style=\"text-align: right;\">\n",
       "      <th></th>\n",
       "      <th>cab</th>\n",
       "      <th>call</th>\n",
       "      <th>me</th>\n",
       "      <th>please</th>\n",
       "      <th>tonight</th>\n",
       "      <th>you</th>\n",
       "    </tr>\n",
       "  </thead>\n",
       "  <tbody>\n",
       "    <tr>\n",
       "      <th>0</th>\n",
       "      <td>1</td>\n",
       "      <td>3</td>\n",
       "      <td>2</td>\n",
       "      <td>2</td>\n",
       "      <td>1</td>\n",
       "      <td>1</td>\n",
       "    </tr>\n",
       "  </tbody>\n",
       "</table>\n",
       "</div>"
      ],
      "text/plain": [
       "   cab  call  me  please  tonight  you\n",
       "0    1     3   2       2        1    1"
      ]
     },
     "execution_count": 101,
     "metadata": {},
     "output_type": "execute_result"
    }
   ],
   "source": [
    "pd.DataFrame(df.reshape(1,6),columns=vect.get_feature_names()) #reshape  dataframe oalrak göstrebilmek için. ilkten hata verdi."
   ]
  },
  {
   "cell_type": "code",
   "execution_count": 102,
   "id": "42021b5e-1739-4e3b-b4d0-67c211e3cd26",
   "metadata": {},
   "outputs": [
    {
     "data": {
      "text/html": [
       "<div>\n",
       "<style scoped>\n",
       "    .dataframe tbody tr th:only-of-type {\n",
       "        vertical-align: middle;\n",
       "    }\n",
       "\n",
       "    .dataframe tbody tr th {\n",
       "        vertical-align: top;\n",
       "    }\n",
       "\n",
       "    .dataframe thead th {\n",
       "        text-align: right;\n",
       "    }\n",
       "</style>\n",
       "<table border=\"1\" class=\"dataframe\">\n",
       "  <thead>\n",
       "    <tr style=\"text-align: right;\">\n",
       "      <th></th>\n",
       "      <th>cab</th>\n",
       "      <th>call</th>\n",
       "      <th>me</th>\n",
       "      <th>please</th>\n",
       "      <th>tonight</th>\n",
       "      <th>you</th>\n",
       "    </tr>\n",
       "  </thead>\n",
       "  <tbody>\n",
       "    <tr>\n",
       "      <th>0</th>\n",
       "      <td>0.0</td>\n",
       "      <td>0.333333</td>\n",
       "      <td>0.0</td>\n",
       "      <td>0.0</td>\n",
       "      <td>1.0</td>\n",
       "      <td>1.0</td>\n",
       "    </tr>\n",
       "    <tr>\n",
       "      <th>1</th>\n",
       "      <td>1.0</td>\n",
       "      <td>0.333333</td>\n",
       "      <td>0.5</td>\n",
       "      <td>0.0</td>\n",
       "      <td>0.0</td>\n",
       "      <td>0.0</td>\n",
       "    </tr>\n",
       "    <tr>\n",
       "      <th>2</th>\n",
       "      <td>0.0</td>\n",
       "      <td>0.333333</td>\n",
       "      <td>0.5</td>\n",
       "      <td>1.0</td>\n",
       "      <td>0.0</td>\n",
       "      <td>0.0</td>\n",
       "    </tr>\n",
       "  </tbody>\n",
       "</table>\n",
       "</div>"
      ],
      "text/plain": [
       "   cab      call   me  please  tonight  you\n",
       "0  0.0  0.333333  0.0     0.0      1.0  1.0\n",
       "1  1.0  0.333333  0.5     0.0      0.0  0.0\n",
       "2  0.0  0.333333  0.5     1.0      0.0  0.0"
      ]
     },
     "execution_count": 102,
     "metadata": {},
     "output_type": "execute_result"
    }
   ],
   "source": [
    "tf/df # cümle içinde geçme oranları tfidf oranı da bu"
   ]
  },
  {
   "cell_type": "code",
   "execution_count": 103,
   "id": "781983e2-caf4-44aa-890a-7fa9bf43568e",
   "metadata": {},
   "outputs": [],
   "source": [
    "#Tfidf vektör uzunluğunu buluyoruz."
   ]
  },
  {
   "cell_type": "code",
   "execution_count": 104,
   "id": "e63dc184-10d8-4e0b-bc32-7d82cfdced56",
   "metadata": {},
   "outputs": [],
   "source": [
    "vect=TfidfVectorizer()"
   ]
  },
  {
   "cell_type": "code",
   "execution_count": 105,
   "id": "f43a3bd0-d614-49d1-a7d8-faf11cafb489",
   "metadata": {},
   "outputs": [
    {
     "name": "stderr",
     "output_type": "stream",
     "text": [
      "C:\\Users\\Betül Ünver\\AppData\\Roaming\\Python\\Python38\\site-packages\\sklearn\\utils\\deprecation.py:87: FutureWarning: Function get_feature_names is deprecated; get_feature_names is deprecated in 1.0 and will be removed in 1.2. Please use get_feature_names_out instead.\n",
      "  warnings.warn(msg, category=FutureWarning)\n"
     ]
    },
    {
     "data": {
      "text/html": [
       "<div>\n",
       "<style scoped>\n",
       "    .dataframe tbody tr th:only-of-type {\n",
       "        vertical-align: middle;\n",
       "    }\n",
       "\n",
       "    .dataframe tbody tr th {\n",
       "        vertical-align: top;\n",
       "    }\n",
       "\n",
       "    .dataframe thead th {\n",
       "        text-align: right;\n",
       "    }\n",
       "</style>\n",
       "<table border=\"1\" class=\"dataframe\">\n",
       "  <thead>\n",
       "    <tr style=\"text-align: right;\">\n",
       "      <th></th>\n",
       "      <th>cab</th>\n",
       "      <th>call</th>\n",
       "      <th>me</th>\n",
       "      <th>please</th>\n",
       "      <th>tonight</th>\n",
       "      <th>you</th>\n",
       "    </tr>\n",
       "  </thead>\n",
       "  <tbody>\n",
       "    <tr>\n",
       "      <th>0</th>\n",
       "      <td>0.000000</td>\n",
       "      <td>0.385372</td>\n",
       "      <td>0.000000</td>\n",
       "      <td>0.000000</td>\n",
       "      <td>0.652491</td>\n",
       "      <td>0.652491</td>\n",
       "    </tr>\n",
       "    <tr>\n",
       "      <th>1</th>\n",
       "      <td>0.720333</td>\n",
       "      <td>0.425441</td>\n",
       "      <td>0.547832</td>\n",
       "      <td>0.000000</td>\n",
       "      <td>0.000000</td>\n",
       "      <td>0.000000</td>\n",
       "    </tr>\n",
       "    <tr>\n",
       "      <th>2</th>\n",
       "      <td>0.000000</td>\n",
       "      <td>0.266075</td>\n",
       "      <td>0.342620</td>\n",
       "      <td>0.901008</td>\n",
       "      <td>0.000000</td>\n",
       "      <td>0.000000</td>\n",
       "    </tr>\n",
       "  </tbody>\n",
       "</table>\n",
       "</div>"
      ],
      "text/plain": [
       "        cab      call        me    please   tonight       you\n",
       "0  0.000000  0.385372  0.000000  0.000000  0.652491  0.652491\n",
       "1  0.720333  0.425441  0.547832  0.000000  0.000000  0.000000\n",
       "2  0.000000  0.266075  0.342620  0.901008  0.000000  0.000000"
      ]
     },
     "execution_count": 105,
     "metadata": {},
     "output_type": "execute_result"
    }
   ],
   "source": [
    "pd.DataFrame(vect.fit_transform(cumle).toarray(),columns=vect.get_feature_names())"
   ]
  },
  {
   "cell_type": "code",
   "execution_count": 106,
   "id": "fc287bf7-4c4e-40d9-954f-7bd1e990b870",
   "metadata": {},
   "outputs": [],
   "source": [
    "import pandas as pd"
   ]
  },
  {
   "cell_type": "code",
   "execution_count": 107,
   "id": "2729762f-8534-4968-8ef7-34842ac291b6",
   "metadata": {},
   "outputs": [],
   "source": [
    "yelp=pd.read_csv(\"yelp.csv\")"
   ]
  },
  {
   "cell_type": "code",
   "execution_count": 108,
   "id": "89c4bd50-d283-424b-881d-31bce6364461",
   "metadata": {
    "collapsed": true,
    "jupyter": {
     "outputs_hidden": true
    },
    "tags": []
   },
   "outputs": [
    {
     "data": {
      "text/html": [
       "<div>\n",
       "<style scoped>\n",
       "    .dataframe tbody tr th:only-of-type {\n",
       "        vertical-align: middle;\n",
       "    }\n",
       "\n",
       "    .dataframe tbody tr th {\n",
       "        vertical-align: top;\n",
       "    }\n",
       "\n",
       "    .dataframe thead th {\n",
       "        text-align: right;\n",
       "    }\n",
       "</style>\n",
       "<table border=\"1\" class=\"dataframe\">\n",
       "  <thead>\n",
       "    <tr style=\"text-align: right;\">\n",
       "      <th></th>\n",
       "      <th>business_id</th>\n",
       "      <th>date</th>\n",
       "      <th>review_id</th>\n",
       "      <th>stars</th>\n",
       "      <th>text</th>\n",
       "      <th>type</th>\n",
       "      <th>user_id</th>\n",
       "      <th>cool</th>\n",
       "      <th>useful</th>\n",
       "      <th>funny</th>\n",
       "    </tr>\n",
       "  </thead>\n",
       "  <tbody>\n",
       "    <tr>\n",
       "      <th>0</th>\n",
       "      <td>9yKzy9PApeiPPOUJEtnvkg</td>\n",
       "      <td>2011-01-26</td>\n",
       "      <td>fWKvX83p0-ka4JS3dc6E5A</td>\n",
       "      <td>5</td>\n",
       "      <td>My wife took me here on my birthday for breakf...</td>\n",
       "      <td>review</td>\n",
       "      <td>rLtl8ZkDX5vH5nAx9C3q5Q</td>\n",
       "      <td>2</td>\n",
       "      <td>5</td>\n",
       "      <td>0</td>\n",
       "    </tr>\n",
       "    <tr>\n",
       "      <th>1</th>\n",
       "      <td>ZRJwVLyzEJq1VAihDhYiow</td>\n",
       "      <td>2011-07-27</td>\n",
       "      <td>IjZ33sJrzXqU-0X6U8NwyA</td>\n",
       "      <td>5</td>\n",
       "      <td>I have no idea why some people give bad review...</td>\n",
       "      <td>review</td>\n",
       "      <td>0a2KyEL0d3Yb1V6aivbIuQ</td>\n",
       "      <td>0</td>\n",
       "      <td>0</td>\n",
       "      <td>0</td>\n",
       "    </tr>\n",
       "    <tr>\n",
       "      <th>2</th>\n",
       "      <td>6oRAC4uyJCsJl1X0WZpVSA</td>\n",
       "      <td>2012-06-14</td>\n",
       "      <td>IESLBzqUCLdSzSqm0eCSxQ</td>\n",
       "      <td>4</td>\n",
       "      <td>love the gyro plate. Rice is so good and I als...</td>\n",
       "      <td>review</td>\n",
       "      <td>0hT2KtfLiobPvh6cDC8JQg</td>\n",
       "      <td>0</td>\n",
       "      <td>1</td>\n",
       "      <td>0</td>\n",
       "    </tr>\n",
       "    <tr>\n",
       "      <th>3</th>\n",
       "      <td>_1QQZuf4zZOyFCvXc0o6Vg</td>\n",
       "      <td>2010-05-27</td>\n",
       "      <td>G-WvGaISbqqaMHlNnByodA</td>\n",
       "      <td>5</td>\n",
       "      <td>Rosie, Dakota, and I LOVE Chaparral Dog Park!!...</td>\n",
       "      <td>review</td>\n",
       "      <td>uZetl9T0NcROGOyFfughhg</td>\n",
       "      <td>1</td>\n",
       "      <td>2</td>\n",
       "      <td>0</td>\n",
       "    </tr>\n",
       "    <tr>\n",
       "      <th>4</th>\n",
       "      <td>6ozycU1RpktNG2-1BroVtw</td>\n",
       "      <td>2012-01-05</td>\n",
       "      <td>1uJFq2r5QfJG_6ExMRCaGw</td>\n",
       "      <td>5</td>\n",
       "      <td>General Manager Scott Petello is a good egg!!!...</td>\n",
       "      <td>review</td>\n",
       "      <td>vYmM4KTsC8ZfQBg-j5MWkw</td>\n",
       "      <td>0</td>\n",
       "      <td>0</td>\n",
       "      <td>0</td>\n",
       "    </tr>\n",
       "  </tbody>\n",
       "</table>\n",
       "</div>"
      ],
      "text/plain": [
       "              business_id        date               review_id  stars  \\\n",
       "0  9yKzy9PApeiPPOUJEtnvkg  2011-01-26  fWKvX83p0-ka4JS3dc6E5A      5   \n",
       "1  ZRJwVLyzEJq1VAihDhYiow  2011-07-27  IjZ33sJrzXqU-0X6U8NwyA      5   \n",
       "2  6oRAC4uyJCsJl1X0WZpVSA  2012-06-14  IESLBzqUCLdSzSqm0eCSxQ      4   \n",
       "3  _1QQZuf4zZOyFCvXc0o6Vg  2010-05-27  G-WvGaISbqqaMHlNnByodA      5   \n",
       "4  6ozycU1RpktNG2-1BroVtw  2012-01-05  1uJFq2r5QfJG_6ExMRCaGw      5   \n",
       "\n",
       "                                                text    type  \\\n",
       "0  My wife took me here on my birthday for breakf...  review   \n",
       "1  I have no idea why some people give bad review...  review   \n",
       "2  love the gyro plate. Rice is so good and I als...  review   \n",
       "3  Rosie, Dakota, and I LOVE Chaparral Dog Park!!...  review   \n",
       "4  General Manager Scott Petello is a good egg!!!...  review   \n",
       "\n",
       "                  user_id  cool  useful  funny  \n",
       "0  rLtl8ZkDX5vH5nAx9C3q5Q     2       5      0  \n",
       "1  0a2KyEL0d3Yb1V6aivbIuQ     0       0      0  \n",
       "2  0hT2KtfLiobPvh6cDC8JQg     0       1      0  \n",
       "3  uZetl9T0NcROGOyFfughhg     1       2      0  \n",
       "4  vYmM4KTsC8ZfQBg-j5MWkw     0       0      0  "
      ]
     },
     "execution_count": 108,
     "metadata": {},
     "output_type": "execute_result"
    }
   ],
   "source": [
    "yelp.head() #restorantşar hakkında yorum toplaan bir şirket zomato gibi. yelp dataset var şu ana kadar yazılmış yorumlar işletmleer kullanıcılarl. kaggle da var."
   ]
  },
  {
   "cell_type": "code",
   "execution_count": 109,
   "id": "ec6487be-61e6-4c96-b88e-ffbd3b3c474d",
   "metadata": {
    "collapsed": true,
    "jupyter": {
     "outputs_hidden": true
    },
    "tags": []
   },
   "outputs": [
    {
     "name": "stdout",
     "output_type": "stream",
     "text": [
      "<class 'pandas.core.frame.DataFrame'>\n",
      "RangeIndex: 10000 entries, 0 to 9999\n",
      "Data columns (total 10 columns):\n",
      " #   Column       Non-Null Count  Dtype \n",
      "---  ------       --------------  ----- \n",
      " 0   business_id  10000 non-null  object\n",
      " 1   date         10000 non-null  object\n",
      " 2   review_id    10000 non-null  object\n",
      " 3   stars        10000 non-null  int64 \n",
      " 4   text         10000 non-null  object\n",
      " 5   type         10000 non-null  object\n",
      " 6   user_id      10000 non-null  object\n",
      " 7   cool         10000 non-null  int64 \n",
      " 8   useful       10000 non-null  int64 \n",
      " 9   funny        10000 non-null  int64 \n",
      "dtypes: int64(4), object(6)\n",
      "memory usage: 781.4+ KB\n"
     ]
    }
   ],
   "source": [
    "yelp.info()"
   ]
  },
  {
   "cell_type": "markdown",
   "id": "b0d0600c-2525-4dac-a06a-b586166b2e9e",
   "metadata": {},
   "source": [
    "#NLP Project \n",
    "satir sonu ve enter \\r \\n kaldir\n",
    "stop wrds\n",
    "tokenize işlemini yap\n",
    "lemma ve stemma ie ekleirni kaldırıp köklerini bul\n",
    "vectorize ile yaziları rakama çevir"
   ]
  },
  {
   "cell_type": "code",
   "execution_count": 110,
   "id": "627a7ac9-204b-4ae2-875d-c5bb02a3f0a9",
   "metadata": {},
   "outputs": [],
   "source": [
    "yelp['text']=yelp['text'].str.lower()"
   ]
  },
  {
   "cell_type": "code",
   "execution_count": 111,
   "id": "632a3ac0-8cf3-4070-8821-87a2db933a83",
   "metadata": {},
   "outputs": [
    {
     "name": "stderr",
     "output_type": "stream",
     "text": [
      "<ipython-input-111-714ee52d89c2>:1: FutureWarning: The default value of regex will change from True to False in a future version.\n",
      "  yelp['text']=yelp['text'].str.replace('[^\\w\\s]','') #noktalama işaretlerini kaldırmak için\n"
     ]
    }
   ],
   "source": [
    "yelp['text']=yelp['text'].str.replace('[^\\w\\s]','') #noktalama işaretlerini kaldırmak için"
   ]
  },
  {
   "cell_type": "code",
   "execution_count": 112,
   "id": "7f2fd186-43aa-428f-ae54-b619db653a6f",
   "metadata": {},
   "outputs": [
    {
     "name": "stderr",
     "output_type": "stream",
     "text": [
      "<ipython-input-112-4b66740bc48f>:1: FutureWarning: The default value of regex will change from True to False in a future version.\n",
      "  yelp['text']=yelp['text'].str.replace('\\d+','') #rakamları kaldrdık\n"
     ]
    }
   ],
   "source": [
    "yelp['text']=yelp['text'].str.replace('\\d+','') #rakamları kaldrdık"
   ]
  },
  {
   "cell_type": "code",
   "execution_count": 113,
   "id": "8670a57a-b648-4bfb-a4d2-1ccf7465a3c7",
   "metadata": {},
   "outputs": [],
   "source": [
    "yelp['text']=yelp['text'].str.replace('\\n',' ').replace('\\r',' ') #buradaki fark tek tırnak arasına boşluk eklememiz. enter ve yeni satır kodlarını kaldırdık."
   ]
  },
  {
   "cell_type": "code",
   "execution_count": 114,
   "id": "91c199b1-d8cf-44c8-a39f-7145fa8afa1a",
   "metadata": {},
   "outputs": [],
   "source": [
    "yelp_eni_ek=yelp[(yelp.stars==5) | (yelp.stars==1)] # eniyi en kötü -- 5 ve 1 yıldız verenleri ayırdık. çünkü 5 yazan mutlka olumlu 1 yazanda kötü yazmıştır. o yüzden tahminlenecek olan veriler kaldı."
   ]
  },
  {
   "cell_type": "code",
   "execution_count": 148,
   "id": "79c35f88-304d-4981-81a9-aee2c4024770",
   "metadata": {},
   "outputs": [],
   "source": [
    "yelp_eni_ek.reset_index(drop=True, inplace=True) # veriinn içnden çekince indexi bozulmuştu onu düzeltik."
   ]
  },
  {
   "cell_type": "code",
   "execution_count": 116,
   "id": "810d44f9-4192-4aa2-84e2-561e050b590d",
   "metadata": {},
   "outputs": [],
   "source": [
    "x=yelp_eni_ek.text\n",
    "y=yelp_eni_ek.stars"
   ]
  },
  {
   "cell_type": "code",
   "execution_count": 117,
   "id": "72d72864-c91e-4c22-96ff-a55338bf0589",
   "metadata": {},
   "outputs": [],
   "source": [
    "from sklearn.model_selection import train_test_split"
   ]
  },
  {
   "cell_type": "code",
   "execution_count": 119,
   "id": "1c1a63f7-0989-4e45-87cd-58a0eb9825cd",
   "metadata": {},
   "outputs": [
    {
     "name": "stdout",
     "output_type": "stream",
     "text": [
      "0       my wife took me here on my birthday for breakf...\n",
      "1       i have no idea why some people give bad review...\n",
      "2       rosie dakota and i love chaparral dog park its...\n",
      "3       general manager scott petello is a good egg no...\n",
      "4       drop what youre doing and drive here after i a...\n",
      "                              ...                        \n",
      "4081    yes i do rock the hipster joints  i dig this p...\n",
      "4082    only  stars   a few notes the folks that rated...\n",
      "4083    im not normally one to jump at reviewing a cha...\n",
      "4084    lets seewhat is there not to like about surpri...\n",
      "4085     locations all  star average i think arizona r...\n",
      "Name: text, Length: 4086, dtype: object\n"
     ]
    }
   ],
   "source": [
    "print(x)"
   ]
  },
  {
   "cell_type": "code",
   "execution_count": 151,
   "id": "fa0a794a-f276-4ba7-82d0-522c95dbc0ca",
   "metadata": {},
   "outputs": [],
   "source": [
    "vect=CountVectorizer(lowercase=True,stop_words=\"english\",ngram_range=(1,1)) # hepsini kçük harf yap, gereksizleri çıkar. ngram_range öncesi ve sonrası (1,3) 3 eklimeye bak.\n",
    "x_yeni=vect.fit_transform(x)"
   ]
  },
  {
   "cell_type": "code",
   "execution_count": 152,
   "id": "dcca2388-003c-4293-995a-3e98ab89410d",
   "metadata": {},
   "outputs": [],
   "source": [
    "x_train,x_test,y_train,y_test=train_test_split(x_yeni,y,random_state=42)"
   ]
  },
  {
   "cell_type": "code",
   "execution_count": 153,
   "id": "29545cd5-ca24-43bf-bbff-7f1dc6879e78",
   "metadata": {},
   "outputs": [
    {
     "name": "stdout",
     "output_type": "stream",
     "text": [
      "  (0, 110239)\t1\n",
      "  (0, 6270)\t1\n",
      "  (0, 313349)\t1\n",
      "  (0, 261857)\t1\n",
      "  (0, 395068)\t1\n",
      "  (0, 209980)\t1\n",
      "  (0, 377935)\t1\n",
      "  (0, 284088)\t1\n",
      "  (0, 205159)\t1\n",
      "  (0, 313945)\t1\n",
      "  (0, 219350)\t1\n",
      "  (0, 31213)\t1\n",
      "  (0, 102182)\t1\n",
      "  (0, 396149)\t1\n",
      "  (0, 13096)\t1\n",
      "  (0, 207925)\t1\n",
      "  (0, 151879)\t1\n",
      "  (0, 338634)\t1\n",
      "  (0, 318728)\t1\n",
      "  (0, 205505)\t1\n",
      "  (0, 338676)\t1\n",
      "  (0, 205507)\t1\n",
      "  (0, 147916)\t1\n",
      "  (0, 173781)\t1\n",
      "  (0, 234525)\t1\n",
      "  :\t:\n",
      "  (3063, 334549)\t1\n",
      "  (3063, 83444)\t1\n",
      "  (3063, 216660)\t1\n",
      "  (3063, 376645)\t1\n",
      "  (3063, 332349)\t1\n",
      "  (3063, 53688)\t1\n",
      "  (3063, 161843)\t1\n",
      "  (3063, 321195)\t1\n",
      "  (3063, 27876)\t1\n",
      "  (3063, 294708)\t1\n",
      "  (3063, 181372)\t1\n",
      "  (3063, 292235)\t1\n",
      "  (3063, 35729)\t1\n",
      "  (3063, 233801)\t1\n",
      "  (3063, 150973)\t1\n",
      "  (3063, 334550)\t1\n",
      "  (3063, 52784)\t1\n",
      "  (3063, 83445)\t1\n",
      "  (3063, 33380)\t1\n",
      "  (3063, 216661)\t1\n",
      "  (3063, 151233)\t1\n",
      "  (3063, 376646)\t1\n",
      "  (3063, 332351)\t1\n",
      "  (3063, 53689)\t1\n",
      "  (3063, 133812)\t1\n"
     ]
    }
   ],
   "source": [
    "print(x_train) #sparse metrics yerine böyle görüntüledik."
   ]
  },
  {
   "cell_type": "code",
   "execution_count": 154,
   "id": "a6f4cc93-9800-4cd6-b6c0-c2027ee33e0f",
   "metadata": {},
   "outputs": [
    {
     "data": {
      "text/plain": [
       "'my wife took me here on my birthday for breakfast and it was excellent  the weather was perfect which made sitting outside overlooking their grounds an absolute pleasure  our waitress was excellent and our food arrived quickly on the semibusy saturday morning  it looked like the place fills up pretty quickly so the earlier you get here the better  do yourself a favor and get their bloody mary  it was phenomenal and simply the best ive ever had  im pretty sure they only use ingredients from their garden and blend them fresh when you order it  it was amazing  while everything on the menu looks excellent i had the white truffle scrambled eggs vegetable skillet and it was tasty and delicious  it came with  pieces of their griddled bread with was amazing and it absolutely made the meal complete  it was the best toast ive ever had  anyway i cant wait to go back'"
      ]
     },
     "execution_count": 154,
     "metadata": {},
     "output_type": "execute_result"
    }
   ],
   "source": [
    "x[0]"
   ]
  },
  {
   "cell_type": "code",
   "execution_count": 155,
   "id": "f7a12e9c-950e-44c3-8fad-6f1a4d5e23ca",
   "metadata": {},
   "outputs": [],
   "source": [
    "#tf=pd.DataFrame(vect.fit_transform(x_yeni).toarray(),columns=vect.get_feature_names_out())"
   ]
  },
  {
   "cell_type": "code",
   "execution_count": 156,
   "id": "d4c0009e-ec45-422f-b9c2-052038a60256",
   "metadata": {
    "tags": []
   },
   "outputs": [
    {
     "data": {
      "text/html": [
       "<div>\n",
       "<style scoped>\n",
       "    .dataframe tbody tr th:only-of-type {\n",
       "        vertical-align: middle;\n",
       "    }\n",
       "\n",
       "    .dataframe tbody tr th {\n",
       "        vertical-align: top;\n",
       "    }\n",
       "\n",
       "    .dataframe thead th {\n",
       "        text-align: right;\n",
       "    }\n",
       "</style>\n",
       "<table border=\"1\" class=\"dataframe\">\n",
       "  <thead>\n",
       "    <tr style=\"text-align: right;\">\n",
       "      <th></th>\n",
       "      <th>______</th>\n",
       "      <th>_______________</th>\n",
       "      <th>aa</th>\n",
       "      <th>aaa</th>\n",
       "      <th>aaaamazing</th>\n",
       "      <th>aaron</th>\n",
       "      <th>ab</th>\n",
       "      <th>abandoned</th>\n",
       "      <th>abandoning</th>\n",
       "      <th>abbazabba</th>\n",
       "      <th>...</th>\n",
       "      <th>zucca</th>\n",
       "      <th>zucchini</th>\n",
       "      <th>zuccini</th>\n",
       "      <th>zuchinni</th>\n",
       "      <th>zumba</th>\n",
       "      <th>zupa</th>\n",
       "      <th>zupas</th>\n",
       "      <th>zuzu</th>\n",
       "      <th>école</th>\n",
       "      <th>ém</th>\n",
       "    </tr>\n",
       "  </thead>\n",
       "  <tbody>\n",
       "    <tr>\n",
       "      <th>0</th>\n",
       "      <td>0</td>\n",
       "      <td>0</td>\n",
       "      <td>0</td>\n",
       "      <td>0</td>\n",
       "      <td>0</td>\n",
       "      <td>0</td>\n",
       "      <td>0</td>\n",
       "      <td>0</td>\n",
       "      <td>0</td>\n",
       "      <td>0</td>\n",
       "      <td>...</td>\n",
       "      <td>0</td>\n",
       "      <td>0</td>\n",
       "      <td>0</td>\n",
       "      <td>0</td>\n",
       "      <td>0</td>\n",
       "      <td>0</td>\n",
       "      <td>0</td>\n",
       "      <td>0</td>\n",
       "      <td>0</td>\n",
       "      <td>0</td>\n",
       "    </tr>\n",
       "    <tr>\n",
       "      <th>1</th>\n",
       "      <td>0</td>\n",
       "      <td>0</td>\n",
       "      <td>0</td>\n",
       "      <td>0</td>\n",
       "      <td>0</td>\n",
       "      <td>0</td>\n",
       "      <td>0</td>\n",
       "      <td>0</td>\n",
       "      <td>0</td>\n",
       "      <td>0</td>\n",
       "      <td>...</td>\n",
       "      <td>0</td>\n",
       "      <td>0</td>\n",
       "      <td>0</td>\n",
       "      <td>0</td>\n",
       "      <td>0</td>\n",
       "      <td>0</td>\n",
       "      <td>0</td>\n",
       "      <td>0</td>\n",
       "      <td>0</td>\n",
       "      <td>0</td>\n",
       "    </tr>\n",
       "    <tr>\n",
       "      <th>2</th>\n",
       "      <td>0</td>\n",
       "      <td>0</td>\n",
       "      <td>0</td>\n",
       "      <td>0</td>\n",
       "      <td>0</td>\n",
       "      <td>0</td>\n",
       "      <td>0</td>\n",
       "      <td>0</td>\n",
       "      <td>0</td>\n",
       "      <td>0</td>\n",
       "      <td>...</td>\n",
       "      <td>0</td>\n",
       "      <td>0</td>\n",
       "      <td>0</td>\n",
       "      <td>0</td>\n",
       "      <td>0</td>\n",
       "      <td>0</td>\n",
       "      <td>0</td>\n",
       "      <td>0</td>\n",
       "      <td>0</td>\n",
       "      <td>0</td>\n",
       "    </tr>\n",
       "    <tr>\n",
       "      <th>3</th>\n",
       "      <td>0</td>\n",
       "      <td>0</td>\n",
       "      <td>0</td>\n",
       "      <td>0</td>\n",
       "      <td>0</td>\n",
       "      <td>0</td>\n",
       "      <td>0</td>\n",
       "      <td>0</td>\n",
       "      <td>0</td>\n",
       "      <td>0</td>\n",
       "      <td>...</td>\n",
       "      <td>0</td>\n",
       "      <td>0</td>\n",
       "      <td>0</td>\n",
       "      <td>0</td>\n",
       "      <td>0</td>\n",
       "      <td>0</td>\n",
       "      <td>0</td>\n",
       "      <td>0</td>\n",
       "      <td>0</td>\n",
       "      <td>0</td>\n",
       "    </tr>\n",
       "    <tr>\n",
       "      <th>4</th>\n",
       "      <td>0</td>\n",
       "      <td>0</td>\n",
       "      <td>0</td>\n",
       "      <td>0</td>\n",
       "      <td>0</td>\n",
       "      <td>0</td>\n",
       "      <td>0</td>\n",
       "      <td>0</td>\n",
       "      <td>0</td>\n",
       "      <td>0</td>\n",
       "      <td>...</td>\n",
       "      <td>0</td>\n",
       "      <td>0</td>\n",
       "      <td>0</td>\n",
       "      <td>0</td>\n",
       "      <td>0</td>\n",
       "      <td>0</td>\n",
       "      <td>0</td>\n",
       "      <td>0</td>\n",
       "      <td>0</td>\n",
       "      <td>0</td>\n",
       "    </tr>\n",
       "    <tr>\n",
       "      <th>...</th>\n",
       "      <td>...</td>\n",
       "      <td>...</td>\n",
       "      <td>...</td>\n",
       "      <td>...</td>\n",
       "      <td>...</td>\n",
       "      <td>...</td>\n",
       "      <td>...</td>\n",
       "      <td>...</td>\n",
       "      <td>...</td>\n",
       "      <td>...</td>\n",
       "      <td>...</td>\n",
       "      <td>...</td>\n",
       "      <td>...</td>\n",
       "      <td>...</td>\n",
       "      <td>...</td>\n",
       "      <td>...</td>\n",
       "      <td>...</td>\n",
       "      <td>...</td>\n",
       "      <td>...</td>\n",
       "      <td>...</td>\n",
       "      <td>...</td>\n",
       "    </tr>\n",
       "    <tr>\n",
       "      <th>3059</th>\n",
       "      <td>0</td>\n",
       "      <td>0</td>\n",
       "      <td>0</td>\n",
       "      <td>0</td>\n",
       "      <td>0</td>\n",
       "      <td>0</td>\n",
       "      <td>0</td>\n",
       "      <td>0</td>\n",
       "      <td>0</td>\n",
       "      <td>0</td>\n",
       "      <td>...</td>\n",
       "      <td>0</td>\n",
       "      <td>0</td>\n",
       "      <td>0</td>\n",
       "      <td>0</td>\n",
       "      <td>0</td>\n",
       "      <td>0</td>\n",
       "      <td>0</td>\n",
       "      <td>0</td>\n",
       "      <td>0</td>\n",
       "      <td>0</td>\n",
       "    </tr>\n",
       "    <tr>\n",
       "      <th>3060</th>\n",
       "      <td>0</td>\n",
       "      <td>0</td>\n",
       "      <td>0</td>\n",
       "      <td>0</td>\n",
       "      <td>0</td>\n",
       "      <td>0</td>\n",
       "      <td>0</td>\n",
       "      <td>0</td>\n",
       "      <td>0</td>\n",
       "      <td>0</td>\n",
       "      <td>...</td>\n",
       "      <td>0</td>\n",
       "      <td>0</td>\n",
       "      <td>0</td>\n",
       "      <td>0</td>\n",
       "      <td>0</td>\n",
       "      <td>0</td>\n",
       "      <td>0</td>\n",
       "      <td>0</td>\n",
       "      <td>0</td>\n",
       "      <td>0</td>\n",
       "    </tr>\n",
       "    <tr>\n",
       "      <th>3061</th>\n",
       "      <td>0</td>\n",
       "      <td>0</td>\n",
       "      <td>0</td>\n",
       "      <td>0</td>\n",
       "      <td>0</td>\n",
       "      <td>0</td>\n",
       "      <td>0</td>\n",
       "      <td>0</td>\n",
       "      <td>0</td>\n",
       "      <td>0</td>\n",
       "      <td>...</td>\n",
       "      <td>0</td>\n",
       "      <td>0</td>\n",
       "      <td>0</td>\n",
       "      <td>0</td>\n",
       "      <td>0</td>\n",
       "      <td>0</td>\n",
       "      <td>0</td>\n",
       "      <td>0</td>\n",
       "      <td>0</td>\n",
       "      <td>0</td>\n",
       "    </tr>\n",
       "    <tr>\n",
       "      <th>3062</th>\n",
       "      <td>0</td>\n",
       "      <td>0</td>\n",
       "      <td>0</td>\n",
       "      <td>0</td>\n",
       "      <td>0</td>\n",
       "      <td>0</td>\n",
       "      <td>0</td>\n",
       "      <td>0</td>\n",
       "      <td>0</td>\n",
       "      <td>0</td>\n",
       "      <td>...</td>\n",
       "      <td>0</td>\n",
       "      <td>0</td>\n",
       "      <td>0</td>\n",
       "      <td>0</td>\n",
       "      <td>0</td>\n",
       "      <td>0</td>\n",
       "      <td>0</td>\n",
       "      <td>0</td>\n",
       "      <td>0</td>\n",
       "      <td>0</td>\n",
       "    </tr>\n",
       "    <tr>\n",
       "      <th>3063</th>\n",
       "      <td>0</td>\n",
       "      <td>0</td>\n",
       "      <td>0</td>\n",
       "      <td>0</td>\n",
       "      <td>0</td>\n",
       "      <td>0</td>\n",
       "      <td>0</td>\n",
       "      <td>0</td>\n",
       "      <td>0</td>\n",
       "      <td>0</td>\n",
       "      <td>...</td>\n",
       "      <td>0</td>\n",
       "      <td>0</td>\n",
       "      <td>0</td>\n",
       "      <td>0</td>\n",
       "      <td>0</td>\n",
       "      <td>0</td>\n",
       "      <td>0</td>\n",
       "      <td>0</td>\n",
       "      <td>0</td>\n",
       "      <td>0</td>\n",
       "    </tr>\n",
       "  </tbody>\n",
       "</table>\n",
       "<p>3064 rows × 18010 columns</p>\n",
       "</div>"
      ],
      "text/plain": [
       "      ______  _______________  aa  aaa  aaaamazing  aaron  ab  abandoned  \\\n",
       "0          0                0   0    0           0      0   0          0   \n",
       "1          0                0   0    0           0      0   0          0   \n",
       "2          0                0   0    0           0      0   0          0   \n",
       "3          0                0   0    0           0      0   0          0   \n",
       "4          0                0   0    0           0      0   0          0   \n",
       "...      ...              ...  ..  ...         ...    ...  ..        ...   \n",
       "3059       0                0   0    0           0      0   0          0   \n",
       "3060       0                0   0    0           0      0   0          0   \n",
       "3061       0                0   0    0           0      0   0          0   \n",
       "3062       0                0   0    0           0      0   0          0   \n",
       "3063       0                0   0    0           0      0   0          0   \n",
       "\n",
       "      abandoning  abbazabba  ...  zucca  zucchini  zuccini  zuchinni  zumba  \\\n",
       "0              0          0  ...      0         0        0         0      0   \n",
       "1              0          0  ...      0         0        0         0      0   \n",
       "2              0          0  ...      0         0        0         0      0   \n",
       "3              0          0  ...      0         0        0         0      0   \n",
       "4              0          0  ...      0         0        0         0      0   \n",
       "...          ...        ...  ...    ...       ...      ...       ...    ...   \n",
       "3059           0          0  ...      0         0        0         0      0   \n",
       "3060           0          0  ...      0         0        0         0      0   \n",
       "3061           0          0  ...      0         0        0         0      0   \n",
       "3062           0          0  ...      0         0        0         0      0   \n",
       "3063           0          0  ...      0         0        0         0      0   \n",
       "\n",
       "      zupa  zupas  zuzu  école  ém  \n",
       "0        0      0     0      0   0  \n",
       "1        0      0     0      0   0  \n",
       "2        0      0     0      0   0  \n",
       "3        0      0     0      0   0  \n",
       "4        0      0     0      0   0  \n",
       "...    ...    ...   ...    ...  ..  \n",
       "3059     0      0     0      0   0  \n",
       "3060     0      0     0      0   0  \n",
       "3061     0      0     0      0   0  \n",
       "3062     0      0     0      0   0  \n",
       "3063     0      0     0      0   0  \n",
       "\n",
       "[3064 rows x 18010 columns]"
      ]
     },
     "execution_count": 156,
     "metadata": {},
     "output_type": "execute_result"
    }
   ],
   "source": [
    "tf"
   ]
  },
  {
   "cell_type": "code",
   "execution_count": 157,
   "id": "25272e37-443b-4554-bbe8-edd7f6fd60a5",
   "metadata": {},
   "outputs": [],
   "source": [
    "from sklearn.naive_bayes import MultinomialNB"
   ]
  },
  {
   "cell_type": "code",
   "execution_count": 158,
   "id": "ae12f22b-4623-4300-abc8-fc87411de425",
   "metadata": {},
   "outputs": [],
   "source": [
    "mb=MultinomialNB()"
   ]
  },
  {
   "cell_type": "code",
   "execution_count": 159,
   "id": "471a50e4-0223-44d8-b111-26fc19dc05ff",
   "metadata": {},
   "outputs": [
    {
     "data": {
      "text/html": [
       "<style>#sk-container-id-4 {color: black;background-color: white;}#sk-container-id-4 pre{padding: 0;}#sk-container-id-4 div.sk-toggleable {background-color: white;}#sk-container-id-4 label.sk-toggleable__label {cursor: pointer;display: block;width: 100%;margin-bottom: 0;padding: 0.3em;box-sizing: border-box;text-align: center;}#sk-container-id-4 label.sk-toggleable__label-arrow:before {content: \"▸\";float: left;margin-right: 0.25em;color: #696969;}#sk-container-id-4 label.sk-toggleable__label-arrow:hover:before {color: black;}#sk-container-id-4 div.sk-estimator:hover label.sk-toggleable__label-arrow:before {color: black;}#sk-container-id-4 div.sk-toggleable__content {max-height: 0;max-width: 0;overflow: hidden;text-align: left;background-color: #f0f8ff;}#sk-container-id-4 div.sk-toggleable__content pre {margin: 0.2em;color: black;border-radius: 0.25em;background-color: #f0f8ff;}#sk-container-id-4 input.sk-toggleable__control:checked~div.sk-toggleable__content {max-height: 200px;max-width: 100%;overflow: auto;}#sk-container-id-4 input.sk-toggleable__control:checked~label.sk-toggleable__label-arrow:before {content: \"▾\";}#sk-container-id-4 div.sk-estimator input.sk-toggleable__control:checked~label.sk-toggleable__label {background-color: #d4ebff;}#sk-container-id-4 div.sk-label input.sk-toggleable__control:checked~label.sk-toggleable__label {background-color: #d4ebff;}#sk-container-id-4 input.sk-hidden--visually {border: 0;clip: rect(1px 1px 1px 1px);clip: rect(1px, 1px, 1px, 1px);height: 1px;margin: -1px;overflow: hidden;padding: 0;position: absolute;width: 1px;}#sk-container-id-4 div.sk-estimator {font-family: monospace;background-color: #f0f8ff;border: 1px dotted black;border-radius: 0.25em;box-sizing: border-box;margin-bottom: 0.5em;}#sk-container-id-4 div.sk-estimator:hover {background-color: #d4ebff;}#sk-container-id-4 div.sk-parallel-item::after {content: \"\";width: 100%;border-bottom: 1px solid gray;flex-grow: 1;}#sk-container-id-4 div.sk-label:hover label.sk-toggleable__label {background-color: #d4ebff;}#sk-container-id-4 div.sk-serial::before {content: \"\";position: absolute;border-left: 1px solid gray;box-sizing: border-box;top: 0;bottom: 0;left: 50%;z-index: 0;}#sk-container-id-4 div.sk-serial {display: flex;flex-direction: column;align-items: center;background-color: white;padding-right: 0.2em;padding-left: 0.2em;position: relative;}#sk-container-id-4 div.sk-item {position: relative;z-index: 1;}#sk-container-id-4 div.sk-parallel {display: flex;align-items: stretch;justify-content: center;background-color: white;position: relative;}#sk-container-id-4 div.sk-item::before, #sk-container-id-4 div.sk-parallel-item::before {content: \"\";position: absolute;border-left: 1px solid gray;box-sizing: border-box;top: 0;bottom: 0;left: 50%;z-index: -1;}#sk-container-id-4 div.sk-parallel-item {display: flex;flex-direction: column;z-index: 1;position: relative;background-color: white;}#sk-container-id-4 div.sk-parallel-item:first-child::after {align-self: flex-end;width: 50%;}#sk-container-id-4 div.sk-parallel-item:last-child::after {align-self: flex-start;width: 50%;}#sk-container-id-4 div.sk-parallel-item:only-child::after {width: 0;}#sk-container-id-4 div.sk-dashed-wrapped {border: 1px dashed gray;margin: 0 0.4em 0.5em 0.4em;box-sizing: border-box;padding-bottom: 0.4em;background-color: white;}#sk-container-id-4 div.sk-label label {font-family: monospace;font-weight: bold;display: inline-block;line-height: 1.2em;}#sk-container-id-4 div.sk-label-container {text-align: center;}#sk-container-id-4 div.sk-container {/* jupyter's `normalize.less` sets `[hidden] { display: none; }` but bootstrap.min.css set `[hidden] { display: none !important; }` so we also need the `!important` here to be able to override the default hidden behavior on the sphinx rendered scikit-learn.org. See: https://github.com/scikit-learn/scikit-learn/issues/21755 */display: inline-block !important;position: relative;}#sk-container-id-4 div.sk-text-repr-fallback {display: none;}</style><div id=\"sk-container-id-4\" class=\"sk-top-container\"><div class=\"sk-text-repr-fallback\"><pre>MultinomialNB()</pre><b>In a Jupyter environment, please rerun this cell to show the HTML representation or trust the notebook. <br />On GitHub, the HTML representation is unable to render, please try loading this page with nbviewer.org.</b></div><div class=\"sk-container\" hidden><div class=\"sk-item\"><div class=\"sk-estimator sk-toggleable\"><input class=\"sk-toggleable__control sk-hidden--visually\" id=\"sk-estimator-id-4\" type=\"checkbox\" checked><label for=\"sk-estimator-id-4\" class=\"sk-toggleable__label sk-toggleable__label-arrow\">MultinomialNB</label><div class=\"sk-toggleable__content\"><pre>MultinomialNB()</pre></div></div></div></div></div>"
      ],
      "text/plain": [
       "MultinomialNB()"
      ]
     },
     "execution_count": 159,
     "metadata": {},
     "output_type": "execute_result"
    }
   ],
   "source": [
    "mb.fit(x_train,y_train)"
   ]
  },
  {
   "cell_type": "code",
   "execution_count": 160,
   "id": "4c467df5-c67b-4e7a-8678-faf142a2d558",
   "metadata": {},
   "outputs": [],
   "source": [
    "from sklearn.metrics import accuracy_score"
   ]
  },
  {
   "cell_type": "code",
   "execution_count": 161,
   "id": "6960560d-06b9-45ed-9ef8-dbf3aa0bb3c5",
   "metadata": {},
   "outputs": [],
   "source": [
    "tahmin=mb.predict(x_test)"
   ]
  },
  {
   "cell_type": "code",
   "execution_count": 162,
   "id": "382e26f4-e535-4e4f-8f5e-a77dba7abbf8",
   "metadata": {},
   "outputs": [
    {
     "data": {
      "text/plain": [
       "0.8894324853228963"
      ]
     },
     "execution_count": 162,
     "metadata": {},
     "output_type": "execute_result"
    }
   ],
   "source": [
    "accuracy_score(y_test,tahmin)"
   ]
  },
  {
   "cell_type": "code",
   "execution_count": 163,
   "id": "21877b64-75b3-49e6-9d39-398111a8cf25",
   "metadata": {},
   "outputs": [],
   "source": [
    "from sklearn.tree import DecisionTreeClassifier"
   ]
  },
  {
   "cell_type": "code",
   "execution_count": 164,
   "id": "82881d3b-c143-4284-8626-0c4408ad8632",
   "metadata": {},
   "outputs": [],
   "source": [
    "d=DecisionTreeClassifier()"
   ]
  },
  {
   "cell_type": "code",
   "execution_count": 165,
   "id": "90084d9c-c05f-41bc-9140-0d561bf7920d",
   "metadata": {},
   "outputs": [
    {
     "data": {
      "text/html": [
       "<style>#sk-container-id-5 {color: black;background-color: white;}#sk-container-id-5 pre{padding: 0;}#sk-container-id-5 div.sk-toggleable {background-color: white;}#sk-container-id-5 label.sk-toggleable__label {cursor: pointer;display: block;width: 100%;margin-bottom: 0;padding: 0.3em;box-sizing: border-box;text-align: center;}#sk-container-id-5 label.sk-toggleable__label-arrow:before {content: \"▸\";float: left;margin-right: 0.25em;color: #696969;}#sk-container-id-5 label.sk-toggleable__label-arrow:hover:before {color: black;}#sk-container-id-5 div.sk-estimator:hover label.sk-toggleable__label-arrow:before {color: black;}#sk-container-id-5 div.sk-toggleable__content {max-height: 0;max-width: 0;overflow: hidden;text-align: left;background-color: #f0f8ff;}#sk-container-id-5 div.sk-toggleable__content pre {margin: 0.2em;color: black;border-radius: 0.25em;background-color: #f0f8ff;}#sk-container-id-5 input.sk-toggleable__control:checked~div.sk-toggleable__content {max-height: 200px;max-width: 100%;overflow: auto;}#sk-container-id-5 input.sk-toggleable__control:checked~label.sk-toggleable__label-arrow:before {content: \"▾\";}#sk-container-id-5 div.sk-estimator input.sk-toggleable__control:checked~label.sk-toggleable__label {background-color: #d4ebff;}#sk-container-id-5 div.sk-label input.sk-toggleable__control:checked~label.sk-toggleable__label {background-color: #d4ebff;}#sk-container-id-5 input.sk-hidden--visually {border: 0;clip: rect(1px 1px 1px 1px);clip: rect(1px, 1px, 1px, 1px);height: 1px;margin: -1px;overflow: hidden;padding: 0;position: absolute;width: 1px;}#sk-container-id-5 div.sk-estimator {font-family: monospace;background-color: #f0f8ff;border: 1px dotted black;border-radius: 0.25em;box-sizing: border-box;margin-bottom: 0.5em;}#sk-container-id-5 div.sk-estimator:hover {background-color: #d4ebff;}#sk-container-id-5 div.sk-parallel-item::after {content: \"\";width: 100%;border-bottom: 1px solid gray;flex-grow: 1;}#sk-container-id-5 div.sk-label:hover label.sk-toggleable__label {background-color: #d4ebff;}#sk-container-id-5 div.sk-serial::before {content: \"\";position: absolute;border-left: 1px solid gray;box-sizing: border-box;top: 0;bottom: 0;left: 50%;z-index: 0;}#sk-container-id-5 div.sk-serial {display: flex;flex-direction: column;align-items: center;background-color: white;padding-right: 0.2em;padding-left: 0.2em;position: relative;}#sk-container-id-5 div.sk-item {position: relative;z-index: 1;}#sk-container-id-5 div.sk-parallel {display: flex;align-items: stretch;justify-content: center;background-color: white;position: relative;}#sk-container-id-5 div.sk-item::before, #sk-container-id-5 div.sk-parallel-item::before {content: \"\";position: absolute;border-left: 1px solid gray;box-sizing: border-box;top: 0;bottom: 0;left: 50%;z-index: -1;}#sk-container-id-5 div.sk-parallel-item {display: flex;flex-direction: column;z-index: 1;position: relative;background-color: white;}#sk-container-id-5 div.sk-parallel-item:first-child::after {align-self: flex-end;width: 50%;}#sk-container-id-5 div.sk-parallel-item:last-child::after {align-self: flex-start;width: 50%;}#sk-container-id-5 div.sk-parallel-item:only-child::after {width: 0;}#sk-container-id-5 div.sk-dashed-wrapped {border: 1px dashed gray;margin: 0 0.4em 0.5em 0.4em;box-sizing: border-box;padding-bottom: 0.4em;background-color: white;}#sk-container-id-5 div.sk-label label {font-family: monospace;font-weight: bold;display: inline-block;line-height: 1.2em;}#sk-container-id-5 div.sk-label-container {text-align: center;}#sk-container-id-5 div.sk-container {/* jupyter's `normalize.less` sets `[hidden] { display: none; }` but bootstrap.min.css set `[hidden] { display: none !important; }` so we also need the `!important` here to be able to override the default hidden behavior on the sphinx rendered scikit-learn.org. See: https://github.com/scikit-learn/scikit-learn/issues/21755 */display: inline-block !important;position: relative;}#sk-container-id-5 div.sk-text-repr-fallback {display: none;}</style><div id=\"sk-container-id-5\" class=\"sk-top-container\"><div class=\"sk-text-repr-fallback\"><pre>DecisionTreeClassifier()</pre><b>In a Jupyter environment, please rerun this cell to show the HTML representation or trust the notebook. <br />On GitHub, the HTML representation is unable to render, please try loading this page with nbviewer.org.</b></div><div class=\"sk-container\" hidden><div class=\"sk-item\"><div class=\"sk-estimator sk-toggleable\"><input class=\"sk-toggleable__control sk-hidden--visually\" id=\"sk-estimator-id-5\" type=\"checkbox\" checked><label for=\"sk-estimator-id-5\" class=\"sk-toggleable__label sk-toggleable__label-arrow\">DecisionTreeClassifier</label><div class=\"sk-toggleable__content\"><pre>DecisionTreeClassifier()</pre></div></div></div></div></div>"
      ],
      "text/plain": [
       "DecisionTreeClassifier()"
      ]
     },
     "execution_count": 165,
     "metadata": {},
     "output_type": "execute_result"
    }
   ],
   "source": [
    "d.fit(x_train,y_train)"
   ]
  },
  {
   "cell_type": "code",
   "execution_count": 166,
   "id": "5ce486ab-ddd3-44e5-b9b3-a517697e12c3",
   "metadata": {},
   "outputs": [],
   "source": [
    "tahmin2=d.predict(x_test)"
   ]
  },
  {
   "cell_type": "code",
   "execution_count": 167,
   "id": "9910fd68-96c0-4539-9f3f-2552de9e3e57",
   "metadata": {},
   "outputs": [
    {
     "data": {
      "text/plain": [
       "0.8561643835616438"
      ]
     },
     "execution_count": 167,
     "metadata": {},
     "output_type": "execute_result"
    }
   ],
   "source": [
    "accuracy_score(tahmin2,y_test)"
   ]
  },
  {
   "cell_type": "code",
   "execution_count": 168,
   "id": "09d27fe5-7727-4ec4-bac5-6234f18a669b",
   "metadata": {},
   "outputs": [],
   "source": [
    "# ngram değiştirince başarı değişiyor mu, stop_words kaldırınca başararı değişiyor mu bunlara bakıyoruz."
   ]
  },
  {
   "cell_type": "code",
   "execution_count": null,
   "id": "385204fd-b7a5-4221-9cdf-838704eb54a9",
   "metadata": {},
   "outputs": [],
   "source": []
  }
 ],
 "metadata": {
  "kernelspec": {
   "display_name": "Python 3",
   "language": "python",
   "name": "python3"
  },
  "language_info": {
   "codemirror_mode": {
    "name": "ipython",
    "version": 3
   },
   "file_extension": ".py",
   "mimetype": "text/x-python",
   "name": "python",
   "nbconvert_exporter": "python",
   "pygments_lexer": "ipython3",
   "version": "3.8.2"
  }
 },
 "nbformat": 4,
 "nbformat_minor": 5
}
