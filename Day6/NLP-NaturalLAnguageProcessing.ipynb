{
 "cells": [
  {
   "cell_type": "raw",
   "id": "3f8ea01a-13b4-4edc-be4c-903ebaa76a52",
   "metadata": {},
   "source": [
    "# NLP PRojesinde 7 altin kural\n",
    "1- Noktalama işsaretlerine,\n",
    "2- Hepsini küçük harfe çeviriyoruz.\n",
    "3- Enter veya \\n kaldir\n",
    "4- Rakamlari kaldir\n",
    "5- Tokenize etmek\n",
    "6- Eklerini kaldir koklerini bul\n",
    "7- Stopwords kaldir gereksiz kelimeler.\n"
   ]
  },
  {
   "cell_type": "code",
   "execution_count": 1,
   "id": "dacb1db4-5b8f-4716-bd30-bcd342cd83a6",
   "metadata": {},
   "outputs": [],
   "source": [
    "#!pip install nltk"
   ]
  },
  {
   "cell_type": "code",
   "execution_count": 2,
   "id": "62692c4f-6c7e-43aa-8404-57a0ede8ba98",
   "metadata": {},
   "outputs": [],
   "source": [
    "from nltk.stem import SnowballStemmer"
   ]
  },
  {
   "cell_type": "code",
   "execution_count": 3,
   "id": "af6b88b2-18af-40d9-9beb-30a8c9e0c12b",
   "metadata": {},
   "outputs": [
    {
     "data": {
      "text/plain": [
       "('arabic',\n",
       " 'danish',\n",
       " 'dutch',\n",
       " 'english',\n",
       " 'finnish',\n",
       " 'french',\n",
       " 'german',\n",
       " 'hungarian',\n",
       " 'italian',\n",
       " 'norwegian',\n",
       " 'porter',\n",
       " 'portuguese',\n",
       " 'romanian',\n",
       " 'russian',\n",
       " 'spanish',\n",
       " 'swedish')"
      ]
     },
     "execution_count": 3,
     "metadata": {},
     "output_type": "execute_result"
    }
   ],
   "source": [
    "SnowballStemmer.languages #hangi dilleri destekliyor"
   ]
  },
  {
   "cell_type": "code",
   "execution_count": 4,
   "id": "2bef03d3-cacc-49dc-b015-6f18886236de",
   "metadata": {},
   "outputs": [
    {
     "name": "stdout",
     "output_type": "stream",
     "text": [
      "Defaulting to user installation because normal site-packages is not writeable\n",
      "Requirement already satisfied: TurkishStemmer in c:\\users\\betül ünver\\appdata\\roaming\\python\\python38\\site-packages (1.3)\n"
     ]
    },
    {
     "name": "stderr",
     "output_type": "stream",
     "text": [
      "\n",
      "[notice] A new release of pip available: 22.2.2 -> 22.3\n",
      "[notice] To update, run: python.exe -m pip install --upgrade pip\n"
     ]
    }
   ],
   "source": [
    "!pip install TurkishStemmer"
   ]
  },
  {
   "cell_type": "code",
   "execution_count": 5,
   "id": "c8c8d438-7830-4b5e-8352-cc1d8d1e8a37",
   "metadata": {},
   "outputs": [],
   "source": [
    "from TurkishStemmer import TurkishStemmer"
   ]
  },
  {
   "cell_type": "code",
   "execution_count": 6,
   "id": "9ce49d2d-fd0f-428b-93d2-099e75422769",
   "metadata": {},
   "outputs": [
    {
     "data": {
      "text/plain": [
       "'bardak'"
      ]
     },
     "execution_count": 6,
     "metadata": {},
     "output_type": "execute_result"
    }
   ],
   "source": [
    "TurkishStemmer().stem(\"bardaktan\") #mastar halini buluyor"
   ]
  },
  {
   "cell_type": "code",
   "execution_count": 7,
   "id": "f50ddef5-aa54-4b86-b603-d8d66631d3bd",
   "metadata": {},
   "outputs": [
    {
     "data": {
      "text/plain": [
       "'geliyor'"
      ]
     },
     "execution_count": 7,
     "metadata": {},
     "output_type": "execute_result"
    }
   ],
   "source": [
    "TurkishStemmer().stem(\"geliyorum\")"
   ]
  },
  {
   "cell_type": "code",
   "execution_count": 8,
   "id": "b52ab335-db9f-4fcd-bcc5-7ddeea0dfba3",
   "metadata": {},
   "outputs": [
    {
     "data": {
      "text/plain": [
       "'gözlük'"
      ]
     },
     "execution_count": 8,
     "metadata": {},
     "output_type": "execute_result"
    }
   ],
   "source": [
    "TurkishStemmer().stem(\"gözlük\")"
   ]
  },
  {
   "cell_type": "code",
   "execution_count": 9,
   "id": "b170913d-5885-45a8-9b34-1e98dd55de2a",
   "metadata": {},
   "outputs": [
    {
     "data": {
      "text/plain": [
       "'mahalle'"
      ]
     },
     "execution_count": 9,
     "metadata": {},
     "output_type": "execute_result"
    }
   ],
   "source": [
    "TurkishStemmer().stem(\"mahalle\")"
   ]
  },
  {
   "cell_type": "code",
   "execution_count": 10,
   "id": "307b773c-80f3-4b8a-afdf-f3fe6f547567",
   "metadata": {},
   "outputs": [
    {
     "data": {
      "text/plain": [
       "'dost'"
      ]
     },
     "execution_count": 10,
     "metadata": {},
     "output_type": "execute_result"
    }
   ],
   "source": [
    "TurkishStemmer().stem(\"dostun\")"
   ]
  },
  {
   "cell_type": "code",
   "execution_count": 11,
   "id": "da260f9f-7dcb-4d48-b993-509d2e186c06",
   "metadata": {},
   "outputs": [
    {
     "data": {
      "text/plain": [
       "'göz'"
      ]
     },
     "execution_count": 11,
     "metadata": {},
     "output_type": "execute_result"
    }
   ],
   "source": [
    "TurkishStemmer().stem(\"gözde\")"
   ]
  },
  {
   "cell_type": "code",
   "execution_count": 12,
   "id": "fd1b61f3-f62b-446f-96d8-7fb24cd8001e",
   "metadata": {},
   "outputs": [
    {
     "data": {
      "text/plain": [
       "'muhallebiç'"
      ]
     },
     "execution_count": 12,
     "metadata": {},
     "output_type": "execute_result"
    }
   ],
   "source": [
    "TurkishStemmer().stem(\"muhallebici\")"
   ]
  },
  {
   "cell_type": "code",
   "execution_count": 13,
   "id": "f594dc75-5be5-47e2-8619-720a4950363c",
   "metadata": {},
   "outputs": [
    {
     "data": {
      "text/plain": [
       "'gör'"
      ]
     },
     "execution_count": 13,
     "metadata": {},
     "output_type": "execute_result"
    }
   ],
   "source": [
    "TurkishStemmer().stem(\"görümce\")"
   ]
  },
  {
   "cell_type": "code",
   "execution_count": 14,
   "id": "1f249c6b-a8eb-4417-9754-cdbb5d8e1697",
   "metadata": {},
   "outputs": [
    {
     "data": {
      "text/plain": [
       "'mahalle'"
      ]
     },
     "execution_count": 14,
     "metadata": {},
     "output_type": "execute_result"
    }
   ],
   "source": [
    "TurkishStemmer().stem(\"mahalleli\")"
   ]
  },
  {
   "cell_type": "code",
   "execution_count": 15,
   "id": "5f0170ac-aff3-43de-867b-7f2f123dfd89",
   "metadata": {},
   "outputs": [],
   "source": [
    "spstemmer=SnowballStemmer(\"spanish\")"
   ]
  },
  {
   "cell_type": "code",
   "execution_count": 16,
   "id": "97550fd8-73d2-4bf5-9220-82c07886e744",
   "metadata": {},
   "outputs": [
    {
     "data": {
      "text/plain": [
       "'com'"
      ]
     },
     "execution_count": 16,
     "metadata": {},
     "output_type": "execute_result"
    }
   ],
   "source": [
    "spstemmer.stem(\"comiendo\")"
   ]
  },
  {
   "cell_type": "code",
   "execution_count": 17,
   "id": "07c503e8-2ba2-4c92-9a9e-98b4a521fef4",
   "metadata": {},
   "outputs": [
    {
     "data": {
      "text/plain": [
       "'tiam'"
      ]
     },
     "execution_count": 17,
     "metadata": {},
     "output_type": "execute_result"
    }
   ],
   "source": [
    "spstemmer.stem(\"tiamo\")"
   ]
  },
  {
   "cell_type": "code",
   "execution_count": 18,
   "id": "176ba2e9-7125-477d-8fe1-4dee44e0fb7e",
   "metadata": {},
   "outputs": [],
   "source": [
    "frstemmer=SnowballStemmer(\"french\")"
   ]
  },
  {
   "cell_type": "code",
   "execution_count": 19,
   "id": "afdc1228-bbec-421a-9e23-56da928f2514",
   "metadata": {},
   "outputs": [
    {
     "data": {
      "text/plain": [
       "'manag'"
      ]
     },
     "execution_count": 19,
     "metadata": {},
     "output_type": "execute_result"
    }
   ],
   "source": [
    "frstemmer.stem(\"manager\")"
   ]
  },
  {
   "cell_type": "code",
   "execution_count": 20,
   "id": "79666fad-a2ee-4f2c-bffe-47405b90ada6",
   "metadata": {},
   "outputs": [
    {
     "data": {
      "text/plain": [
       "'kes kos'"
      ]
     },
     "execution_count": 20,
     "metadata": {},
     "output_type": "execute_result"
    }
   ],
   "source": [
    "frstemmer.stem(\"kes kose\")"
   ]
  },
  {
   "cell_type": "code",
   "execution_count": 21,
   "id": "c672fc20-5379-4284-a613-918f6d3c50a1",
   "metadata": {},
   "outputs": [],
   "source": [
    "#Part of Speech - POS İsim fiil, özne yüklem, fiil fail -> ne olduğu buluyor"
   ]
  },
  {
   "cell_type": "code",
   "execution_count": 22,
   "id": "542ddc08-9114-41ae-91fc-64718dd5a914",
   "metadata": {},
   "outputs": [],
   "source": [
    "from nltk.tokenize import word_tokenize"
   ]
  },
  {
   "cell_type": "code",
   "execution_count": 23,
   "id": "0a5848f8-b776-4dbb-91c4-2830465d0fa9",
   "metadata": {},
   "outputs": [],
   "source": [
    "cumle=\"Zafer love stuffed grape leaves. Artificial Intellgence is cool\""
   ]
  },
  {
   "cell_type": "code",
   "execution_count": 24,
   "id": "00ee125a-666a-4475-99d5-a2c28b790e87",
   "metadata": {},
   "outputs": [
    {
     "ename": "NameError",
     "evalue": "name 'nltk' is not defined",
     "output_type": "error",
     "traceback": [
      "\u001b[1;31m---------------------------------------------------------------------------\u001b[0m",
      "\u001b[1;31mNameError\u001b[0m                                 Traceback (most recent call last)",
      "\u001b[1;32m<ipython-input-24-6318e40d5ad6>\u001b[0m in \u001b[0;36m<module>\u001b[1;34m\u001b[0m\n\u001b[1;32m----> 1\u001b[1;33m \u001b[0mnltk\u001b[0m\u001b[1;33m.\u001b[0m\u001b[0mdownload\u001b[0m\u001b[1;33m(\u001b[0m\u001b[1;34m\"average_perceptron_tagger\"\u001b[0m\u001b[1;33m)\u001b[0m\u001b[1;33m\u001b[0m\u001b[1;33m\u001b[0m\u001b[0m\n\u001b[0m",
      "\u001b[1;31mNameError\u001b[0m: name 'nltk' is not defined"
     ]
    }
   ],
   "source": [
    "nltk.download(\"average_perceptron_tagger\")"
   ]
  },
  {
   "cell_type": "code",
   "execution_count": 25,
   "id": "34b74d86-eb62-48c3-bebd-017d72c39b8d",
   "metadata": {},
   "outputs": [
    {
     "ename": "NameError",
     "evalue": "name 'nltk' is not defined",
     "output_type": "error",
     "traceback": [
      "\u001b[1;31m---------------------------------------------------------------------------\u001b[0m",
      "\u001b[1;31mNameError\u001b[0m                                 Traceback (most recent call last)",
      "\u001b[1;32m<ipython-input-25-93691185d879>\u001b[0m in \u001b[0;36m<module>\u001b[1;34m\u001b[0m\n\u001b[1;32m----> 1\u001b[1;33m \u001b[0mnltk\u001b[0m\u001b[1;33m.\u001b[0m\u001b[0mpos_tag\u001b[0m\u001b[1;33m(\u001b[0m\u001b[0mworrd_tokenize\u001b[0m\u001b[1;33m(\u001b[0m\u001b[0mcumle\u001b[0m\u001b[1;33m)\u001b[0m\u001b[1;33m)\u001b[0m\u001b[1;33m\u001b[0m\u001b[1;33m\u001b[0m\u001b[0m\n\u001b[0m",
      "\u001b[1;31mNameError\u001b[0m: name 'nltk' is not defined"
     ]
    }
   ],
   "source": [
    "nltk.pos_tag(worrd_tokenize(cumle)) # her bir kelimenin ne olduğunu yazdı. pos tagging"
   ]
  },
  {
   "cell_type": "code",
   "execution_count": 26,
   "id": "cc30b87b-77c1-4f14-9839-90436078cea9",
   "metadata": {},
   "outputs": [
    {
     "name": "stdout",
     "output_type": "stream",
     "text": [
      "Note: you may need to restart the kernel to use updated packages.\n"
     ]
    },
    {
     "name": "stderr",
     "output_type": "stream",
     "text": [
      "'c:\\program' is not recognized as an internal or external command,\n",
      "operable program or batch file.\n"
     ]
    }
   ],
   "source": [
    "text=word_tokenize(\"it is a pleasant day today\")"
   ]
  },
  {
   "cell_type": "code",
   "execution_count": 27,
   "id": "8756ab37-9bac-49b5-90f4-e97ba8fbac53",
   "metadata": {},
   "outputs": [
    {
     "ename": "NameError",
     "evalue": "name 'nltk' is not defined",
     "output_type": "error",
     "traceback": [
      "\u001b[1;31m---------------------------------------------------------------------------\u001b[0m",
      "\u001b[1;31mNameError\u001b[0m                                 Traceback (most recent call last)",
      "\u001b[1;32m<ipython-input-27-cef8bcc3f4ac>\u001b[0m in \u001b[0;36m<module>\u001b[1;34m\u001b[0m\n\u001b[1;32m----> 1\u001b[1;33m \u001b[0mnltk\u001b[0m\u001b[1;33m.\u001b[0m\u001b[0mpos_tag\u001b[0m\u001b[1;33m(\u001b[0m\u001b[0mtext\u001b[0m\u001b[1;33m)\u001b[0m\u001b[1;33m\u001b[0m\u001b[1;33m\u001b[0m\u001b[0m\n\u001b[0m",
      "\u001b[1;31mNameError\u001b[0m: name 'nltk' is not defined"
     ]
    }
   ],
   "source": [
    "nltk.pos_tag(text)"
   ]
  },
  {
   "cell_type": "code",
   "execution_count": 28,
   "id": "e52bd464-14e9-452f-b008-ffcdd9d27a10",
   "metadata": {},
   "outputs": [],
   "source": [
    "from nltk.tag import DefaultTagger"
   ]
  },
  {
   "cell_type": "code",
   "execution_count": 29,
   "id": "717c22b5-c0ce-4031-a3fb-3c80b3893a9c",
   "metadata": {},
   "outputs": [],
   "source": [
    "tag=DefaultTagger(\"He is the man\")"
   ]
  },
  {
   "cell_type": "code",
   "execution_count": 30,
   "id": "83429e79-8273-4422-93af-6835c8e5828d",
   "metadata": {},
   "outputs": [
    {
     "data": {
      "text/plain": [
       "[('beatiful', 'He is the man'), ('morning', 'He is the man')]"
      ]
     },
     "execution_count": 30,
     "metadata": {},
     "output_type": "execute_result"
    }
   ],
   "source": [
    "tag.tag([\"beatiful\",\"morning\"])"
   ]
  },
  {
   "cell_type": "code",
   "execution_count": 31,
   "id": "fb35fa83-85e7-4c9b-bedd-302070ba10f3",
   "metadata": {},
   "outputs": [
    {
     "name": "stdout",
     "output_type": "stream",
     "text": [
      "Defaulting to user installation because normal site-packages is not writeable\n",
      "Collecting autocorrect\n",
      "  Downloading autocorrect-2.6.1.tar.gz (622 kB)\n",
      "     -------------------------------------- 622.8/622.8 kB 3.0 MB/s eta 0:00:00\n",
      "  Preparing metadata (setup.py): started\n",
      "  Preparing metadata (setup.py): finished with status 'done'\n",
      "Using legacy 'setup.py install' for autocorrect, since package 'wheel' is not installed.\n",
      "Installing collected packages: autocorrect\n",
      "  Running setup.py install for autocorrect: started\n",
      "  Running setup.py install for autocorrect: finished with status 'done'\n",
      "Successfully installed autocorrect-2.6.1\n"
     ]
    },
    {
     "name": "stderr",
     "output_type": "stream",
     "text": [
      "\n",
      "[notice] A new release of pip available: 22.2.2 -> 22.3\n",
      "[notice] To update, run: python.exe -m pip install --upgrade pip\n"
     ]
    }
   ],
   "source": [
    "!pip install autocorrect"
   ]
  },
  {
   "cell_type": "code",
   "execution_count": 32,
   "id": "af426b7d-7d6f-4901-b824-2267a085a53a",
   "metadata": {},
   "outputs": [],
   "source": [
    "from autocorrect import spell"
   ]
  },
  {
   "cell_type": "code",
   "execution_count": 35,
   "id": "5dc4e09a-b339-4886-b318-3eef9c653967",
   "metadata": {},
   "outputs": [
    {
     "name": "stdout",
     "output_type": "stream",
     "text": [
      "autocorrect.spell is deprecated,             use autocorrect.Speller instead\n"
     ]
    },
    {
     "data": {
      "text/plain": [
       "'the'"
      ]
     },
     "execution_count": 35,
     "metadata": {},
     "output_type": "execute_result"
    }
   ],
   "source": [
    "spell(\"tghe\")"
   ]
  },
  {
   "cell_type": "code",
   "execution_count": 42,
   "id": "51296b87-56c4-4b00-b941-87d96b1d7778",
   "metadata": {},
   "outputs": [
    {
     "name": "stdout",
     "output_type": "stream",
     "text": [
      "Defaulting to user installation because normal site-packages is not writeable\n",
      "Requirement already satisfied: textblob in c:\\users\\betül ünver\\appdata\\roaming\\python\\python38\\site-packages (0.17.1)\n",
      "Requirement already satisfied: nltk>=3.1 in c:\\users\\betül ünver\\appdata\\roaming\\python\\python38\\site-packages (from textblob) (3.7)\n",
      "Requirement already satisfied: joblib in c:\\users\\betül ünver\\appdata\\roaming\\python\\python38\\site-packages (from nltk>=3.1->textblob) (1.2.0)\n",
      "Requirement already satisfied: click in c:\\users\\betül ünver\\appdata\\roaming\\python\\python38\\site-packages (from nltk>=3.1->textblob) (8.1.3)\n",
      "Requirement already satisfied: regex>=2021.8.3 in c:\\users\\betül ünver\\appdata\\roaming\\python\\python38\\site-packages (from nltk>=3.1->textblob) (2022.9.13)\n",
      "Requirement already satisfied: tqdm in c:\\users\\betül ünver\\appdata\\roaming\\python\\python38\\site-packages (from nltk>=3.1->textblob) (4.64.1)\n",
      "Requirement already satisfied: colorama in c:\\users\\betül ünver\\appdata\\roaming\\python\\python38\\site-packages (from click->nltk>=3.1->textblob) (0.4.4)\n"
     ]
    },
    {
     "name": "stderr",
     "output_type": "stream",
     "text": [
      "\n",
      "[notice] A new release of pip available: 22.2.2 -> 22.3\n",
      "[notice] To update, run: python.exe -m pip install --upgrade pip\n"
     ]
    }
   ],
   "source": [
    "!pip install --trusted-host pypi.python.org textblob"
   ]
  },
  {
   "cell_type": "code",
   "execution_count": 43,
   "id": "289064fd-f206-4290-a780-e5eeb084fe85",
   "metadata": {},
   "outputs": [],
   "source": [
    "from textblob import TextBlob"
   ]
  },
  {
   "cell_type": "code",
   "execution_count": 44,
   "id": "23ec26ec-e104-4ac2-90ab-da489f5fbff4",
   "metadata": {},
   "outputs": [],
   "source": [
    "b=TextBlob(\"I havv good spelling\")"
   ]
  },
  {
   "cell_type": "code",
   "execution_count": 39,
   "id": "f3e2f118-9d31-41fb-9fce-8e0822820bb1",
   "metadata": {},
   "outputs": [],
   "source": [
    "# hangi dilde anlayacak ve yanlışı düzeltecek"
   ]
  },
  {
   "cell_type": "code",
   "execution_count": 45,
   "id": "4550d81e-92b0-4c4c-8d99-2dfd7c2f7878",
   "metadata": {},
   "outputs": [
    {
     "ename": "HTTPError",
     "evalue": "HTTP Error 400: Bad Request",
     "output_type": "error",
     "traceback": [
      "\u001b[1;31m---------------------------------------------------------------------------\u001b[0m",
      "\u001b[1;31mHTTPError\u001b[0m                                 Traceback (most recent call last)",
      "\u001b[1;32m<ipython-input-45-d50774b40215>\u001b[0m in \u001b[0;36m<module>\u001b[1;34m\u001b[0m\n\u001b[1;32m----> 1\u001b[1;33m \u001b[0mb\u001b[0m\u001b[1;33m.\u001b[0m\u001b[0mdetect_language\u001b[0m\u001b[1;33m(\u001b[0m\u001b[1;33m)\u001b[0m\u001b[1;33m\u001b[0m\u001b[1;33m\u001b[0m\u001b[0m\n\u001b[0m",
      "\u001b[1;32m~\\AppData\\Roaming\\Python\\Python38\\site-packages\\textblob\\blob.py\u001b[0m in \u001b[0;36mdetect_language\u001b[1;34m(self)\u001b[0m\n\u001b[0;32m    595\u001b[0m             \u001b[0mDeprecationWarning\u001b[0m\u001b[1;33m\u001b[0m\u001b[1;33m\u001b[0m\u001b[0m\n\u001b[0;32m    596\u001b[0m         )\n\u001b[1;32m--> 597\u001b[1;33m         \u001b[1;32mreturn\u001b[0m \u001b[0mself\u001b[0m\u001b[1;33m.\u001b[0m\u001b[0mtranslator\u001b[0m\u001b[1;33m.\u001b[0m\u001b[0mdetect\u001b[0m\u001b[1;33m(\u001b[0m\u001b[0mself\u001b[0m\u001b[1;33m.\u001b[0m\u001b[0mraw\u001b[0m\u001b[1;33m)\u001b[0m\u001b[1;33m\u001b[0m\u001b[1;33m\u001b[0m\u001b[0m\n\u001b[0m\u001b[0;32m    598\u001b[0m \u001b[1;33m\u001b[0m\u001b[0m\n\u001b[0;32m    599\u001b[0m     \u001b[1;32mdef\u001b[0m \u001b[0mcorrect\u001b[0m\u001b[1;33m(\u001b[0m\u001b[0mself\u001b[0m\u001b[1;33m)\u001b[0m\u001b[1;33m:\u001b[0m\u001b[1;33m\u001b[0m\u001b[1;33m\u001b[0m\u001b[0m\n",
      "\u001b[1;32m~\\AppData\\Roaming\\Python\\Python38\\site-packages\\textblob\\translate.py\u001b[0m in \u001b[0;36mdetect\u001b[1;34m(self, source, host, type_)\u001b[0m\n\u001b[0;32m     74\u001b[0m             \u001b[0mclient\u001b[0m\u001b[1;33m=\u001b[0m\u001b[1;34m\"te\"\u001b[0m\u001b[1;33m,\u001b[0m\u001b[1;33m\u001b[0m\u001b[1;33m\u001b[0m\u001b[0m\n\u001b[0;32m     75\u001b[0m         )\n\u001b[1;32m---> 76\u001b[1;33m         \u001b[0mresponse\u001b[0m \u001b[1;33m=\u001b[0m \u001b[0mself\u001b[0m\u001b[1;33m.\u001b[0m\u001b[0m_request\u001b[0m\u001b[1;33m(\u001b[0m\u001b[0murl\u001b[0m\u001b[1;33m,\u001b[0m \u001b[0mhost\u001b[0m\u001b[1;33m=\u001b[0m\u001b[0mhost\u001b[0m\u001b[1;33m,\u001b[0m \u001b[0mtype_\u001b[0m\u001b[1;33m=\u001b[0m\u001b[0mtype_\u001b[0m\u001b[1;33m,\u001b[0m \u001b[0mdata\u001b[0m\u001b[1;33m=\u001b[0m\u001b[0mdata\u001b[0m\u001b[1;33m)\u001b[0m\u001b[1;33m\u001b[0m\u001b[1;33m\u001b[0m\u001b[0m\n\u001b[0m\u001b[0;32m     77\u001b[0m         \u001b[0mresult\u001b[0m\u001b[1;33m,\u001b[0m \u001b[0mlanguage\u001b[0m \u001b[1;33m=\u001b[0m \u001b[0mjson\u001b[0m\u001b[1;33m.\u001b[0m\u001b[0mloads\u001b[0m\u001b[1;33m(\u001b[0m\u001b[0mresponse\u001b[0m\u001b[1;33m)\u001b[0m\u001b[1;33m\u001b[0m\u001b[1;33m\u001b[0m\u001b[0m\n\u001b[0;32m     78\u001b[0m         \u001b[1;32mreturn\u001b[0m \u001b[0mlanguage\u001b[0m\u001b[1;33m\u001b[0m\u001b[1;33m\u001b[0m\u001b[0m\n",
      "\u001b[1;32m~\\AppData\\Roaming\\Python\\Python38\\site-packages\\textblob\\translate.py\u001b[0m in \u001b[0;36m_request\u001b[1;34m(self, url, host, type_, data)\u001b[0m\n\u001b[0;32m     94\u001b[0m         \u001b[1;32mif\u001b[0m \u001b[0mhost\u001b[0m \u001b[1;32mor\u001b[0m \u001b[0mtype_\u001b[0m\u001b[1;33m:\u001b[0m\u001b[1;33m\u001b[0m\u001b[1;33m\u001b[0m\u001b[0m\n\u001b[0;32m     95\u001b[0m             \u001b[0mreq\u001b[0m\u001b[1;33m.\u001b[0m\u001b[0mset_proxy\u001b[0m\u001b[1;33m(\u001b[0m\u001b[0mhost\u001b[0m\u001b[1;33m=\u001b[0m\u001b[0mhost\u001b[0m\u001b[1;33m,\u001b[0m \u001b[0mtype\u001b[0m\u001b[1;33m=\u001b[0m\u001b[0mtype_\u001b[0m\u001b[1;33m)\u001b[0m\u001b[1;33m\u001b[0m\u001b[1;33m\u001b[0m\u001b[0m\n\u001b[1;32m---> 96\u001b[1;33m         \u001b[0mresp\u001b[0m \u001b[1;33m=\u001b[0m \u001b[0mrequest\u001b[0m\u001b[1;33m.\u001b[0m\u001b[0murlopen\u001b[0m\u001b[1;33m(\u001b[0m\u001b[0mreq\u001b[0m\u001b[1;33m)\u001b[0m\u001b[1;33m\u001b[0m\u001b[1;33m\u001b[0m\u001b[0m\n\u001b[0m\u001b[0;32m     97\u001b[0m         \u001b[0mcontent\u001b[0m \u001b[1;33m=\u001b[0m \u001b[0mresp\u001b[0m\u001b[1;33m.\u001b[0m\u001b[0mread\u001b[0m\u001b[1;33m(\u001b[0m\u001b[1;33m)\u001b[0m\u001b[1;33m\u001b[0m\u001b[1;33m\u001b[0m\u001b[0m\n\u001b[0;32m     98\u001b[0m         \u001b[1;32mreturn\u001b[0m \u001b[0mcontent\u001b[0m\u001b[1;33m.\u001b[0m\u001b[0mdecode\u001b[0m\u001b[1;33m(\u001b[0m\u001b[1;34m'utf-8'\u001b[0m\u001b[1;33m)\u001b[0m\u001b[1;33m\u001b[0m\u001b[1;33m\u001b[0m\u001b[0m\n",
      "\u001b[1;32mc:\\program files\\python38\\lib\\urllib\\request.py\u001b[0m in \u001b[0;36murlopen\u001b[1;34m(url, data, timeout, cafile, capath, cadefault, context)\u001b[0m\n\u001b[0;32m    220\u001b[0m     \u001b[1;32melse\u001b[0m\u001b[1;33m:\u001b[0m\u001b[1;33m\u001b[0m\u001b[1;33m\u001b[0m\u001b[0m\n\u001b[0;32m    221\u001b[0m         \u001b[0mopener\u001b[0m \u001b[1;33m=\u001b[0m \u001b[0m_opener\u001b[0m\u001b[1;33m\u001b[0m\u001b[1;33m\u001b[0m\u001b[0m\n\u001b[1;32m--> 222\u001b[1;33m     \u001b[1;32mreturn\u001b[0m \u001b[0mopener\u001b[0m\u001b[1;33m.\u001b[0m\u001b[0mopen\u001b[0m\u001b[1;33m(\u001b[0m\u001b[0murl\u001b[0m\u001b[1;33m,\u001b[0m \u001b[0mdata\u001b[0m\u001b[1;33m,\u001b[0m \u001b[0mtimeout\u001b[0m\u001b[1;33m)\u001b[0m\u001b[1;33m\u001b[0m\u001b[1;33m\u001b[0m\u001b[0m\n\u001b[0m\u001b[0;32m    223\u001b[0m \u001b[1;33m\u001b[0m\u001b[0m\n\u001b[0;32m    224\u001b[0m \u001b[1;32mdef\u001b[0m \u001b[0minstall_opener\u001b[0m\u001b[1;33m(\u001b[0m\u001b[0mopener\u001b[0m\u001b[1;33m)\u001b[0m\u001b[1;33m:\u001b[0m\u001b[1;33m\u001b[0m\u001b[1;33m\u001b[0m\u001b[0m\n",
      "\u001b[1;32mc:\\program files\\python38\\lib\\urllib\\request.py\u001b[0m in \u001b[0;36mopen\u001b[1;34m(self, fullurl, data, timeout)\u001b[0m\n\u001b[0;32m    529\u001b[0m         \u001b[1;32mfor\u001b[0m \u001b[0mprocessor\u001b[0m \u001b[1;32min\u001b[0m \u001b[0mself\u001b[0m\u001b[1;33m.\u001b[0m\u001b[0mprocess_response\u001b[0m\u001b[1;33m.\u001b[0m\u001b[0mget\u001b[0m\u001b[1;33m(\u001b[0m\u001b[0mprotocol\u001b[0m\u001b[1;33m,\u001b[0m \u001b[1;33m[\u001b[0m\u001b[1;33m]\u001b[0m\u001b[1;33m)\u001b[0m\u001b[1;33m:\u001b[0m\u001b[1;33m\u001b[0m\u001b[1;33m\u001b[0m\u001b[0m\n\u001b[0;32m    530\u001b[0m             \u001b[0mmeth\u001b[0m \u001b[1;33m=\u001b[0m \u001b[0mgetattr\u001b[0m\u001b[1;33m(\u001b[0m\u001b[0mprocessor\u001b[0m\u001b[1;33m,\u001b[0m \u001b[0mmeth_name\u001b[0m\u001b[1;33m)\u001b[0m\u001b[1;33m\u001b[0m\u001b[1;33m\u001b[0m\u001b[0m\n\u001b[1;32m--> 531\u001b[1;33m             \u001b[0mresponse\u001b[0m \u001b[1;33m=\u001b[0m \u001b[0mmeth\u001b[0m\u001b[1;33m(\u001b[0m\u001b[0mreq\u001b[0m\u001b[1;33m,\u001b[0m \u001b[0mresponse\u001b[0m\u001b[1;33m)\u001b[0m\u001b[1;33m\u001b[0m\u001b[1;33m\u001b[0m\u001b[0m\n\u001b[0m\u001b[0;32m    532\u001b[0m \u001b[1;33m\u001b[0m\u001b[0m\n\u001b[0;32m    533\u001b[0m         \u001b[1;32mreturn\u001b[0m \u001b[0mresponse\u001b[0m\u001b[1;33m\u001b[0m\u001b[1;33m\u001b[0m\u001b[0m\n",
      "\u001b[1;32mc:\\program files\\python38\\lib\\urllib\\request.py\u001b[0m in \u001b[0;36mhttp_response\u001b[1;34m(self, request, response)\u001b[0m\n\u001b[0;32m    638\u001b[0m         \u001b[1;31m# request was successfully received, understood, and accepted.\u001b[0m\u001b[1;33m\u001b[0m\u001b[1;33m\u001b[0m\u001b[1;33m\u001b[0m\u001b[0m\n\u001b[0;32m    639\u001b[0m         \u001b[1;32mif\u001b[0m \u001b[1;32mnot\u001b[0m \u001b[1;33m(\u001b[0m\u001b[1;36m200\u001b[0m \u001b[1;33m<=\u001b[0m \u001b[0mcode\u001b[0m \u001b[1;33m<\u001b[0m \u001b[1;36m300\u001b[0m\u001b[1;33m)\u001b[0m\u001b[1;33m:\u001b[0m\u001b[1;33m\u001b[0m\u001b[1;33m\u001b[0m\u001b[0m\n\u001b[1;32m--> 640\u001b[1;33m             response = self.parent.error(\n\u001b[0m\u001b[0;32m    641\u001b[0m                 'http', request, response, code, msg, hdrs)\n\u001b[0;32m    642\u001b[0m \u001b[1;33m\u001b[0m\u001b[0m\n",
      "\u001b[1;32mc:\\program files\\python38\\lib\\urllib\\request.py\u001b[0m in \u001b[0;36merror\u001b[1;34m(self, proto, *args)\u001b[0m\n\u001b[0;32m    567\u001b[0m         \u001b[1;32mif\u001b[0m \u001b[0mhttp_err\u001b[0m\u001b[1;33m:\u001b[0m\u001b[1;33m\u001b[0m\u001b[1;33m\u001b[0m\u001b[0m\n\u001b[0;32m    568\u001b[0m             \u001b[0margs\u001b[0m \u001b[1;33m=\u001b[0m \u001b[1;33m(\u001b[0m\u001b[0mdict\u001b[0m\u001b[1;33m,\u001b[0m \u001b[1;34m'default'\u001b[0m\u001b[1;33m,\u001b[0m \u001b[1;34m'http_error_default'\u001b[0m\u001b[1;33m)\u001b[0m \u001b[1;33m+\u001b[0m \u001b[0morig_args\u001b[0m\u001b[1;33m\u001b[0m\u001b[1;33m\u001b[0m\u001b[0m\n\u001b[1;32m--> 569\u001b[1;33m             \u001b[1;32mreturn\u001b[0m \u001b[0mself\u001b[0m\u001b[1;33m.\u001b[0m\u001b[0m_call_chain\u001b[0m\u001b[1;33m(\u001b[0m\u001b[1;33m*\u001b[0m\u001b[0margs\u001b[0m\u001b[1;33m)\u001b[0m\u001b[1;33m\u001b[0m\u001b[1;33m\u001b[0m\u001b[0m\n\u001b[0m\u001b[0;32m    570\u001b[0m \u001b[1;33m\u001b[0m\u001b[0m\n\u001b[0;32m    571\u001b[0m \u001b[1;31m# XXX probably also want an abstract factory that knows when it makes\u001b[0m\u001b[1;33m\u001b[0m\u001b[1;33m\u001b[0m\u001b[1;33m\u001b[0m\u001b[0m\n",
      "\u001b[1;32mc:\\program files\\python38\\lib\\urllib\\request.py\u001b[0m in \u001b[0;36m_call_chain\u001b[1;34m(self, chain, kind, meth_name, *args)\u001b[0m\n\u001b[0;32m    500\u001b[0m         \u001b[1;32mfor\u001b[0m \u001b[0mhandler\u001b[0m \u001b[1;32min\u001b[0m \u001b[0mhandlers\u001b[0m\u001b[1;33m:\u001b[0m\u001b[1;33m\u001b[0m\u001b[1;33m\u001b[0m\u001b[0m\n\u001b[0;32m    501\u001b[0m             \u001b[0mfunc\u001b[0m \u001b[1;33m=\u001b[0m \u001b[0mgetattr\u001b[0m\u001b[1;33m(\u001b[0m\u001b[0mhandler\u001b[0m\u001b[1;33m,\u001b[0m \u001b[0mmeth_name\u001b[0m\u001b[1;33m)\u001b[0m\u001b[1;33m\u001b[0m\u001b[1;33m\u001b[0m\u001b[0m\n\u001b[1;32m--> 502\u001b[1;33m             \u001b[0mresult\u001b[0m \u001b[1;33m=\u001b[0m \u001b[0mfunc\u001b[0m\u001b[1;33m(\u001b[0m\u001b[1;33m*\u001b[0m\u001b[0margs\u001b[0m\u001b[1;33m)\u001b[0m\u001b[1;33m\u001b[0m\u001b[1;33m\u001b[0m\u001b[0m\n\u001b[0m\u001b[0;32m    503\u001b[0m             \u001b[1;32mif\u001b[0m \u001b[0mresult\u001b[0m \u001b[1;32mis\u001b[0m \u001b[1;32mnot\u001b[0m \u001b[1;32mNone\u001b[0m\u001b[1;33m:\u001b[0m\u001b[1;33m\u001b[0m\u001b[1;33m\u001b[0m\u001b[0m\n\u001b[0;32m    504\u001b[0m                 \u001b[1;32mreturn\u001b[0m \u001b[0mresult\u001b[0m\u001b[1;33m\u001b[0m\u001b[1;33m\u001b[0m\u001b[0m\n",
      "\u001b[1;32mc:\\program files\\python38\\lib\\urllib\\request.py\u001b[0m in \u001b[0;36mhttp_error_default\u001b[1;34m(self, req, fp, code, msg, hdrs)\u001b[0m\n\u001b[0;32m    647\u001b[0m \u001b[1;32mclass\u001b[0m \u001b[0mHTTPDefaultErrorHandler\u001b[0m\u001b[1;33m(\u001b[0m\u001b[0mBaseHandler\u001b[0m\u001b[1;33m)\u001b[0m\u001b[1;33m:\u001b[0m\u001b[1;33m\u001b[0m\u001b[1;33m\u001b[0m\u001b[0m\n\u001b[0;32m    648\u001b[0m     \u001b[1;32mdef\u001b[0m \u001b[0mhttp_error_default\u001b[0m\u001b[1;33m(\u001b[0m\u001b[0mself\u001b[0m\u001b[1;33m,\u001b[0m \u001b[0mreq\u001b[0m\u001b[1;33m,\u001b[0m \u001b[0mfp\u001b[0m\u001b[1;33m,\u001b[0m \u001b[0mcode\u001b[0m\u001b[1;33m,\u001b[0m \u001b[0mmsg\u001b[0m\u001b[1;33m,\u001b[0m \u001b[0mhdrs\u001b[0m\u001b[1;33m)\u001b[0m\u001b[1;33m:\u001b[0m\u001b[1;33m\u001b[0m\u001b[1;33m\u001b[0m\u001b[0m\n\u001b[1;32m--> 649\u001b[1;33m         \u001b[1;32mraise\u001b[0m \u001b[0mHTTPError\u001b[0m\u001b[1;33m(\u001b[0m\u001b[0mreq\u001b[0m\u001b[1;33m.\u001b[0m\u001b[0mfull_url\u001b[0m\u001b[1;33m,\u001b[0m \u001b[0mcode\u001b[0m\u001b[1;33m,\u001b[0m \u001b[0mmsg\u001b[0m\u001b[1;33m,\u001b[0m \u001b[0mhdrs\u001b[0m\u001b[1;33m,\u001b[0m \u001b[0mfp\u001b[0m\u001b[1;33m)\u001b[0m\u001b[1;33m\u001b[0m\u001b[1;33m\u001b[0m\u001b[0m\n\u001b[0m\u001b[0;32m    650\u001b[0m \u001b[1;33m\u001b[0m\u001b[0m\n\u001b[0;32m    651\u001b[0m \u001b[1;32mclass\u001b[0m \u001b[0mHTTPRedirectHandler\u001b[0m\u001b[1;33m(\u001b[0m\u001b[0mBaseHandler\u001b[0m\u001b[1;33m)\u001b[0m\u001b[1;33m:\u001b[0m\u001b[1;33m\u001b[0m\u001b[1;33m\u001b[0m\u001b[0m\n",
      "\u001b[1;31mHTTPError\u001b[0m: HTTP Error 400: Bad Request"
     ]
    }
   ],
   "source": [
    "#b.detect_language() çalışmadı"
   ]
  },
  {
   "cell_type": "code",
   "execution_count": 46,
   "id": "00d97768-2e47-4378-8259-fff89273581a",
   "metadata": {},
   "outputs": [
    {
     "data": {
      "text/plain": [
       "TextBlob(\"I have good spelling\")"
      ]
     },
     "execution_count": 46,
     "metadata": {},
     "output_type": "execute_result"
    }
   ],
   "source": [
    "b.correct()"
   ]
  },
  {
   "cell_type": "code",
   "execution_count": 49,
   "id": "32c82921-8cf6-43de-9a30-4b2760482f80",
   "metadata": {},
   "outputs": [
    {
     "name": "stdout",
     "output_type": "stream",
     "text": [
      "Defaulting to user installation because normal site-packages is not writeable"
     ]
    },
    {
     "name": "stderr",
     "output_type": "stream",
     "text": [
      "\n",
      "[notice] A new release of pip available: 22.2.2 -> 22.3\n",
      "[notice] To update, run: python.exe -m pip install --upgrade pip\n"
     ]
    },
    {
     "name": "stdout",
     "output_type": "stream",
     "text": [
      "\n",
      "Collecting langdetect\n",
      "  Downloading langdetect-1.0.9.tar.gz (981 kB)\n",
      "     -------------------------------------- 981.5/981.5 kB 4.1 MB/s eta 0:00:00\n",
      "  Preparing metadata (setup.py): started\n",
      "  Preparing metadata (setup.py): finished with status 'done'\n",
      "Requirement already satisfied: six in c:\\users\\betül ünver\\appdata\\roaming\\python\\python38\\site-packages (from langdetect) (1.15.0)\n",
      "Using legacy 'setup.py install' for langdetect, since package 'wheel' is not installed.\n",
      "Installing collected packages: langdetect\n",
      "  Running setup.py install for langdetect: started\n",
      "  Running setup.py install for langdetect: finished with status 'done'\n",
      "Successfully installed langdetect-1.0.9\n"
     ]
    }
   ],
   "source": [
    "!pip install langdetect"
   ]
  },
  {
   "cell_type": "code",
   "execution_count": 50,
   "id": "3ec2657e-acd9-473d-8ab2-ca8f3d267769",
   "metadata": {},
   "outputs": [],
   "source": [
    "from langdetect import detect"
   ]
  },
  {
   "cell_type": "code",
   "execution_count": 54,
   "id": "8b811328-667f-424e-96b1-7bca212f8c50",
   "metadata": {},
   "outputs": [
    {
     "data": {
      "text/plain": [
       "'de'"
      ]
     },
     "execution_count": 54,
     "metadata": {},
     "output_type": "execute_result"
    }
   ],
   "source": [
    "detect(\"Ein, zwei, vier\") #hangi dil olduğunu anlıyor"
   ]
  },
  {
   "cell_type": "code",
   "execution_count": 52,
   "id": "46d2857d-e31c-42e2-9348-0b7896098cb7",
   "metadata": {},
   "outputs": [
    {
     "data": {
      "text/plain": [
       "'tr'"
      ]
     },
     "execution_count": 52,
     "metadata": {},
     "output_type": "execute_result"
    }
   ],
   "source": [
    "detect(\"Döndü dönmedi\")"
   ]
  },
  {
   "cell_type": "code",
   "execution_count": 53,
   "id": "0ae85fac-6715-4d2e-8500-888648ead8cf",
   "metadata": {},
   "outputs": [
    {
     "data": {
      "text/plain": [
       "'tr'"
      ]
     },
     "execution_count": 53,
     "metadata": {},
     "output_type": "execute_result"
    }
   ],
   "source": [
    "detect(\"Nasılsınız\")"
   ]
  },
  {
   "cell_type": "code",
   "execution_count": 56,
   "id": "72d8dded-3efa-4377-90bf-b814caa436f9",
   "metadata": {},
   "outputs": [
    {
     "data": {
      "text/plain": [
       "'es'"
      ]
     },
     "execution_count": 56,
     "metadata": {},
     "output_type": "execute_result"
    }
   ],
   "source": [
    "detect(\"Eu gosto de vier\")"
   ]
  },
  {
   "cell_type": "code",
   "execution_count": 57,
   "id": "bfa8724a-5165-4848-8ed5-0d16b3564081",
   "metadata": {},
   "outputs": [
    {
     "data": {
      "text/plain": [
       "'id'"
      ]
     },
     "execution_count": 57,
     "metadata": {},
     "output_type": "execute_result"
    }
   ],
   "source": [
    "detect(\"Merhaba\")"
   ]
  },
  {
   "cell_type": "code",
   "execution_count": 58,
   "id": "cf7fb2f2-1ff9-4997-ad88-413e4fdf174f",
   "metadata": {},
   "outputs": [],
   "source": [
    "# iki kelimeyle bakmak daha sağlıklı. mesela ingilizce phrasel verb var. look başka look up başka, look for başka"
   ]
  },
  {
   "cell_type": "code",
   "execution_count": 62,
   "id": "f65d338e-5a28-4728-a46b-d4b27cc061e4",
   "metadata": {},
   "outputs": [],
   "source": [
    "#Speech to Text"
   ]
  },
  {
   "cell_type": "code",
   "execution_count": 59,
   "id": "1b4bb455-c1c4-4ac2-99c0-d99a6e02b381",
   "metadata": {},
   "outputs": [],
   "source": [
    "c=\"I am a free black man from Africa\""
   ]
  },
  {
   "cell_type": "code",
   "execution_count": 63,
   "id": "0c3e9819-90bd-47be-8706-a3deb7eec948",
   "metadata": {},
   "outputs": [],
   "source": [
    "b=TextBlob(c)"
   ]
  },
  {
   "cell_type": "code",
   "execution_count": 66,
   "id": "7848c025-f585-4d2a-b019-64c6565befc8",
   "metadata": {},
   "outputs": [
    {
     "data": {
      "text/plain": [
       "TextBlob(\"Afrika'dan özgür bir siyah adamım\")"
      ]
     },
     "execution_count": 66,
     "metadata": {},
     "output_type": "execute_result"
    }
   ],
   "source": [
    "b.translate(from_lang=\"en\",to=\"tr\")"
   ]
  },
  {
   "cell_type": "code",
   "execution_count": 70,
   "id": "b549dbda-851e-4efb-b26d-c4950fc8e430",
   "metadata": {},
   "outputs": [],
   "source": [
    "k=\"hayat kısa, kuşlar uçuyor\""
   ]
  },
  {
   "cell_type": "code",
   "execution_count": 71,
   "id": "6da4a0cc-2689-4f88-848f-a4a3aaa76f64",
   "metadata": {},
   "outputs": [],
   "source": [
    "b=TextBlob(k)"
   ]
  },
  {
   "cell_type": "code",
   "execution_count": 72,
   "id": "8989fc38-338d-4b28-84bc-45f01c9798d0",
   "metadata": {},
   "outputs": [
    {
     "data": {
      "text/plain": [
       "TextBlob(\"الحياة قصيرة ، الطيور تطير\")"
      ]
     },
     "execution_count": 72,
     "metadata": {},
     "output_type": "execute_result"
    }
   ],
   "source": [
    "b.translate(\"tr\",\"ar\")"
   ]
  },
  {
   "cell_type": "code",
   "execution_count": 73,
   "id": "b4eb2eba-1134-43db-8fa6-82cd14d55b7a",
   "metadata": {},
   "outputs": [],
   "source": [
    "l=\"Benim çok işim var, bana bulaşma\""
   ]
  },
  {
   "cell_type": "code",
   "execution_count": 74,
   "id": "195ff155-086d-48c9-8b22-9f23177cd0ca",
   "metadata": {},
   "outputs": [],
   "source": [
    "b=TextBlob(l)"
   ]
  },
  {
   "cell_type": "code",
   "execution_count": 75,
   "id": "3e99f030-03eb-42f4-affa-0f4da2f889db",
   "metadata": {},
   "outputs": [
    {
     "data": {
      "text/plain": [
       "TextBlob(\"I have a lot of work, don't get involved in me\")"
      ]
     },
     "execution_count": 75,
     "metadata": {},
     "output_type": "execute_result"
    }
   ],
   "source": [
    "b.translate(\"tr\",\"en\")"
   ]
  },
  {
   "cell_type": "code",
   "execution_count": 76,
   "id": "336c3160-7ccc-43b5-9770-798eb08b9afc",
   "metadata": {},
   "outputs": [],
   "source": [
    "#TF-IDF -> Term Frequency  - Inverse documnet frequency"
   ]
  },
  {
   "cell_type": "code",
   "execution_count": 78,
   "id": "3ac662e1-4ce3-4715-b7f6-20e2cd5b1bcb",
   "metadata": {},
   "outputs": [
    {
     "name": "stdout",
     "output_type": "stream",
     "text": [
      "Defaulting to user installation because normal site-packages is not writeable"
     ]
    },
    {
     "name": "stderr",
     "output_type": "stream",
     "text": [
      "\n",
      "[notice] A new release of pip available: 22.2.2 -> 22.3\n",
      "[notice] To update, run: python.exe -m pip install --upgrade pip\n"
     ]
    },
    {
     "name": "stdout",
     "output_type": "stream",
     "text": [
      "\n",
      "Collecting google\n",
      "  Downloading google-3.0.0-py2.py3-none-any.whl (45 kB)\n",
      "     -------------------------------------- 45.3/45.3 kB 745.1 kB/s eta 0:00:00\n",
      "Requirement already satisfied: beautifulsoup4 in c:\\program files\\python38\\lib\\site-packages (from google) (4.11.1)\n",
      "Requirement already satisfied: soupsieve>1.2 in c:\\program files\\python38\\lib\\site-packages (from beautifulsoup4->google) (2.3.2.post1)\n",
      "Installing collected packages: google\n",
      "Successfully installed google-3.0.0\n"
     ]
    }
   ],
   "source": [
    "!pip install google"
   ]
  },
  {
   "cell_type": "code",
   "execution_count": 79,
   "id": "e6f72bd0-381f-41fe-a681-d4f5ab270079",
   "metadata": {},
   "outputs": [],
   "source": [
    "from googlesearch import search"
   ]
  },
  {
   "cell_type": "code",
   "execution_count": 83,
   "id": "af4c5d7f-e639-426f-8da6-85aa604d63d1",
   "metadata": {
    "collapsed": true,
    "jupyter": {
     "outputs_hidden": true
    },
    "tags": []
   },
   "outputs": [
    {
     "name": "stdout",
     "output_type": "stream",
     "text": [
      "https://tr.linkedin.com/in/bet%C3%BCl-%C3%BCnver-40052b170\n",
      "https://tr.linkedin.com/in/betul-unver\n",
      "https://tr-tr.facebook.com/public/Bet%C3%BCl-%C3%9Cnver\n",
      "https://www.instagram.com/betulunverrrr/\n",
      "https://www.instagram.com/betul.unver/\n",
      "https://twitter.com/btlunvr\n",
      "https://www.kariyer.net/ozgecmis/betulunver\n",
      "https://iam.metu.edu.tr/en/student-assistants\n",
      "https://magizeroo.meb.k12.tr/01/01/724817/idari_personel/betul-unver_1435765.html\n",
      "https://tez.yok.gov.tr/UlusalTezMerkezi/tezDetay.jsp?id=lwZrS6aXCIzglKcLHnoAEg&no=HRd1xs7eCeoP7E7y0ya_Ig\n",
      "https://tr.pinterest.com/betul_unver/\n",
      "https://tr.pinterest.com/betuus_dvl/\n",
      "https://tr.foursquare.com/user/60533581\n",
      "https://www.kitapsec.com/mobil/betul-unver_yzr74262/\n",
      "https://www.bulurum.com/details/15d037_e7iad615d4_42b4353d24a_6k\n",
      "https://medium.com/batech/about\n",
      "https://dergipark.org.tr/tr/pub/anatomy/issue/57163/690251\n",
      "https://www.youtube.com/channel/UCFv7ni4vihlwNrO59RBqONQ\n",
      "https://www.anadolu.edu.tr/en/about-anadolu-1/about-anadolu/institutional/prof-dr-betul-demirci-en\n",
      "https://github.com/betulunver\n",
      "http://www.iibf.mu.edu.tr/Icerik/iibf.mu.edu.tr/Sayfa/KAY1009%20Y%C3%B6netim%20Bilimi.pdf\n",
      "https://www.ataekitap.com/e-kitaplar/ilkokul/3-Sinif/3_Sinif_Citir_Citir_Matematik_Calisma_Kitabim/files/basic-html/page2.html\n",
      "https://www.tiktok.com/@betul.koksoy.unver\n",
      "https://www.doktortakvimi.com/betul-unverdi/pratisyen/amasya\n",
      "https://mlu.boun.edu.tr/en/people/betul-ozturk\n",
      "https://krtknadmn.karatekin.edu.tr/files/islamiilimler/2019/2019%20ders%20se%C3%A7mesi/1.%20S%C4%B1n%C4%B1f%201.%20%C3%B6%C4%9Fretim%203.%20%C5%9Fube.docx\n",
      "https://www.kitapiste.com/Betul-Unver_ar_4110\n",
      "https://bayburt.edu.tr/en/betul-akturk\n",
      "https://atilim.libcal.com/appointment/29456\n",
      "https://kocaelisaglik.edu.tr/en/betul-buyukkilic-altinbasak-2/\n",
      "https://sivasism.saglik.gov.tr/Eklenti/163480/0/sivas-il-saglik-mudurlugu-2022-yili-1-grup-aday-memur-hazirlayici-egitim-sinav-sonuclaripdf.pdf\n",
      "https://law.ku.edu.tr/people/alumni/betul-durmus/\n",
      "https://www.kaggle.com/betulunver\n",
      "https://www.sahibinden.com/ilan/ikinci-el-ve-sifir-alisveris-muzik-muzik-aletleri-kawai-kdp110-b-dijital-piyano-1048797476/detay\n",
      "https://golfkimya.com/iletisim\n",
      "https://www.ozyegin.edu.tr/en/faculty/betulsenturk\n",
      "https://www.kacarlab.org/betul\n",
      "https://en.wikipedia.org/wiki/Bet%C3%BCl_Ka%C3%A7ar\n",
      "https://mimoza.marmara.edu.tr/~betul.demiroz/\n",
      "https://biz.nevsehir.edu.tr/betulsimsek/en\n",
      "https://www.hekimler.net/betul-unverdi-elden\n",
      "https://bbayraktar.sakarya.edu.tr/en/galeri\n",
      "https://atauni.edu.tr/betul-apaydin-yildirim\n",
      "https://www.hakkari.edu.tr/en/blog/user/9223/betul-guney\n",
      "http://www.tansusipahi.com.tr/etiket/bildiri-listesi/\n",
      "https://staff.yasar.edu.tr/Create/Cv/VFVScmVWUkhaekJ45YTA1MlRrUkplazFVWXpJ45$xYSR/en\n",
      "https://www.researchgate.net/profile/Betuel-Yilmaz-Oeztuerk\n",
      "https://tip.uludag.edu.tr/en/betul-berrin-sevinir\n",
      "https://sehir.academia.edu/Bet%C3%BClS%C4%B0NANN%C4%B0ZAM\n",
      "https://avesis.cumhuriyet.edu.tr/dbunsal\n",
      "https://www.isikun.edu.tr/international/contact\n",
      "https://www.research.manchester.ac.uk/portal/betul.yilmaz.html\n",
      "http://www.cagsuduzce.com/tr/EBebek.asp?BId=6856\n",
      "https://www.antalyaisrehberi.org/mobil/9323-ilgin-eczanesi.html\n",
      "https://w3.bilkent.edu.tr/bilkent/seminar-equity-crowdfunding-opportunities-among-start-up-companies-dr-betul-acikgoz-bozok-university-umit-berkman-seminar-room-140pm-april-27-en/\n",
      "http://ww3.ticaret.edu.tr/bgur/\n",
      "https://www.bilgi.edu.tr/en/academic/graduate/contact/\n",
      "https://www.uhhospitals.org/doctors/Hatipoglu-Betul-1245343862\n",
      "https://www.gunselilab.com/people\n",
      "https://sgdb.bartin.edu.tr/personel-ve-birimler/personel.html\n",
      "https://www.gla.ac.uk/schools/psychologyneuroscience/staff/betultatar/\n",
      "https://www.nottingham.ac.uk/psychology/people/meryem.yasdiman\n",
      "https://che.uic.edu/profiles/betul-bilgin/\n",
      "https://www.stir.ac.uk/people/1004375\n",
      "https://ydb.thk.edu.tr/about/staff/academic-staff/\n",
      "https://giresun.adalet.gov.tr/tirebolu-adliyesi\n",
      "https://www.kitabinabak.com/kitap/ata-4-sinif-citir-citir-matematik-calisma-kitabim-ata-yayincilik----ata--kbk--9786052610862\n",
      "https://uskudar.edu.tr/mdbf/en/academic-staff\n",
      "https://www.acibadem.com.tr/doktorlar/\n",
      "https://www.yenisafak.com/hayat/kazan-biz-kepce-2884138\n",
      "https://www.kent.ac.uk/kent-business-school/people/2434/coban-betul\n",
      "https://www.acarindex.com/annals-of-medical-research/the-views-of-usak-university-dental-faculty-academic-staff-on-anatomy-education-518268\n",
      "https://www.okulhaberleri.net/istiklal-marsini-guzel-okuma-yarismasi-2195618\n",
      "https://www.aa.com.tr/tr/yasam/karanlik-dunyalari-kuranla-aydinlaniyor/610928\n",
      "https://sbf.dpu.edu.tr/\n",
      "http://www.bubhopal.ac.in/\n",
      "https://avukatbilgisi.com/kars-ardahan-barosu-avukatlari/115101-beytul-unver\n",
      "https://www.telgraf.net/haber/adnan-unverdi-oyunu-kullandi-haberi-111298.html\n",
      "https://www.rgpvdiploma.in/Exam/ProgramSelect.aspx\n",
      "https://www.dr.com.tr/yazarlar\n",
      "https://news.wisc.edu/decoding-how-bacteria-talk-with-each-other/\n",
      "https://www.basakgazetesi.com/haber/anadolu-universitesi-ogretim-uyeleri-the-ad-scientific-index-listesinin-ust-siralarinda-yer-aldi-702767.html\n",
      "https://www.haberturk.com/trabzon-haberleri/29138848-ktulu-arastirmacilarin-21-basvurusu-tescillendi\n",
      "http://www.efdergi.hacettepe.edu.tr/\n",
      "http://www.olay53.com/haber/anadolu-universitesi-ogretim-uyeleri-the-ad-scientific-index-listesinin-ust-si-1102246.htm\n",
      "https://dictionary.cambridge.org/grammar/british-grammar/punctuation\n",
      "https://www.medyagazete.com/haber/anadolu-universitesi-ogretim-uyeleri-the-ad-scientific-index-listesinin-ust-siralarinda-yer-aldi-550993\n",
      "https://www.samsunsonhaber.com/haber/5364456/anadolu-universitesi-ogretim-uyeleri-the-ad-scientific-index-listesinin-ust-siralarinda-yer-aldi\n",
      "https://www.iha.com.tr/eskisehir-haberleri/anadolu-universitesi-ogretim-uyeleri-the-ad-scientific-index-listesinin-ust-siralarinda-yer-aldi-3965510/\n",
      "https://www.mynet.com/ktulu-arastirmacilarin-21-basvurusu-tescillendi-180105539640\n",
      "https://teqip.in/bu-bhopal-result.html\n",
      "https://aktowkaa4.pl/cb3e7957/\n",
      "https://www.sondakika.com/haber/haber-ktu-lu-arastirmacilarin-21-basvurusu-tescillendi-15354695/\n",
      "https://by.centropermanentedanza.it/5UjhDsatrffa\n",
      "https://haberdairesi.com/konya/bizim-meram-koyu-kura-cekilisi-sonucu-i-tam-liste-81717h\n",
      "https://www.getmyuni.com/articles/west-bengal-state-university-question-papers\n",
      "https://nvshq.org/result/bu-bhopal-result/\n",
      "https://www.gop.edu.tr/\n",
      "https://www.giresun.edu.tr/\n",
      "https://www.artuklu.edu.tr/en/\n",
      "https://www.firat.edu.tr/en\n",
      "https://www.beykent.edu.tr/\n"
     ]
    }
   ],
   "source": [
    "for i in search(\"Betül Ünver\",lang=\"tr\"):\n",
    "    print(i)"
   ]
  },
  {
   "cell_type": "code",
   "execution_count": null,
   "id": "39f4f7cc-5203-4080-94b4-689998f54e3a",
   "metadata": {},
   "outputs": [],
   "source": [
    "#graph theary - 6 kişiyle birine ulaşılabiliyor\n",
    "#graph theory airlines"
   ]
  }
 ],
 "metadata": {
  "kernelspec": {
   "display_name": "Python 3",
   "language": "python",
   "name": "python3"
  },
  "language_info": {
   "codemirror_mode": {
    "name": "ipython",
    "version": 3
   },
   "file_extension": ".py",
   "mimetype": "text/x-python",
   "name": "python",
   "nbconvert_exporter": "python",
   "pygments_lexer": "ipython3",
   "version": "3.8.2"
  }
 },
 "nbformat": 4,
 "nbformat_minor": 5
}
