{
 "cells": [
  {
   "cell_type": "code",
   "execution_count": null,
   "id": "778deb0c-9145-471b-95b0-23d31af4c07b",
   "metadata": {},
   "outputs": [],
   "source": [
    "data azsa smote  yapıyoruz\n",
    "minoirty datayı çoğaltıyor.\n",
    "tititanicteki kodları kopyalıyoruz. \n",
    "cihazın bozulup bozulmayacağını tahmin etmek amacımız\n",
    "failure bizim hedefimiz\n",
    "\n",
    "\n",
    "\n",
    "Millitary ödevi \n",
    "3 kategori ülke var\n",
    "\n",
    "LoanPredicitpn \n",
    "borcunu ödeyen ve ödemeyen\n",
    "0 ve 1 e eşitle\n",
    "gelecekte ödeyecek mi ödemeyecek mi bul \n",
    "boş dataları doldur 0 ver veya bir şey yap, outiers çıkar\n",
    "tüm predict "
   ]
  }
 ],
 "metadata": {
  "kernelspec": {
   "display_name": "Python 3",
   "language": "python",
   "name": "python3"
  },
  "language_info": {
   "codemirror_mode": {
    "name": "ipython",
    "version": 3
   },
   "file_extension": ".py",
   "mimetype": "text/x-python",
   "name": "python",
   "nbconvert_exporter": "python",
   "pygments_lexer": "ipython3",
   "version": "3.8.2"
  }
 },
 "nbformat": 4,
 "nbformat_minor": 5
}
