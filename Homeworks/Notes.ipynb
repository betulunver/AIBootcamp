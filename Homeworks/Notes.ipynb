{
 "cells": [
  {
   "cell_type": "code",
   "execution_count": null,
   "id": "3551ebd0-84fd-4858-ac96-8505606fa530",
   "metadata": {},
   "outputs": [],
   "source": [
    "CNN\n",
    "feature map, max pooling, average pooling,\n",
    "Tensorflow- Google Brain Team\n",
    "Activation Function\n",
    "\n",
    "9.video\n",
    "1.ödev\n",
    "San fransico - yolcu sayısı,ve uçuş sayısına göre 2 tane\n",
    "1.grupta united olması lazım. 2.grupta uzak doğuya açılan 3.kalifornia merkexzde olduğğu için \n",
    "clustering için aldığımız kodları alıyoruz. \n",
    "2.ödev\n",
    "bacchanel buffet beiizim hakkımıda yapılmış tüm yorumları yelp foursquare ve twitterdan ceri çekizce ve en ço tekrar eden 5 olumsuz ve olumlul kelimeyi bulmanızı istiyor.\n",
    "yelp.dataset veya kaggle yelpdataset ile çalışıabillrisn.\n",
    "restaurant.csv de var\n",
    "tüm ek kaldırma ingilizce olmayna kelimeleri çıkarma işlemlerini yap.\n",
    "TDIF işelmlerini yap.\n",
    "wordcloud yap.\n",
    "\n",
    "\n",
    "+131095446\n",
    "\n",
    "+13109546406"
   ]
  }
 ],
 "metadata": {
  "kernelspec": {
   "display_name": "Python 3",
   "language": "python",
   "name": "python3"
  },
  "language_info": {
   "codemirror_mode": {
    "name": "ipython",
    "version": 3
   },
   "file_extension": ".py",
   "mimetype": "text/x-python",
   "name": "python",
   "nbconvert_exporter": "python",
   "pygments_lexer": "ipython3",
   "version": "3.8.2"
  }
 },
 "nbformat": 4,
 "nbformat_minor": 5
}
