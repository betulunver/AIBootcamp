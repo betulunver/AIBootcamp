{
 "cells": [
  {
   "cell_type": "markdown",
   "id": "766f7ec2-3354-4801-bdbc-19be3dd92220",
   "metadata": {},
   "source": [
    "# Clustering "
   ]
  },
  {
   "cell_type": "markdown",
   "id": "06c0c605-4510-493f-a610-a787f8161509",
   "metadata": {},
   "source": [
    "##### Denetimsiz- Unsupervised Learning -Hedef \"y\" yok"
   ]
  },
  {
   "cell_type": "code",
   "execution_count": 1,
   "id": "8f38028f-b3a0-4688-a6a8-448210695d53",
   "metadata": {},
   "outputs": [],
   "source": [
    "import pandas as pd"
   ]
  },
  {
   "cell_type": "code",
   "execution_count": 2,
   "id": "b939399b-f5df-456e-a512-b197c890f0b6",
   "metadata": {},
   "outputs": [],
   "source": [
    "df=pd.read_excel(\"cars.xls\")"
   ]
  },
  {
   "cell_type": "code",
   "execution_count": 3,
   "id": "8a2f63cb-06b0-4a48-b16b-bc30bbe9f9f1",
   "metadata": {},
   "outputs": [
    {
     "data": {
      "text/html": [
       "<div>\n",
       "<style scoped>\n",
       "    .dataframe tbody tr th:only-of-type {\n",
       "        vertical-align: middle;\n",
       "    }\n",
       "\n",
       "    .dataframe tbody tr th {\n",
       "        vertical-align: top;\n",
       "    }\n",
       "\n",
       "    .dataframe thead th {\n",
       "        text-align: right;\n",
       "    }\n",
       "</style>\n",
       "<table border=\"1\" class=\"dataframe\">\n",
       "  <thead>\n",
       "    <tr style=\"text-align: right;\">\n",
       "      <th></th>\n",
       "      <th>Price</th>\n",
       "      <th>Mileage</th>\n",
       "      <th>Make</th>\n",
       "      <th>Model</th>\n",
       "      <th>Trim</th>\n",
       "      <th>Type</th>\n",
       "      <th>Cylinder</th>\n",
       "      <th>Liter</th>\n",
       "      <th>Doors</th>\n",
       "      <th>Cruise</th>\n",
       "      <th>Sound</th>\n",
       "      <th>Leather</th>\n",
       "    </tr>\n",
       "  </thead>\n",
       "  <tbody>\n",
       "    <tr>\n",
       "      <th>0</th>\n",
       "      <td>17314.103129</td>\n",
       "      <td>8221</td>\n",
       "      <td>Buick</td>\n",
       "      <td>Century</td>\n",
       "      <td>Sedan 4D</td>\n",
       "      <td>Sedan</td>\n",
       "      <td>6</td>\n",
       "      <td>3.1</td>\n",
       "      <td>4</td>\n",
       "      <td>1</td>\n",
       "      <td>1</td>\n",
       "      <td>1</td>\n",
       "    </tr>\n",
       "    <tr>\n",
       "      <th>1</th>\n",
       "      <td>17542.036083</td>\n",
       "      <td>9135</td>\n",
       "      <td>Buick</td>\n",
       "      <td>Century</td>\n",
       "      <td>Sedan 4D</td>\n",
       "      <td>Sedan</td>\n",
       "      <td>6</td>\n",
       "      <td>3.1</td>\n",
       "      <td>4</td>\n",
       "      <td>1</td>\n",
       "      <td>1</td>\n",
       "      <td>0</td>\n",
       "    </tr>\n",
       "    <tr>\n",
       "      <th>2</th>\n",
       "      <td>16218.847862</td>\n",
       "      <td>13196</td>\n",
       "      <td>Buick</td>\n",
       "      <td>Century</td>\n",
       "      <td>Sedan 4D</td>\n",
       "      <td>Sedan</td>\n",
       "      <td>6</td>\n",
       "      <td>3.1</td>\n",
       "      <td>4</td>\n",
       "      <td>1</td>\n",
       "      <td>1</td>\n",
       "      <td>0</td>\n",
       "    </tr>\n",
       "    <tr>\n",
       "      <th>3</th>\n",
       "      <td>16336.913140</td>\n",
       "      <td>16342</td>\n",
       "      <td>Buick</td>\n",
       "      <td>Century</td>\n",
       "      <td>Sedan 4D</td>\n",
       "      <td>Sedan</td>\n",
       "      <td>6</td>\n",
       "      <td>3.1</td>\n",
       "      <td>4</td>\n",
       "      <td>1</td>\n",
       "      <td>0</td>\n",
       "      <td>0</td>\n",
       "    </tr>\n",
       "    <tr>\n",
       "      <th>4</th>\n",
       "      <td>16339.170324</td>\n",
       "      <td>19832</td>\n",
       "      <td>Buick</td>\n",
       "      <td>Century</td>\n",
       "      <td>Sedan 4D</td>\n",
       "      <td>Sedan</td>\n",
       "      <td>6</td>\n",
       "      <td>3.1</td>\n",
       "      <td>4</td>\n",
       "      <td>1</td>\n",
       "      <td>0</td>\n",
       "      <td>1</td>\n",
       "    </tr>\n",
       "  </tbody>\n",
       "</table>\n",
       "</div>"
      ],
      "text/plain": [
       "          Price  Mileage   Make    Model      Trim   Type  Cylinder  Liter  \\\n",
       "0  17314.103129     8221  Buick  Century  Sedan 4D  Sedan         6    3.1   \n",
       "1  17542.036083     9135  Buick  Century  Sedan 4D  Sedan         6    3.1   \n",
       "2  16218.847862    13196  Buick  Century  Sedan 4D  Sedan         6    3.1   \n",
       "3  16336.913140    16342  Buick  Century  Sedan 4D  Sedan         6    3.1   \n",
       "4  16339.170324    19832  Buick  Century  Sedan 4D  Sedan         6    3.1   \n",
       "\n",
       "   Doors  Cruise  Sound  Leather  \n",
       "0      4       1      1        1  \n",
       "1      4       1      1        0  \n",
       "2      4       1      1        0  \n",
       "3      4       1      0        0  \n",
       "4      4       1      0        1  "
      ]
     },
     "execution_count": 3,
     "metadata": {},
     "output_type": "execute_result"
    }
   ],
   "source": [
    "df.head()"
   ]
  },
  {
   "cell_type": "code",
   "execution_count": 4,
   "id": "ed0bb072-3e15-4805-8f02-49a16af0207f",
   "metadata": {},
   "outputs": [],
   "source": [
    "from sklearn.cluster import KMeans"
   ]
  },
  {
   "cell_type": "code",
   "execution_count": 6,
   "id": "d1fcc185-16ca-49fe-bd2b-64770e3a6eca",
   "metadata": {},
   "outputs": [],
   "source": [
    "from sklearn.metrics import silhouette_score\n",
    "#elbow method - dirsek methodu"
   ]
  },
  {
   "cell_type": "code",
   "execution_count": 7,
   "id": "e29d3301-96c1-4e74-9e14-4b3e948d56bf",
   "metadata": {},
   "outputs": [],
   "source": [
    "x=df[[\"Price\",\"Mileage\",\"Cylinder\"]]\n",
    "#özelliklerine göre grupluyoruz."
   ]
  },
  {
   "cell_type": "code",
   "execution_count": 8,
   "id": "721b5423-610e-4d09-ab9f-95c4379ba34d",
   "metadata": {},
   "outputs": [
    {
     "data": {
      "text/html": [
       "<div>\n",
       "<style scoped>\n",
       "    .dataframe tbody tr th:only-of-type {\n",
       "        vertical-align: middle;\n",
       "    }\n",
       "\n",
       "    .dataframe tbody tr th {\n",
       "        vertical-align: top;\n",
       "    }\n",
       "\n",
       "    .dataframe thead th {\n",
       "        text-align: right;\n",
       "    }\n",
       "</style>\n",
       "<table border=\"1\" class=\"dataframe\">\n",
       "  <thead>\n",
       "    <tr style=\"text-align: right;\">\n",
       "      <th></th>\n",
       "      <th>Price</th>\n",
       "      <th>Mileage</th>\n",
       "      <th>Cylinder</th>\n",
       "    </tr>\n",
       "  </thead>\n",
       "  <tbody>\n",
       "    <tr>\n",
       "      <th>0</th>\n",
       "      <td>17314.103129</td>\n",
       "      <td>8221</td>\n",
       "      <td>6</td>\n",
       "    </tr>\n",
       "    <tr>\n",
       "      <th>1</th>\n",
       "      <td>17542.036083</td>\n",
       "      <td>9135</td>\n",
       "      <td>6</td>\n",
       "    </tr>\n",
       "    <tr>\n",
       "      <th>2</th>\n",
       "      <td>16218.847862</td>\n",
       "      <td>13196</td>\n",
       "      <td>6</td>\n",
       "    </tr>\n",
       "    <tr>\n",
       "      <th>3</th>\n",
       "      <td>16336.913140</td>\n",
       "      <td>16342</td>\n",
       "      <td>6</td>\n",
       "    </tr>\n",
       "    <tr>\n",
       "      <th>4</th>\n",
       "      <td>16339.170324</td>\n",
       "      <td>19832</td>\n",
       "      <td>6</td>\n",
       "    </tr>\n",
       "  </tbody>\n",
       "</table>\n",
       "</div>"
      ],
      "text/plain": [
       "          Price  Mileage  Cylinder\n",
       "0  17314.103129     8221         6\n",
       "1  17542.036083     9135         6\n",
       "2  16218.847862    13196         6\n",
       "3  16336.913140    16342         6\n",
       "4  16339.170324    19832         6"
      ]
     },
     "execution_count": 8,
     "metadata": {},
     "output_type": "execute_result"
    }
   ],
   "source": [
    "x.head()"
   ]
  },
  {
   "cell_type": "code",
   "execution_count": 9,
   "id": "5aa9c7b1-e853-4f97-88a5-3ff006b016bd",
   "metadata": {},
   "outputs": [],
   "source": [
    "model=KMeans(n_clusters=4) #4 grup ayırmayı uygun gördük"
   ]
  },
  {
   "cell_type": "code",
   "execution_count": 12,
   "id": "f913906e-816f-410c-90e6-95fd4536986f",
   "metadata": {},
   "outputs": [],
   "source": [
    "model=model.fit(x) #verinin kime ne kadar benzediğini öğrendi"
   ]
  },
  {
   "cell_type": "code",
   "execution_count": 13,
   "id": "eecacae6-7b88-4be8-9f6d-00a58e0c3d1a",
   "metadata": {},
   "outputs": [],
   "source": [
    "tahmin=model.predict(x)"
   ]
  },
  {
   "cell_type": "code",
   "execution_count": 14,
   "id": "66113f13-414d-4884-a8c7-99b972de85f5",
   "metadata": {},
   "outputs": [
    {
     "data": {
      "text/plain": [
       "array([1, 1, 1, 1, 2, 2, 2, 2, 2, 2, 1, 1, 1, 2, 2, 2, 2, 2, 2, 2, 1, 1,\n",
       "       1, 1, 2, 2, 2, 2, 2, 2, 1, 1, 0, 2, 2, 2, 2, 2, 2, 2, 1, 1, 2, 2,\n",
       "       2, 2, 2, 2, 2, 2, 1, 1, 2, 2, 2, 2, 2, 2, 2, 2, 1, 1, 0, 0, 0, 2,\n",
       "       2, 0, 2, 2, 1, 1, 1, 1, 0, 0, 0, 0, 0, 2, 3, 3, 3, 3, 3, 3, 3, 3,\n",
       "       3, 0, 3, 3, 3, 0, 0, 0, 0, 0, 0, 0, 3, 3, 3, 3, 3, 0, 0, 0, 0, 0,\n",
       "       3, 3, 3, 3, 0, 0, 0, 0, 0, 0, 3, 3, 3, 3, 0, 0, 0, 0, 0, 0, 3, 3,\n",
       "       3, 3, 3, 0, 0, 0, 0, 0, 3, 3, 3, 3, 3, 3, 3, 0, 0, 0, 3, 3, 3, 3,\n",
       "       3, 3, 3, 3, 3, 0, 1, 1, 2, 2, 2, 2, 2, 2, 2, 2, 1, 1, 1, 1, 1, 1,\n",
       "       2, 2, 2, 2, 2, 2, 2, 2, 2, 2, 2, 2, 2, 2, 1, 1, 1, 2, 2, 2, 2, 2,\n",
       "       2, 2, 1, 1, 1, 1, 1, 2, 2, 2, 2, 2, 1, 1, 2, 2, 2, 2, 2, 2, 2, 2,\n",
       "       1, 1, 2, 2, 2, 2, 2, 2, 2, 2, 1, 1, 2, 2, 2, 2, 2, 2, 2, 2, 1, 1,\n",
       "       1, 1, 2, 2, 2, 2, 2, 2, 1, 1, 1, 1, 2, 2, 2, 2, 2, 2, 1, 1, 2, 2,\n",
       "       2, 2, 2, 2, 2, 2, 1, 1, 2, 2, 2, 2, 2, 2, 2, 2, 1, 1, 2, 2, 2, 2,\n",
       "       2, 2, 2, 2, 1, 2, 2, 2, 2, 2, 2, 2, 2, 2, 1, 1, 1, 2, 2, 2, 2, 2,\n",
       "       2, 2, 1, 1, 1, 1, 2, 2, 2, 2, 2, 2, 1, 1, 1, 2, 2, 2, 2, 2, 2, 2,\n",
       "       1, 1, 1, 1, 1, 2, 2, 2, 2, 2, 3, 3, 3, 3, 3, 0, 0, 0, 0, 0, 3, 3,\n",
       "       3, 3, 3, 0, 0, 0, 0, 0, 1, 1, 2, 2, 2, 2, 2, 2, 2, 2, 1, 1, 1, 2,\n",
       "       2, 2, 2, 2, 2, 2, 1, 1, 1, 1, 0, 0, 2, 0, 2, 2, 1, 1, 1, 2, 2, 2,\n",
       "       2, 2, 2, 2, 1, 1, 1, 2, 2, 2, 2, 2, 2, 2, 1, 1, 1, 2, 2, 2, 2, 2,\n",
       "       2, 2, 1, 2, 2, 2, 2, 2, 2, 2, 2, 2, 1, 1, 1, 1, 2, 2, 2, 2, 2, 2,\n",
       "       1, 1, 1, 1, 2, 2, 2, 2, 2, 2, 1, 1, 1, 1, 1, 2, 2, 2, 2, 2, 1, 1,\n",
       "       1, 1, 1, 2, 2, 2, 2, 2, 1, 1, 2, 2, 2, 2, 2, 2, 2, 2, 1, 1, 0, 2,\n",
       "       2, 2, 2, 2, 2, 2, 1, 1, 1, 2, 2, 2, 2, 2, 2, 2, 1, 1, 1, 1, 1, 2,\n",
       "       2, 2, 2, 2, 1, 1, 1, 1, 1, 2, 2, 2, 2, 2, 1, 1, 1, 2, 2, 2, 2, 2,\n",
       "       2, 2, 1, 1, 1, 1, 1, 2, 2, 2, 2, 2, 1, 1, 1, 1, 1, 1, 1, 2, 2, 2,\n",
       "       1, 2, 2, 2, 2, 2, 2, 2, 2, 2, 1, 1, 1, 1, 2, 2, 2, 2, 2, 2, 1, 1,\n",
       "       2, 2, 2, 2, 2, 2, 2, 2, 3, 3, 0, 0, 0, 0, 0, 0, 0, 0, 1, 2, 2, 2,\n",
       "       2, 2, 2, 2, 2, 2, 2, 2, 2, 2, 2, 2, 2, 2, 2, 2, 1, 1, 2, 2, 2, 2,\n",
       "       2, 2, 2, 2, 1, 1, 1, 1, 1, 1, 2, 2, 2, 2, 3, 3, 0, 0, 0, 0, 0, 0,\n",
       "       0, 0, 1, 0, 0, 0, 0, 0, 0, 0, 0, 2, 3, 0, 0, 0, 0, 0, 0, 0, 0, 0,\n",
       "       1, 1, 0, 0, 0, 0, 0, 0, 0, 0, 3, 3, 3, 3, 0, 0, 0, 0, 0, 0, 3, 3,\n",
       "       3, 3, 0, 0, 0, 0, 0, 0, 3, 3, 3, 0, 0, 0, 0, 0, 0, 0, 0, 0, 0, 0,\n",
       "       0, 0, 0, 0, 0, 0, 3, 0, 0, 0, 0, 0, 0, 0, 0, 0, 3, 0, 0, 0, 0, 0,\n",
       "       0, 0, 0, 0, 0, 0, 0, 0, 0, 0, 0, 0, 0, 0, 1, 0, 0, 0, 1, 1, 1, 1,\n",
       "       1, 2, 2, 2, 2, 2, 2, 2, 2, 2, 2, 2, 2, 2, 2, 2, 1, 1, 1, 1, 1, 1,\n",
       "       1, 1, 2, 2, 2, 2, 2, 2, 2, 2, 2, 2, 2, 2, 2, 2, 2, 2, 2, 2, 2, 2,\n",
       "       2, 2, 1, 1, 1, 1, 1, 1, 2, 2, 2, 2])"
      ]
     },
     "execution_count": 14,
     "metadata": {},
     "output_type": "execute_result"
    }
   ],
   "source": [
    "tahmin"
   ]
  },
  {
   "cell_type": "code",
   "execution_count": 15,
   "id": "3bda4be3-0c7d-414c-9fe6-e2d6d7927ab3",
   "metadata": {},
   "outputs": [
    {
     "name": "stderr",
     "output_type": "stream",
     "text": [
      "<ipython-input-15-6c3d52b38dde>:1: SettingWithCopyWarning: \n",
      "A value is trying to be set on a copy of a slice from a DataFrame.\n",
      "Try using .loc[row_indexer,col_indexer] = value instead\n",
      "\n",
      "See the caveats in the documentation: https://pandas.pydata.org/pandas-docs/stable/user_guide/indexing.html#returning-a-view-versus-a-copy\n",
      "  x[\"cluster\"]=tahmin\n"
     ]
    }
   ],
   "source": [
    "x[\"cluster\"]=tahmin #yeni kolon ekleyip gruplamayı ekliyoruz"
   ]
  },
  {
   "cell_type": "code",
   "execution_count": 16,
   "id": "2b8f5bf0-c62c-4f56-88e9-48ca891d44e1",
   "metadata": {},
   "outputs": [
    {
     "data": {
      "text/html": [
       "<div>\n",
       "<style scoped>\n",
       "    .dataframe tbody tr th:only-of-type {\n",
       "        vertical-align: middle;\n",
       "    }\n",
       "\n",
       "    .dataframe tbody tr th {\n",
       "        vertical-align: top;\n",
       "    }\n",
       "\n",
       "    .dataframe thead th {\n",
       "        text-align: right;\n",
       "    }\n",
       "</style>\n",
       "<table border=\"1\" class=\"dataframe\">\n",
       "  <thead>\n",
       "    <tr style=\"text-align: right;\">\n",
       "      <th></th>\n",
       "      <th>Price</th>\n",
       "      <th>Mileage</th>\n",
       "      <th>Cylinder</th>\n",
       "      <th>cluster</th>\n",
       "    </tr>\n",
       "  </thead>\n",
       "  <tbody>\n",
       "    <tr>\n",
       "      <th>0</th>\n",
       "      <td>17314.103129</td>\n",
       "      <td>8221</td>\n",
       "      <td>6</td>\n",
       "      <td>1</td>\n",
       "    </tr>\n",
       "    <tr>\n",
       "      <th>1</th>\n",
       "      <td>17542.036083</td>\n",
       "      <td>9135</td>\n",
       "      <td>6</td>\n",
       "      <td>1</td>\n",
       "    </tr>\n",
       "    <tr>\n",
       "      <th>2</th>\n",
       "      <td>16218.847862</td>\n",
       "      <td>13196</td>\n",
       "      <td>6</td>\n",
       "      <td>1</td>\n",
       "    </tr>\n",
       "    <tr>\n",
       "      <th>3</th>\n",
       "      <td>16336.913140</td>\n",
       "      <td>16342</td>\n",
       "      <td>6</td>\n",
       "      <td>1</td>\n",
       "    </tr>\n",
       "    <tr>\n",
       "      <th>4</th>\n",
       "      <td>16339.170324</td>\n",
       "      <td>19832</td>\n",
       "      <td>6</td>\n",
       "      <td>2</td>\n",
       "    </tr>\n",
       "  </tbody>\n",
       "</table>\n",
       "</div>"
      ],
      "text/plain": [
       "          Price  Mileage  Cylinder  cluster\n",
       "0  17314.103129     8221         6        1\n",
       "1  17542.036083     9135         6        1\n",
       "2  16218.847862    13196         6        1\n",
       "3  16336.913140    16342         6        1\n",
       "4  16339.170324    19832         6        2"
      ]
     },
     "execution_count": 16,
     "metadata": {},
     "output_type": "execute_result"
    }
   ],
   "source": [
    "x.head()"
   ]
  },
  {
   "cell_type": "code",
   "execution_count": 23,
   "id": "4691a9f2-47ac-43bd-ab92-3cb1c7b45442",
   "metadata": {},
   "outputs": [
    {
     "data": {
      "text/plain": [
       "0.4116887844331703"
      ]
     },
     "execution_count": 23,
     "metadata": {},
     "output_type": "execute_result"
    }
   ],
   "source": [
    "silhouette_score(x,tahmin) #burda yüksek çıkmasını beklemiyoruz. eğer bunun sonucu değişmiyorssa artık orda durmak lazım başka bir grup eklemeye gerek yok (bir yere ne kadar market açsam en çok karı elde ederim. ne kadar olmallı onu bu şekilde anlııyoruz)"
   ]
  },
  {
   "cell_type": "code",
   "execution_count": 20,
   "id": "9fc44ab9-cd42-42cd-8a19-0e9290f85b64",
   "metadata": {},
   "outputs": [],
   "source": [
    "import matplotlib.pyplot as plt"
   ]
  },
  {
   "cell_type": "code",
   "execution_count": 22,
   "id": "f4413815-8538-4024-afa7-5c36577b6819",
   "metadata": {},
   "outputs": [
    {
     "data": {
      "image/png": "[encoded data removed]",
      "text/plain": [
       "<Figure size 720x432 with 2 Axes>"
      ]
     },
     "metadata": {
      "needs_background": "light"
     },
     "output_type": "display_data"
    }
   ],
   "source": [
    "plt.figure(figsize=(10,6))\n",
    "plt.scatter(x.Mileage,x.Price,c=tahmin)\n",
    "plt.xlabel(\"KM\")\n",
    "plt.ylabel(\"Fiyat\")\n",
    "plt.colorbar()\n",
    "plt.grid()\n",
    "#"
   ]
  },
  {
   "cell_type": "code",
   "execution_count": 33,
   "id": "70efe120-780d-41b9-a7e8-c8faebe6e8b0",
   "metadata": {},
   "outputs": [
    {
     "name": "stdout",
     "output_type": "stream",
     "text": [
      "cluster  2  score 0.45170118946922694\n",
      "cluster  3  score 0.41321086325651796\n",
      "cluster  4  score 0.41455890159386605\n",
      "cluster  5  score 0.35465903036708357\n",
      "cluster  6  score 0.3629837831215598\n",
      "cluster  7  score 0.3558445030215276\n",
      "cluster  8  score 0.36810474497564105\n",
      "cluster  9  score 0.34766639093411705\n",
      "cluster  10  score 0.3569416793514598\n",
      "cluster  11  score 0.3588541125518518\n"
     ]
    }
   ],
   "source": [
    "allscore=[]\n",
    "allclusters=[]\n",
    "uzakliklar=[]\n",
    "def clust(kactane):\n",
    "    for i in range(1,kactane):\n",
    "        i=i+1\n",
    "        model=KMeans(n_clusters=i)\n",
    "        model=model.fit(x)\n",
    "        tahmin=model.predict(x)\n",
    "        score=silhouette_score(x,tahmin)\n",
    "        uzaklik=model.inertia_\n",
    "        print(\"cluster \",i,\" score\",score)\n",
    "        allscore.append(score)\n",
    "        allclusters.append(i)\n",
    "        uzakliklar.append(uzaklik)\n",
    "        \n",
    "clust(11)"
   ]
  },
  {
   "cell_type": "code",
   "execution_count": 29,
   "id": "8db943b7-9bd8-4ac3-87f1-434a71297530",
   "metadata": {},
   "outputs": [],
   "source": [
    "#artık veriler tekrar ettiğinde durmamız lazım. bu örnekte cluster 5'te yani i=4'te durmalıyız."
   ]
  },
  {
   "cell_type": "code",
   "execution_count": 34,
   "id": "adfdcdee-2c52-46a8-abd7-91e6e3d9f4da",
   "metadata": {},
   "outputs": [
    {
     "data": {
      "text/plain": [
       "[<matplotlib.lines.Line2D at 0x1a7c3645cd0>]"
      ]
     },
     "execution_count": 34,
     "metadata": {},
     "output_type": "execute_result"
    },
    {
     "data": {
      "image/png": "[encoded data removed]",
      "text/plain": [
       "<Figure size 432x288 with 1 Axes>"
      ]
     },
     "metadata": {
      "needs_background": "light"
     },
     "output_type": "display_data"
    }
   ],
   "source": [
    "plt.plot(allclusters,uzakliklar)"
   ]
  },
  {
   "cell_type": "code",
   "execution_count": 35,
   "id": "9aee4275-6057-44e1-9504-c9dede79d606",
   "metadata": {},
   "outputs": [],
   "source": [
    "#elbow metodu -> grafikte ne zamanki çizgi x'e daha yakın o zaman durmalı. 4'te kırılım var bu örnek için 4. dirsekte ordan geliyor olmalı\n",
    "\n",
    "#elbow metodunun gösterdiği üzre veriyi 4 farklı kümede toplamanın en ideal olduğunu düşünüyoruz.\n",
    "#(buna göre kaç kümeye ayıracağımıza kara veriyoruz )\n",
    "# Ucuz ve üzerine az km olan, ucuz üzerine cok km, pahali ama az km, orta\n",
    "#(raporu bu şekilde sunabiliriz)"
   ]
  },
  {
   "cell_type": "code",
   "execution_count": 38,
   "id": "2beff1dd-df19-44e2-8746-2c6e047465b4",
   "metadata": {},
   "outputs": [
    {
     "data": {
      "text/html": [
       "<div>\n",
       "<style scoped>\n",
       "    .dataframe tbody tr th:only-of-type {\n",
       "        vertical-align: middle;\n",
       "    }\n",
       "\n",
       "    .dataframe tbody tr th {\n",
       "        vertical-align: top;\n",
       "    }\n",
       "\n",
       "    .dataframe thead th {\n",
       "        text-align: right;\n",
       "    }\n",
       "</style>\n",
       "<table border=\"1\" class=\"dataframe\">\n",
       "  <thead>\n",
       "    <tr style=\"text-align: right;\">\n",
       "      <th></th>\n",
       "      <th>Price</th>\n",
       "      <th>Mileage</th>\n",
       "      <th>Make</th>\n",
       "      <th>Model</th>\n",
       "      <th>Trim</th>\n",
       "      <th>Type</th>\n",
       "      <th>Cylinder</th>\n",
       "      <th>Liter</th>\n",
       "      <th>Doors</th>\n",
       "      <th>Cruise</th>\n",
       "      <th>Sound</th>\n",
       "      <th>Leather</th>\n",
       "    </tr>\n",
       "  </thead>\n",
       "  <tbody>\n",
       "    <tr>\n",
       "      <th>150</th>\n",
       "      <td>70755.466717</td>\n",
       "      <td>583</td>\n",
       "      <td>Cadillac</td>\n",
       "      <td>XLR-V8</td>\n",
       "      <td>Hardtop Conv 2D</td>\n",
       "      <td>Convertible</td>\n",
       "      <td>8</td>\n",
       "      <td>4.6</td>\n",
       "      <td>2</td>\n",
       "      <td>1</td>\n",
       "      <td>1</td>\n",
       "      <td>1</td>\n",
       "    </tr>\n",
       "    <tr>\n",
       "      <th>151</th>\n",
       "      <td>68566.187189</td>\n",
       "      <td>6420</td>\n",
       "      <td>Cadillac</td>\n",
       "      <td>XLR-V8</td>\n",
       "      <td>Hardtop Conv 2D</td>\n",
       "      <td>Convertible</td>\n",
       "      <td>8</td>\n",
       "      <td>4.6</td>\n",
       "      <td>2</td>\n",
       "      <td>1</td>\n",
       "      <td>1</td>\n",
       "      <td>1</td>\n",
       "    </tr>\n",
       "    <tr>\n",
       "      <th>152</th>\n",
       "      <td>69133.731722</td>\n",
       "      <td>7892</td>\n",
       "      <td>Cadillac</td>\n",
       "      <td>XLR-V8</td>\n",
       "      <td>Hardtop Conv 2D</td>\n",
       "      <td>Convertible</td>\n",
       "      <td>8</td>\n",
       "      <td>4.6</td>\n",
       "      <td>2</td>\n",
       "      <td>1</td>\n",
       "      <td>1</td>\n",
       "      <td>1</td>\n",
       "    </tr>\n",
       "    <tr>\n",
       "      <th>153</th>\n",
       "      <td>66374.307040</td>\n",
       "      <td>12021</td>\n",
       "      <td>Cadillac</td>\n",
       "      <td>XLR-V8</td>\n",
       "      <td>Hardtop Conv 2D</td>\n",
       "      <td>Convertible</td>\n",
       "      <td>8</td>\n",
       "      <td>4.6</td>\n",
       "      <td>2</td>\n",
       "      <td>1</td>\n",
       "      <td>1</td>\n",
       "      <td>1</td>\n",
       "    </tr>\n",
       "    <tr>\n",
       "      <th>154</th>\n",
       "      <td>65281.481237</td>\n",
       "      <td>15600</td>\n",
       "      <td>Cadillac</td>\n",
       "      <td>XLR-V8</td>\n",
       "      <td>Hardtop Conv 2D</td>\n",
       "      <td>Convertible</td>\n",
       "      <td>8</td>\n",
       "      <td>4.6</td>\n",
       "      <td>2</td>\n",
       "      <td>1</td>\n",
       "      <td>1</td>\n",
       "      <td>1</td>\n",
       "    </tr>\n",
       "    <tr>\n",
       "      <th>155</th>\n",
       "      <td>63913.117248</td>\n",
       "      <td>18200</td>\n",
       "      <td>Cadillac</td>\n",
       "      <td>XLR-V8</td>\n",
       "      <td>Hardtop Conv 2D</td>\n",
       "      <td>Convertible</td>\n",
       "      <td>8</td>\n",
       "      <td>4.6</td>\n",
       "      <td>2</td>\n",
       "      <td>1</td>\n",
       "      <td>1</td>\n",
       "      <td>1</td>\n",
       "    </tr>\n",
       "    <tr>\n",
       "      <th>156</th>\n",
       "      <td>60567.549093</td>\n",
       "      <td>23193</td>\n",
       "      <td>Cadillac</td>\n",
       "      <td>XLR-V8</td>\n",
       "      <td>Hardtop Conv 2D</td>\n",
       "      <td>Convertible</td>\n",
       "      <td>8</td>\n",
       "      <td>4.6</td>\n",
       "      <td>2</td>\n",
       "      <td>1</td>\n",
       "      <td>1</td>\n",
       "      <td>1</td>\n",
       "    </tr>\n",
       "  </tbody>\n",
       "</table>\n",
       "</div>"
      ],
      "text/plain": [
       "            Price  Mileage      Make   Model             Trim         Type  \\\n",
       "150  70755.466717      583  Cadillac  XLR-V8  Hardtop Conv 2D  Convertible   \n",
       "151  68566.187189     6420  Cadillac  XLR-V8  Hardtop Conv 2D  Convertible   \n",
       "152  69133.731722     7892  Cadillac  XLR-V8  Hardtop Conv 2D  Convertible   \n",
       "153  66374.307040    12021  Cadillac  XLR-V8  Hardtop Conv 2D  Convertible   \n",
       "154  65281.481237    15600  Cadillac  XLR-V8  Hardtop Conv 2D  Convertible   \n",
       "155  63913.117248    18200  Cadillac  XLR-V8  Hardtop Conv 2D  Convertible   \n",
       "156  60567.549093    23193  Cadillac  XLR-V8  Hardtop Conv 2D  Convertible   \n",
       "\n",
       "     Cylinder  Liter  Doors  Cruise  Sound  Leather  \n",
       "150         8    4.6      2       1      1        1  \n",
       "151         8    4.6      2       1      1        1  \n",
       "152         8    4.6      2       1      1        1  \n",
       "153         8    4.6      2       1      1        1  \n",
       "154         8    4.6      2       1      1        1  \n",
       "155         8    4.6      2       1      1        1  \n",
       "156         8    4.6      2       1      1        1  "
      ]
     },
     "execution_count": 38,
     "metadata": {},
     "output_type": "execute_result"
    }
   ],
   "source": [
    "df[df[\"Price\"]>60000] #cadillac'lar hep pahalıdır"
   ]
  },
  {
   "cell_type": "code",
   "execution_count": null,
   "id": "5bb3904c-8918-4c4e-99f6-757906190d7e",
   "metadata": {},
   "outputs": [],
   "source": []
  }
 ],
 "metadata": {
  "kernelspec": {
   "display_name": "Python 3",
   "language": "python",
   "name": "python3"
  },
  "language_info": {
   "codemirror_mode": {
    "name": "ipython",
    "version": 3
   },
   "file_extension": ".py",
   "mimetype": "text/x-python",
   "name": "python",
   "nbconvert_exporter": "python",
   "pygments_lexer": "ipython3",
   "version": "3.8.2"
  }
 },
 "nbformat": 4,
 "nbformat_minor": 5
}
