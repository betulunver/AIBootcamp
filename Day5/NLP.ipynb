{
 "cells": [
  {
   "cell_type": "markdown",
   "id": "9eda1a8f-8dc9-4e7d-a35d-6cf017b76e4d",
   "metadata": {},
   "source": [
    "# Natural Language Processing - Doğal Dil İşleme"
   ]
  },
  {
   "cell_type": "code",
   "execution_count": 3,
   "id": "69cd52b2-34a9-45a5-8f23-790d4fdbf4a6",
   "metadata": {},
   "outputs": [
    {
     "name": "stdout",
     "output_type": "stream",
     "text": [
      "Defaulting to user installation because normal site-packages is not writeable\n"
     ]
    },
    {
     "name": "stderr",
     "output_type": "stream",
     "text": [
      "ERROR: Invalid requirement: '#natural'\n",
      "\n",
      "[notice] A new release of pip available: 22.2.2 -> 22.3\n",
      "[notice] To update, run: python.exe -m pip install --upgrade pip\n"
     ]
    }
   ],
   "source": [
    "!pip install nltk #natural language toolkit"
   ]
  },
  {
   "cell_type": "code",
   "execution_count": 6,
   "id": "9cb8bba9-b49e-4673-bcb1-4fbf9b89dcce",
   "metadata": {},
   "outputs": [],
   "source": [
    "import nltk"
   ]
  },
  {
   "cell_type": "code",
   "execution_count": 7,
   "id": "c9de745d-0325-49b4-b07e-b2106f997092",
   "metadata": {},
   "outputs": [
    {
     "name": "stderr",
     "output_type": "stream",
     "text": [
      "[nltk_data] Downloading package punkt to C:\\Users\\Betül\n",
      "[nltk_data]     Ünver\\AppData\\Roaming\\nltk_data...\n",
      "[nltk_data]   Unzipping tokenizers\\punkt.zip.\n"
     ]
    },
    {
     "data": {
      "text/plain": [
       "True"
      ]
     },
     "execution_count": 7,
     "metadata": {},
     "output_type": "execute_result"
    }
   ],
   "source": [
    "nltk.download(\"punkt\")"
   ]
  },
  {
   "cell_type": "code",
   "execution_count": 8,
   "id": "14fb2617-c9de-4573-8831-d9b8f3f201c5",
   "metadata": {},
   "outputs": [],
   "source": [
    "cumle=\"Yaylaya gitmişti yayla zamano, Gülizar döndü de Döndü dönmedi.\""
   ]
  },
  {
   "cell_type": "code",
   "execution_count": 9,
   "id": "c951ed0c-9b90-4ac1-94de-e28267abf65d",
   "metadata": {},
   "outputs": [
    {
     "data": {
      "text/plain": [
       "'YAYLAYA GITMIŞTI YAYLA ZAMANO, GÜLIZAR DÖNDÜ DE DÖNDÜ DÖNMEDI.'"
      ]
     },
     "execution_count": 9,
     "metadata": {},
     "output_type": "execute_result"
    }
   ],
   "source": [
    "cumle.upper()"
   ]
  },
  {
   "cell_type": "code",
   "execution_count": 10,
   "id": "098066ef-3816-4033-85da-84c4874edbd1",
   "metadata": {},
   "outputs": [
    {
     "data": {
      "text/plain": [
       "'yaylaya gitmişti yayla zamano, gülizar döndü de döndü dönmedi.'"
      ]
     },
     "execution_count": 10,
     "metadata": {},
     "output_type": "execute_result"
    }
   ],
   "source": [
    "cumle.lower()"
   ]
  },
  {
   "cell_type": "code",
   "execution_count": 11,
   "id": "33342774-74e7-4dec-bbdc-670b0a45b01c",
   "metadata": {},
   "outputs": [
    {
     "data": {
      "text/plain": [
       "['Yaylaya',\n",
       " 'gitmişti',\n",
       " 'yayla',\n",
       " 'zamano,',\n",
       " 'Gülizar',\n",
       " 'döndü',\n",
       " 'de',\n",
       " 'Döndü',\n",
       " 'dönmedi.']"
      ]
     },
     "execution_count": 11,
     "metadata": {},
     "output_type": "execute_result"
    }
   ],
   "source": [
    "cumle.split()"
   ]
  },
  {
   "cell_type": "code",
   "execution_count": 12,
   "id": "04cc1851-015a-4a94-b137-d0c6769da5c3",
   "metadata": {},
   "outputs": [
    {
     "data": {
      "text/plain": [
       "'Y'"
      ]
     },
     "execution_count": 12,
     "metadata": {},
     "output_type": "execute_result"
    }
   ],
   "source": [
    "cumle[0]"
   ]
  },
  {
   "cell_type": "code",
   "execution_count": 13,
   "id": "3b993804-54f6-4867-bbba-a8c5849bc2fd",
   "metadata": {},
   "outputs": [],
   "source": [
    "from nltk.tokenize import sent_tokenize"
   ]
  },
  {
   "cell_type": "code",
   "execution_count": 36,
   "id": "aa1d9811-54b4-4204-83cd-3899ee118894",
   "metadata": {},
   "outputs": [],
   "source": [
    "text=\"I love python. zafer lives işn a small village. Please call be back.\""
   ]
  },
  {
   "cell_type": "code",
   "execution_count": 37,
   "id": "f8635bba-a8ca-413a-949c-eab72da3965b",
   "metadata": {},
   "outputs": [
    {
     "data": {
      "text/plain": [
       "['I love python',\n",
       " ' zafer lives işn a small village',\n",
       " ' Please call be back',\n",
       " '']"
      ]
     },
     "execution_count": 37,
     "metadata": {},
     "output_type": "execute_result"
    }
   ],
   "source": [
    "text.split(\".\")"
   ]
  },
  {
   "cell_type": "code",
   "execution_count": 19,
   "id": "fae43ddc-0476-47ab-8a10-c2626d6db111",
   "metadata": {},
   "outputs": [
    {
     "data": {
      "text/plain": [
       "['I love python.', 'zafer lives işn a small village.', 'Please call a back.']"
      ]
     },
     "execution_count": 19,
     "metadata": {},
     "output_type": "execute_result"
    }
   ],
   "source": [
    "sent_tokenize(text) #aynı işlemi sent_tokenize ile yaptık. kendi cümlelere ayırabiliyor"
   ]
  },
  {
   "cell_type": "code",
   "execution_count": 21,
   "id": "7ccbf6aa-9479-42d1-b69b-e9664bf2616e",
   "metadata": {},
   "outputs": [],
   "source": [
    " from nltk.tokenize import word_tokenize #kelimeleri ayırıyor."
   ]
  },
  {
   "cell_type": "code",
   "execution_count": 22,
   "id": "6f12f75c-ab8e-465a-a0b7-ff7e0185c469",
   "metadata": {},
   "outputs": [
    {
     "data": {
      "text/plain": [
       "['I',\n",
       " 'love',\n",
       " 'python',\n",
       " '.',\n",
       " 'zafer',\n",
       " 'lives',\n",
       " 'işn',\n",
       " 'a',\n",
       " 'small',\n",
       " 'village',\n",
       " '.',\n",
       " 'Please',\n",
       " 'call',\n",
       " 'a',\n",
       " 'back',\n",
       " '.']"
      ]
     },
     "execution_count": 22,
     "metadata": {},
     "output_type": "execute_result"
    }
   ],
   "source": [
    "word_tokenize(text)"
   ]
  },
  {
   "cell_type": "code",
   "execution_count": 24,
   "id": "702f7d58-6643-4a05-a7fb-f25b01b61e59",
   "metadata": {},
   "outputs": [],
   "source": [
    "from nltk.tokenize import TreebankWordTokenizer"
   ]
  },
  {
   "cell_type": "code",
   "execution_count": 26,
   "id": "58ad1a67-ba51-4e83-96f4-c4b45d9a0992",
   "metadata": {},
   "outputs": [
    {
     "data": {
      "text/plain": [
       "['I',\n",
       " 'love',\n",
       " 'python.',\n",
       " 'zafer',\n",
       " 'lives',\n",
       " 'işn',\n",
       " 'a',\n",
       " 'small',\n",
       " 'village.',\n",
       " 'Please',\n",
       " 'call',\n",
       " 'a',\n",
       " 'back',\n",
       " '.']"
      ]
     },
     "execution_count": 26,
     "metadata": {},
     "output_type": "execute_result"
    }
   ],
   "source": [
    "TreebankWordTokenizer().tokenize(text)"
   ]
  },
  {
   "cell_type": "code",
   "execution_count": 27,
   "id": "8ec8949e-03d6-49e3-b87d-bf5cc8d0d0c7",
   "metadata": {},
   "outputs": [],
   "source": [
    "#stopwords -> gereksiz kelimeler (konuştuğum cümlelri yardımcı kelimleerle birleştiriyorsam , aralarda ee diyorsam bunlar gereksiz. bunlar en ok tekrar eden kelimler ama biz anahtar kelimleri kulanmak istiyoruz.)"
   ]
  },
  {
   "cell_type": "code",
   "execution_count": 29,
   "id": "e38d98cf-8a1e-45ac-8901-7cb0f0d407f8",
   "metadata": {},
   "outputs": [
    {
     "name": "stderr",
     "output_type": "stream",
     "text": [
      "[nltk_data] Downloading package stopwords to C:\\Users\\Betül\n",
      "[nltk_data]     Ünver\\AppData\\Roaming\\nltk_data...\n",
      "[nltk_data]   Unzipping corpora\\stopwords.zip.\n"
     ]
    },
    {
     "data": {
      "text/plain": [
       "True"
      ]
     },
     "execution_count": 29,
     "metadata": {},
     "output_type": "execute_result"
    }
   ],
   "source": [
    "nltk.download('stopwords')"
   ]
  },
  {
   "cell_type": "code",
   "execution_count": 30,
   "id": "b728bbe2-f741-41f0-8f10-18d4ee155079",
   "metadata": {},
   "outputs": [
    {
     "name": "stdout",
     "output_type": "stream",
     "text": [
      "['i', 'me', 'my', 'myself', 'we', 'our', 'ours', 'ourselves', 'you', \"you're\", \"you've\", \"you'll\", \"you'd\", 'your', 'yours', 'yourself', 'yourselves', 'he', 'him', 'his', 'himself', 'she', \"she's\", 'her', 'hers', 'herself', 'it', \"it's\", 'its', 'itself', 'they', 'them', 'their', 'theirs', 'themselves', 'what', 'which', 'who', 'whom', 'this', 'that', \"that'll\", 'these', 'those', 'am', 'is', 'are', 'was', 'were', 'be', 'been', 'being', 'have', 'has', 'had', 'having', 'do', 'does', 'did', 'doing', 'a', 'an', 'the', 'and', 'but', 'if', 'or', 'because', 'as', 'until', 'while', 'of', 'at', 'by', 'for', 'with', 'about', 'against', 'between', 'into', 'through', 'during', 'before', 'after', 'above', 'below', 'to', 'from', 'up', 'down', 'in', 'out', 'on', 'off', 'over', 'under', 'again', 'further', 'then', 'once', 'here', 'there', 'when', 'where', 'why', 'how', 'all', 'any', 'both', 'each', 'few', 'more', 'most', 'other', 'some', 'such', 'no', 'nor', 'not', 'only', 'own', 'same', 'so', 'than', 'too', 'very', 's', 't', 'can', 'will', 'just', 'don', \"don't\", 'should', \"should've\", 'now', 'd', 'll', 'm', 'o', 're', 've', 'y', 'ain', 'aren', \"aren't\", 'couldn', \"couldn't\", 'didn', \"didn't\", 'doesn', \"doesn't\", 'hadn', \"hadn't\", 'hasn', \"hasn't\", 'haven', \"haven't\", 'isn', \"isn't\", 'ma', 'mightn', \"mightn't\", 'mustn', \"mustn't\", 'needn', \"needn't\", 'shan', \"shan't\", 'shouldn', \"shouldn't\", 'wasn', \"wasn't\", 'weren', \"weren't\", 'won', \"won't\", 'wouldn', \"wouldn't\"]\n"
     ]
    }
   ],
   "source": [
    "print(nltk.corpus.stopwords.words(\"english\")) #ingliizcedeki greksiz kelimeler"
   ]
  },
  {
   "cell_type": "code",
   "execution_count": 31,
   "id": "036ba00b-feba-4597-b1d6-9a3ba21813a5",
   "metadata": {},
   "outputs": [
    {
     "name": "stdout",
     "output_type": "stream",
     "text": [
      "['acaba', 'ama', 'aslında', 'az', 'bazı', 'belki', 'biri', 'birkaç', 'birşey', 'biz', 'bu', 'çok', 'çünkü', 'da', 'daha', 'de', 'defa', 'diye', 'eğer', 'en', 'gibi', 'hem', 'hep', 'hepsi', 'her', 'hiç', 'için', 'ile', 'ise', 'kez', 'ki', 'kim', 'mı', 'mu', 'mü', 'nasıl', 'ne', 'neden', 'nerde', 'nerede', 'nereye', 'niçin', 'niye', 'o', 'sanki', 'şey', 'siz', 'şu', 'tüm', 've', 'veya', 'ya', 'yani']\n"
     ]
    }
   ],
   "source": [
    "print(nltk.corpus.stopwords.words(\"turkish\")) #türkçedeki gereksiz kelimeler"
   ]
  },
  {
   "cell_type": "code",
   "execution_count": 32,
   "id": "9d53e1d3-3386-4e41-914b-667ea1b5f509",
   "metadata": {},
   "outputs": [],
   "source": [
    "from nltk.stem import PorterStemmer"
   ]
  },
  {
   "cell_type": "code",
   "execution_count": 33,
   "id": "f68167cb-16ec-4964-9cbe-cd6394ec2eb3",
   "metadata": {},
   "outputs": [
    {
     "data": {
      "text/plain": [
       "'happi'"
      ]
     },
     "execution_count": 33,
     "metadata": {},
     "output_type": "execute_result"
    }
   ],
   "source": [
    "PorterStemmer().stem(\"Happiness\")"
   ]
  },
  {
   "cell_type": "code",
   "execution_count": 34,
   "id": "2f6ebc6c-8082-4029-9af3-cba5b553f17b",
   "metadata": {},
   "outputs": [],
   "source": [
    "from nltk.stem import LancasterStemmer"
   ]
  },
  {
   "cell_type": "code",
   "execution_count": 35,
   "id": "4e087df8-6ad1-4165-98eb-2d17659cf7c3",
   "metadata": {},
   "outputs": [
    {
     "data": {
      "text/plain": [
       "'happy'"
      ]
     },
     "execution_count": 35,
     "metadata": {},
     "output_type": "execute_result"
    }
   ],
   "source": [
    "LancasterStemmer().stem(\"Happiness\")"
   ]
  },
  {
   "cell_type": "code",
   "execution_count": 38,
   "id": "dd24966d-8ccb-46e9-8a28-6050673af1ce",
   "metadata": {},
   "outputs": [],
   "source": [
    "# Markov Chain - önceki hamleden sonrakini tahmin etme"
   ]
  },
  {
   "cell_type": "code",
   "execution_count": 39,
   "id": "f38d5421-14b2-465b-b2dd-bd44acbb807d",
   "metadata": {},
   "outputs": [],
   "source": [
    "from nltk.stem import RegexpStemmer"
   ]
  },
  {
   "cell_type": "code",
   "execution_count": 40,
   "id": "f87a1196-8d4e-4c3e-ad9a-0bf0cd197750",
   "metadata": {},
   "outputs": [],
   "source": [
    "rs=RegexpStemmer(\"ing\")"
   ]
  },
  {
   "cell_type": "code",
   "execution_count": 41,
   "id": "63dee9e9-6148-4c9a-8a7d-bd758feab6a0",
   "metadata": {},
   "outputs": [
    {
     "data": {
      "text/plain": [
       "'work'"
      ]
     },
     "execution_count": 41,
     "metadata": {},
     "output_type": "execute_result"
    }
   ],
   "source": [
    "rs.stem(\"working\")"
   ]
  },
  {
   "cell_type": "code",
   "execution_count": null,
   "id": "a93a8f76-da31-4f97-beca-5d5ea5069d09",
   "metadata": {},
   "outputs": [],
   "source": []
  }
 ],
 "metadata": {
  "kernelspec": {
   "display_name": "Python 3",
   "language": "python",
   "name": "python3"
  },
  "language_info": {
   "codemirror_mode": {
    "name": "ipython",
    "version": 3
   },
   "file_extension": ".py",
   "mimetype": "text/x-python",
   "name": "python",
   "nbconvert_exporter": "python",
   "pygments_lexer": "ipython3",
   "version": "3.8.2"
  }
 },
 "nbformat": 4,
 "nbformat_minor": 5
}
