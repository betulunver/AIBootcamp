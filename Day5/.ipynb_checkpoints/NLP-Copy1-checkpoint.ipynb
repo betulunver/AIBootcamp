{
 "cells": [
  {
   "cell_type": "markdown",
   "id": "9eda1a8f-8dc9-4e7d-a35d-6cf017b76e4d",
   "metadata": {},
   "source": [
    "# Natural Language Processing - Doğal Dil İşleme"
   ]
  },
  {
   "cell_type": "code",
   "execution_count": null,
   "id": "69cd52b2-34a9-45a5-8f23-790d4fdbf4a6",
   "metadata": {},
   "outputs": [],
   "source": [
    "!pip install nltk #natural language toolkit"
   ]
  },
  {
   "cell_type": "code",
   "execution_count": null,
   "id": "9cb8bba9-b49e-4673-bcb1-4fbf9b89dcce",
   "metadata": {},
   "outputs": [],
   "source": [
    "import nltk"
   ]
  },
  {
   "cell_type": "code",
   "execution_count": null,
   "id": "c9de745d-0325-49b4-b07e-b2106f997092",
   "metadata": {},
   "outputs": [],
   "source": [
    "nltk.download(\"punkt\")"
   ]
  },
  {
   "cell_type": "code",
   "execution_count": null,
   "id": "14fb2617-c9de-4573-8831-d9b8f3f201c5",
   "metadata": {},
   "outputs": [],
   "source": [
    "cumle=\"Yaylaya gitmişti yayla zamano, Gülizar döndü de Döndü dönmedi.\""
   ]
  },
  {
   "cell_type": "code",
   "execution_count": null,
   "id": "c951ed0c-9b90-4ac1-94de-e28267abf65d",
   "metadata": {},
   "outputs": [],
   "source": [
    "cumle.upper()"
   ]
  },
  {
   "cell_type": "code",
   "execution_count": null,
   "id": "098066ef-3816-4033-85da-84c4874edbd1",
   "metadata": {},
   "outputs": [],
   "source": [
    "cumle.lower()"
   ]
  },
  {
   "cell_type": "code",
   "execution_count": null,
   "id": "33342774-74e7-4dec-bbdc-670b0a45b01c",
   "metadata": {},
   "outputs": [],
   "source": [
    "cumle.split()"
   ]
  },
  {
   "cell_type": "code",
   "execution_count": null,
   "id": "04cc1851-015a-4a94-b137-d0c6769da5c3",
   "metadata": {},
   "outputs": [],
   "source": [
    "cumle[0]"
   ]
  },
  {
   "cell_type": "code",
   "execution_count": null,
   "id": "3b993804-54f6-4867-bbba-a8c5849bc2fd",
   "metadata": {},
   "outputs": [],
   "source": [
    "from nltk.tokenize import sent_tokenize"
   ]
  },
  {
   "cell_type": "code",
   "execution_count": null,
   "id": "aa1d9811-54b4-4204-83cd-3899ee118894",
   "metadata": {},
   "outputs": [],
   "source": [
    "text=\"I love python. zafer lives işn a small village. Please call be back.\""
   ]
  },
  {
   "cell_type": "code",
   "execution_count": null,
   "id": "f8635bba-a8ca-413a-949c-eab72da3965b",
   "metadata": {},
   "outputs": [],
   "source": [
    "text.split(\".\")"
   ]
  },
  {
   "cell_type": "code",
   "execution_count": null,
   "id": "fae43ddc-0476-47ab-8a10-c2626d6db111",
   "metadata": {},
   "outputs": [],
   "source": [
    "sent_tokenize(text) #aynı işlemi sent_tokenize ile yaptık. kendi cümlelere ayırabiliyor"
   ]
  },
  {
   "cell_type": "code",
   "execution_count": null,
   "id": "7ccbf6aa-9479-42d1-b69b-e9664bf2616e",
   "metadata": {},
   "outputs": [],
   "source": [
    " from nltk.tokenize import word_tokenize #kelimeleri ayırıyor."
   ]
  },
  {
   "cell_type": "code",
   "execution_count": null,
   "id": "6f12f75c-ab8e-465a-a0b7-ff7e0185c469",
   "metadata": {},
   "outputs": [],
   "source": [
    "word_tokenize(text)"
   ]
  },
  {
   "cell_type": "code",
   "execution_count": null,
   "id": "702f7d58-6643-4a05-a7fb-f25b01b61e59",
   "metadata": {},
   "outputs": [],
   "source": [
    "from nltk.tokenize import TreebankWordTokenizer"
   ]
  },
  {
   "cell_type": "code",
   "execution_count": null,
   "id": "58ad1a67-ba51-4e83-96f4-c4b45d9a0992",
   "metadata": {},
   "outputs": [],
   "source": [
    "TreebankWordTokenizer().tokenize(text)"
   ]
  },
  {
   "cell_type": "code",
   "execution_count": null,
   "id": "8ec8949e-03d6-49e3-b87d-bf5cc8d0d0c7",
   "metadata": {},
   "outputs": [],
   "source": [
    "#stopwords -> gereksiz kelimeler (konuştuğum cümlelri yardımcı kelimleerle birleştiriyorsam , aralarda ee diyorsam bunlar gereksiz. bunlar en ok tekrar eden kelimler ama biz anahtar kelimleri kulanmak istiyoruz.)"
   ]
  },
  {
   "cell_type": "code",
   "execution_count": null,
   "id": "e38d98cf-8a1e-45ac-8901-7cb0f0d407f8",
   "metadata": {},
   "outputs": [],
   "source": [
    "nltk.download('stopwords')"
   ]
  },
  {
   "cell_type": "code",
   "execution_count": null,
   "id": "b728bbe2-f741-41f0-8f10-18d4ee155079",
   "metadata": {},
   "outputs": [],
   "source": [
    "print(nltk.corpus.stopwords.words(\"english\")) #ingliizcedeki greksiz kelimeler"
   ]
  },
  {
   "cell_type": "code",
   "execution_count": null,
   "id": "036ba00b-feba-4597-b1d6-9a3ba21813a5",
   "metadata": {},
   "outputs": [],
   "source": [
    "print(nltk.corpus.stopwords.words(\"turkish\")) #türkçedeki gereksiz kelimeler"
   ]
  },
  {
   "cell_type": "code",
   "execution_count": null,
   "id": "9d53e1d3-3386-4e41-914b-667ea1b5f509",
   "metadata": {},
   "outputs": [],
   "source": [
    "from nltk.stem import PorterStemmer"
   ]
  },
  {
   "cell_type": "code",
   "execution_count": null,
   "id": "f68167cb-16ec-4964-9cbe-cd6394ec2eb3",
   "metadata": {},
   "outputs": [],
   "source": [
    "PorterStemmer().stem(\"Happiness\")"
   ]
  },
  {
   "cell_type": "code",
   "execution_count": null,
   "id": "2f6ebc6c-8082-4029-9af3-cba5b553f17b",
   "metadata": {},
   "outputs": [],
   "source": [
    "from nltk.stem import LancasterStemmer"
   ]
  },
  {
   "cell_type": "code",
   "execution_count": null,
   "id": "4e087df8-6ad1-4165-98eb-2d17659cf7c3",
   "metadata": {},
   "outputs": [],
   "source": [
    "LancasterStemmer().stem(\"Happiness\")"
   ]
  },
  {
   "cell_type": "code",
   "execution_count": null,
   "id": "dd24966d-8ccb-46e9-8a28-6050673af1ce",
   "metadata": {},
   "outputs": [],
   "source": [
    "# Markov Chain - önceki hamleden sonrakini tahmin etme"
   ]
  },
  {
   "cell_type": "code",
   "execution_count": null,
   "id": "f38d5421-14b2-465b-b2dd-bd44acbb807d",
   "metadata": {},
   "outputs": [],
   "source": [
    "from nltk.stem import RegexpStemmer"
   ]
  },
  {
   "cell_type": "code",
   "execution_count": null,
   "id": "f87a1196-8d4e-4c3e-ad9a-0bf0cd197750",
   "metadata": {},
   "outputs": [],
   "source": [
    "rs=RegexpStemmer(\"ing\")"
   ]
  },
  {
   "cell_type": "code",
   "execution_count": null,
   "id": "63dee9e9-6148-4c9a-8a7d-bd758feab6a0",
   "metadata": {},
   "outputs": [],
   "source": [
    "rs.stem(\"working\")"
   ]
  },
  {
   "cell_type": "markdown",
   "id": "4e2f4ddc-642c-4692-9061-1a0509c5ead8",
   "metadata": {},
   "source": [
    "#### NLP PRojesinde 7 altin kural\n",
    "1- Noktalama işsaretlerine,\n",
    "2- Hepsini küçük harfe çeviriyoruz.\n",
    "3- Enter veya \\n kaldir\n",
    "4- Rakamlari kaldir\n",
    "5- Tokenize etmek\n",
    "6- Eklerini kaldir koklerini bul\n",
    "7- Stopwords kaldir gereksiz kelimeler."
   ]
  },
  {
   "cell_type": "code",
   "execution_count": null,
   "id": "72fde598-b9a1-4056-85f7-3f0203e921c0",
   "metadata": {},
   "outputs": [],
   "source": [
    "from nltk.stem import SnowballStemmer"
   ]
  },
  {
   "cell_type": "code",
   "execution_count": null,
   "id": "39a20add-f9c2-4c4c-8bc4-fb96965fcc92",
   "metadata": {},
   "outputs": [],
   "source": [
    "SnowballStemmer.languages #hangi dilleri destekliyor"
   ]
  },
  {
   "cell_type": "code",
   "execution_count": null,
   "id": "1583f757-aba5-482f-86cb-d3652c87099e",
   "metadata": {},
   "outputs": [],
   "source": [
    "!pip install TurkishStemmer"
   ]
  },
  {
   "cell_type": "code",
   "execution_count": null,
   "id": "36d2dc5a-cc16-4a1c-9cb4-3392d3024d99",
   "metadata": {},
   "outputs": [],
   "source": [
    "from TurkishStemmer import TurkishStemmer"
   ]
  },
  {
   "cell_type": "code",
   "execution_count": null,
   "id": "a92b5479-04de-4a5b-81fe-6f7b37e60f55",
   "metadata": {},
   "outputs": [],
   "source": [
    "TurkishStemmer().stem(\"bardaktan\") #mastar halini buluyor"
   ]
  },
  {
   "cell_type": "code",
   "execution_count": null,
   "id": "9d2ddd78-5654-42fb-8673-7214ec8d5360",
   "metadata": {},
   "outputs": [],
   "source": [
    "TurkishStemmer().stem(\"geliyorum\")"
   ]
  },
  {
   "cell_type": "code",
   "execution_count": null,
   "id": "6797b172-39e9-48b6-b7ff-871f3a88e096",
   "metadata": {},
   "outputs": [],
   "source": [
    "TurkishStemmer().stem(\"gözlük\")"
   ]
  },
  {
   "cell_type": "code",
   "execution_count": null,
   "id": "7f298222-649d-4c5c-843b-4e068dedc9bb",
   "metadata": {},
   "outputs": [],
   "source": [
    "TurkishStemmer().stem(\"mahalle\")"
   ]
  },
  {
   "cell_type": "code",
   "execution_count": null,
   "id": "b4243307-5761-471c-92be-e501c27c1eaf",
   "metadata": {},
   "outputs": [],
   "source": [
    "TurkishStemmer().stem(\"dostun\")"
   ]
  },
  {
   "cell_type": "code",
   "execution_count": null,
   "id": "b3e656f5-3fd8-488f-87bd-266b22d700f5",
   "metadata": {},
   "outputs": [],
   "source": [
    "TurkishStemmer().stem(\"gözde\")"
   ]
  },
  {
   "cell_type": "code",
   "execution_count": null,
   "id": "8333a6b2-a09e-4e85-85ef-a47695af2218",
   "metadata": {},
   "outputs": [],
   "source": [
    "TurkishStemmer().stem(\"muhallebici\")"
   ]
  },
  {
   "cell_type": "code",
   "execution_count": null,
   "id": "2a9a9ac2-3103-4edd-8158-0a453052c035",
   "metadata": {},
   "outputs": [],
   "source": [
    "TurkishStemmer().stem(\"görümce\")"
   ]
  },
  {
   "cell_type": "code",
   "execution_count": null,
   "id": "a96b9d66-b047-428b-8b27-161b5a125545",
   "metadata": {},
   "outputs": [],
   "source": [
    "TurkishStemmer().stem(\"mahalleli\")"
   ]
  },
  {
   "cell_type": "code",
   "execution_count": null,
   "id": "dd21db80-28f6-44f0-8a75-79c9617e9ea2",
   "metadata": {},
   "outputs": [],
   "source": [
    "spstemmer=SnowballStemmer(\"spanish\") #ispanyolca"
   ]
  },
  {
   "cell_type": "code",
   "execution_count": null,
   "id": "e0fe1968-5658-4eec-aa70-c2dfbe7c4aad",
   "metadata": {},
   "outputs": [],
   "source": [
    "spstemmer.stem(\"comiendo\")"
   ]
  },
  {
   "cell_type": "code",
   "execution_count": null,
   "id": "bf67c947-053c-4fff-8560-91ff8e265238",
   "metadata": {},
   "outputs": [],
   "source": [
    "spstemmer.stem(\"tiamo\")"
   ]
  },
  {
   "cell_type": "code",
   "execution_count": null,
   "id": "c4cadeb8-facc-4b00-9693-1c8ae4051f16",
   "metadata": {},
   "outputs": [],
   "source": [
    "frstemmer=SnowballStemmer(\"french\") #fransızca"
   ]
  },
  {
   "cell_type": "code",
   "execution_count": null,
   "id": "f339e850-dc1b-4e1b-a4c5-a84dc8eeda85",
   "metadata": {},
   "outputs": [],
   "source": [
    "frstemmer.stem(\"manager\")"
   ]
  },
  {
   "cell_type": "code",
   "execution_count": null,
   "id": "e3a3247b-eb31-4b40-a403-a9ebf30c6dfe",
   "metadata": {},
   "outputs": [],
   "source": [
    "frstemmer.stem(\"kes kose\")"
   ]
  },
  {
   "cell_type": "code",
   "execution_count": null,
   "id": "3f0d8651-2270-4914-adc7-2fd2852bbb87",
   "metadata": {},
   "outputs": [],
   "source": [
    "#Part of Speech - POS İsim fiil, özne yüklem, fiil fail -> ne olduğu buluyor"
   ]
  },
  {
   "cell_type": "code",
   "execution_count": null,
   "id": "53b56311-41be-4919-b3a0-f6599acb7e3f",
   "metadata": {},
   "outputs": [],
   "source": [
    "from nltk.tokenize import word_tokenize"
   ]
  },
  {
   "cell_type": "code",
   "execution_count": null,
   "id": "fd06a447-d935-4165-9f0f-87c04d22891a",
   "metadata": {},
   "outputs": [],
   "source": [
    "cumle=\"Zafer love stuffed grape leaves. Artificial Intellgence is cool\""
   ]
  },
  {
   "cell_type": "code",
   "execution_count": null,
   "id": "0713fc09-47b8-4892-b202-1d5af7836acd",
   "metadata": {},
   "outputs": [],
   "source": [
    "nltk.download(\"average_perceptron_tagger\")"
   ]
  },
  {
   "cell_type": "code",
   "execution_count": null,
   "id": "d32cd7c6-3ae6-4c11-b7a9-1f76d5568041",
   "metadata": {},
   "outputs": [],
   "source": [
    "nltk.pos_tag(worrd_tokenize(cumle)) # her bir kelimenin ne olduğunu yazdı. pos tagging"
   ]
  },
  {
   "cell_type": "code",
   "execution_count": null,
   "id": "9d0f337c-8a22-4167-8925-d65876b4c128",
   "metadata": {},
   "outputs": [],
   "source": [
    "text=word_tokenize(\"it is a pleasant day today\")"
   ]
  },
  {
   "cell_type": "code",
   "execution_count": null,
   "id": "5929fe62-df15-471a-9687-103575687807",
   "metadata": {},
   "outputs": [],
   "source": [
    "nltk.pos_tag(text)"
   ]
  },
  {
   "cell_type": "code",
   "execution_count": null,
   "id": "9273c441-98d5-41fe-a0d7-bcba6daaba45",
   "metadata": {},
   "outputs": [],
   "source": [
    "from nltk.tag import DefaultTagger"
   ]
  },
  {
   "cell_type": "code",
   "execution_count": null,
   "id": "416027b4-9058-4375-926c-249bf5819e0e",
   "metadata": {},
   "outputs": [],
   "source": [
    "tag=DefaultTagger(\"He is the man\")"
   ]
  },
  {
   "cell_type": "code",
   "execution_count": null,
   "id": "442e2ba5-41ff-4b43-8553-ef854fec07ca",
   "metadata": {},
   "outputs": [],
   "source": [
    "tag.tag([\"beatiful\",\"morning\"])"
   ]
  },
  {
   "cell_type": "code",
   "execution_count": null,
   "id": "1845ff88-b337-49b1-8f17-6c0c6ffd5c2b",
   "metadata": {},
   "outputs": [],
   "source": [
    "!pip install autocorrect"
   ]
  },
  {
   "cell_type": "code",
   "execution_count": null,
   "id": "ef6ab3b0-b8c5-4639-b937-2958eeb2f311",
   "metadata": {},
   "outputs": [],
   "source": [
    "from autocorrect import spell"
   ]
  },
  {
   "cell_type": "code",
   "execution_count": null,
   "id": "db010e96-67eb-469f-90d0-7cb50b9900a5",
   "metadata": {},
   "outputs": [],
   "source": [
    "spell(\"tghe\")"
   ]
  },
  {
   "cell_type": "code",
   "execution_count": null,
   "id": "cb956588-cedd-4390-8781-5ce75af75d64",
   "metadata": {},
   "outputs": [],
   "source": [
    "!pip install --trusted-host pypi.python.org textblob"
   ]
  },
  {
   "cell_type": "code",
   "execution_count": null,
   "id": "4f5874e1-765c-478e-87b1-4fc37b82264b",
   "metadata": {},
   "outputs": [],
   "source": [
    "from textblob import TextBlob"
   ]
  },
  {
   "cell_type": "code",
   "execution_count": null,
   "id": "b1a3ca0d-6d9c-4ed3-8c59-a542eca301dc",
   "metadata": {},
   "outputs": [],
   "source": [
    "b=TextBlob(\"I havv good spelling\")"
   ]
  },
  {
   "cell_type": "code",
   "execution_count": null,
   "id": "a4e5015c-54a4-4917-8321-9929a414d695",
   "metadata": {},
   "outputs": [],
   "source": [
    "# hangi dilde anlayacak ve yanlışı düzeltecek"
   ]
  },
  {
   "cell_type": "code",
   "execution_count": null,
   "id": "966771aa-28cd-4867-82f1-7d517c7a4990",
   "metadata": {},
   "outputs": [],
   "source": [
    "#b.detect_language() çalışmadı"
   ]
  },
  {
   "cell_type": "code",
   "execution_count": null,
   "id": "22664818-9c9c-4f03-a435-3438283f540b",
   "metadata": {},
   "outputs": [],
   "source": [
    "b.correct()"
   ]
  },
  {
   "cell_type": "code",
   "execution_count": null,
   "id": "0d446f93-c479-4609-ba0a-8db5016196f9",
   "metadata": {},
   "outputs": [],
   "source": [
    "!pip install langdetect"
   ]
  },
  {
   "cell_type": "code",
   "execution_count": null,
   "id": "7626c096-4b20-42a0-9440-c87a0fb17410",
   "metadata": {},
   "outputs": [],
   "source": [
    "from langdetect import detect"
   ]
  },
  {
   "cell_type": "code",
   "execution_count": null,
   "id": "726ac38a-55fd-45e5-b57d-a7d03a4cc8d9",
   "metadata": {},
   "outputs": [],
   "source": [
    "detect(\"Ein, zwei, vier\") #hangi dil olduğunu anlıyor"
   ]
  },
  {
   "cell_type": "code",
   "execution_count": null,
   "id": "22ae3c07-dc02-4083-a22c-d336592201ae",
   "metadata": {},
   "outputs": [],
   "source": [
    "detect(\"Döndü dönmedi\")"
   ]
  },
  {
   "cell_type": "code",
   "execution_count": null,
   "id": "3812e043-88c7-4b05-8a83-7e00e3135812",
   "metadata": {},
   "outputs": [],
   "source": [
    "detect(\"Nasılsınız\")"
   ]
  },
  {
   "cell_type": "code",
   "execution_count": null,
   "id": "71070d7a-47e9-4d80-91d4-a943b1c754fe",
   "metadata": {},
   "outputs": [],
   "source": [
    "detect(\"Eu gosto de vier\")"
   ]
  },
  {
   "cell_type": "code",
   "execution_count": null,
   "id": "0630f846-396c-4a40-8478-3991686ef98e",
   "metadata": {},
   "outputs": [],
   "source": [
    "detect(\"Merhaba\")"
   ]
  },
  {
   "cell_type": "code",
   "execution_count": null,
   "id": "bda1ee99-f3c3-4a54-b943-4bd4e89d8df3",
   "metadata": {},
   "outputs": [],
   "source": [
    "# iki kelimeyle bakmak daha sağlıklı. mesela ingilizce phrasel verb var. look başka look up başka, look for başka"
   ]
  },
  {
   "cell_type": "code",
   "execution_count": null,
   "id": "89d17788-4932-4007-a7a0-093079f6fb54",
   "metadata": {},
   "outputs": [],
   "source": [
    "#Speech to Text"
   ]
  },
  {
   "cell_type": "code",
   "execution_count": null,
   "id": "75619989-35cc-4c14-8797-5a2bd0664f72",
   "metadata": {},
   "outputs": [],
   "source": [
    "c=\"I am a free black man from Africa\""
   ]
  },
  {
   "cell_type": "code",
   "execution_count": null,
   "id": "d63c31f0-9f3e-4a30-b5e7-3215eaaa0b81",
   "metadata": {},
   "outputs": [],
   "source": [
    "b=TextBlob(c)"
   ]
  },
  {
   "cell_type": "code",
   "execution_count": null,
   "id": "71915185-f744-4b92-9fa0-ba538a1241cd",
   "metadata": {},
   "outputs": [],
   "source": [
    "b.translate(from_lang=\"en\",to=\"tr\")"
   ]
  },
  {
   "cell_type": "code",
   "execution_count": null,
   "id": "b95eb017-971d-4c16-9edc-316b9ff22910",
   "metadata": {},
   "outputs": [],
   "source": [
    "k=\"hayat kısa, kuşlar uçuyor\""
   ]
  },
  {
   "cell_type": "code",
   "execution_count": null,
   "id": "39d3d73c-5f51-4b69-b925-dbdd50760b4d",
   "metadata": {},
   "outputs": [],
   "source": [
    "b=TextBlob(k)"
   ]
  },
  {
   "cell_type": "code",
   "execution_count": null,
   "id": "121b1418-d077-4efc-8770-8823385b6836",
   "metadata": {},
   "outputs": [],
   "source": [
    "b.translate(\"tr\",\"ar\")"
   ]
  },
  {
   "cell_type": "code",
   "execution_count": null,
   "id": "72fde2b5-3004-4e82-873a-1ea088d78f2d",
   "metadata": {},
   "outputs": [],
   "source": [
    "l=\"Benim çok işim var, bana bulaşma\""
   ]
  },
  {
   "cell_type": "code",
   "execution_count": null,
   "id": "d6a9ae6d-ecdd-4131-9951-d06e3184a9be",
   "metadata": {},
   "outputs": [],
   "source": [
    "b=TextBlob(l)"
   ]
  },
  {
   "cell_type": "code",
   "execution_count": null,
   "id": "ea4376fa-1a9f-4b07-b89f-d59efba946ce",
   "metadata": {},
   "outputs": [],
   "source": [
    "b.translate(\"tr\",\"en\")"
   ]
  },
  {
   "cell_type": "code",
   "execution_count": null,
   "id": "dd8732e7-2250-4f52-8d38-2b71e0dccdc5",
   "metadata": {},
   "outputs": [],
   "source": [
    "#TF-IDF -> Term Frequency  - Inverse documnet frequency"
   ]
  },
  {
   "cell_type": "code",
   "execution_count": null,
   "id": "aa199346-9bcd-4693-8c09-353e09082a80",
   "metadata": {},
   "outputs": [],
   "source": [
    "!pip install google"
   ]
  },
  {
   "cell_type": "code",
   "execution_count": null,
   "id": "f065b130-97ea-4505-a540-bc3558ab52a0",
   "metadata": {},
   "outputs": [],
   "source": [
    "from googlesearch import search"
   ]
  },
  {
   "cell_type": "code",
   "execution_count": null,
   "id": "e934e1fc-be1b-46e8-a215-2dc78cf56fc4",
   "metadata": {},
   "outputs": [],
   "source": [
    "for i in search(\"Betül Ünver\",lang=\"tr\"):\n",
    "    print(i)"
   ]
  },
  {
   "cell_type": "code",
   "execution_count": null,
   "id": "854b1c7e-ad2e-4b7e-ac3f-74a1591e4022",
   "metadata": {},
   "outputs": [],
   "source": [
    "#graph theary - 6 kişiyle birine ulaşılabiliyor\n",
    "#graph theory airlines"
   ]
  },
  {
   "cell_type": "code",
   "execution_count": null,
   "id": "8621e6a9-3413-413f-841b-3cb374293946",
   "metadata": {},
   "outputs": [],
   "source": []
  }
 ],
 "metadata": {
  "kernelspec": {
   "display_name": "Python 3",
   "language": "python",
   "name": "python3"
  },
  "language_info": {
   "codemirror_mode": {
    "name": "ipython",
    "version": 3
   },
   "file_extension": ".py",
   "mimetype": "text/x-python",
   "name": "python",
   "nbconvert_exporter": "python",
   "pygments_lexer": "ipython3",
   "version": "3.8.2"
  }
 },
 "nbformat": 4,
 "nbformat_minor": 5
}
