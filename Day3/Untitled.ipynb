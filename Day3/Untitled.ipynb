{
 "cells": [
  {
   "cell_type": "code",
   "execution_count": null,
   "id": "d571377b-a681-49b5-9f42-4fd6fc607035",
   "metadata": {},
   "outputs": [],
   "source": [
    "to.pickle() o ana kadar yaptıklarımızı kaydetmek içiin turşusunu kurmak gibi bir anlamı var. tüm işlemi baştan yapmamak için\n",
    "\n",
    "EtraTreeRegressor eğer veri linear değilse dallardaki vereilere bakar yeni geldiği zaman örn ağaç isitanbul dallar semt olsun semt eklendiğinde bakıyor\n",
    "\n",
    "xgboost \n",
    "\n",
    "deep learning"
   ]
  }
 ],
 "metadata": {
  "kernelspec": {
   "display_name": "Python 3",
   "language": "python",
   "name": "python3"
  },
  "language_info": {
   "codemirror_mode": {
    "name": "ipython",
    "version": 3
   },
   "file_extension": ".py",
   "mimetype": "text/x-python",
   "name": "python",
   "nbconvert_exporter": "python",
   "pygments_lexer": "ipython3",
   "version": "3.8.2"
  }
 },
 "nbformat": 4,
 "nbformat_minor": 5
}
