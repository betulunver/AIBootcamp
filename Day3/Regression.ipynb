{
 "cells": [
  {
   "cell_type": "markdown",
   "id": "bf57cddf-658d-4586-bf73-1ffc4a07a9cb",
   "metadata": {},
   "source": [
    " # <font color=red>Regression - Rakam Tahminleme"
   ]
  },
  {
   "cell_type": "code",
   "execution_count": 1,
   "id": "5ef82a92-ec52-4e1b-8ee0-6d2ee60d8bc0",
   "metadata": {},
   "outputs": [],
   "source": [
    "import pandas as pd\n",
    "import matplotlib.pyplot as plt"
   ]
  },
  {
   "cell_type": "code",
   "execution_count": 3,
   "id": "08d964a8-f9f3-41eb-938b-873196cea5c4",
   "metadata": {
    "collapsed": true,
    "jupyter": {
     "outputs_hidden": true
    },
    "tags": []
   },
   "outputs": [
    {
     "name": "stdout",
     "output_type": "stream",
     "text": [
      "Defaulting to user installation because normal site-packages is not writeable\n",
      "Collecting xlrd\n",
      "  Downloading xlrd-2.0.1-py2.py3-none-any.whl (96 kB)\n",
      "     ---------------------------------------- 96.5/96.5 kB 1.4 MB/s eta 0:00:00\n",
      "Installing collected packages: xlrd\n",
      "Successfully installed xlrd-2.0.1\n"
     ]
    }
   ],
   "source": [
    "##!pip install xlrd"
   ]
  },
  {
   "cell_type": "code",
   "execution_count": 4,
   "id": "7dc40f54-2758-4c79-80da-497fe69e8a25",
   "metadata": {},
   "outputs": [],
   "source": [
    "df=pd.read_excel(\"cars.xls\")"
   ]
  },
  {
   "cell_type": "code",
   "execution_count": 5,
   "id": "f04c09fa-c65c-42d5-a910-fa6fdff57e84",
   "metadata": {
    "collapsed": true,
    "jupyter": {
     "outputs_hidden": true
    },
    "tags": []
   },
   "outputs": [
    {
     "data": {
      "text/html": [
       "<div>\n",
       "<style scoped>\n",
       "    .dataframe tbody tr th:only-of-type {\n",
       "        vertical-align: middle;\n",
       "    }\n",
       "\n",
       "    .dataframe tbody tr th {\n",
       "        vertical-align: top;\n",
       "    }\n",
       "\n",
       "    .dataframe thead th {\n",
       "        text-align: right;\n",
       "    }\n",
       "</style>\n",
       "<table border=\"1\" class=\"dataframe\">\n",
       "  <thead>\n",
       "    <tr style=\"text-align: right;\">\n",
       "      <th></th>\n",
       "      <th>Price</th>\n",
       "      <th>Mileage</th>\n",
       "      <th>Make</th>\n",
       "      <th>Model</th>\n",
       "      <th>Trim</th>\n",
       "      <th>Type</th>\n",
       "      <th>Cylinder</th>\n",
       "      <th>Liter</th>\n",
       "      <th>Doors</th>\n",
       "      <th>Cruise</th>\n",
       "      <th>Sound</th>\n",
       "      <th>Leather</th>\n",
       "    </tr>\n",
       "  </thead>\n",
       "  <tbody>\n",
       "    <tr>\n",
       "      <th>0</th>\n",
       "      <td>17314.103129</td>\n",
       "      <td>8221</td>\n",
       "      <td>Buick</td>\n",
       "      <td>Century</td>\n",
       "      <td>Sedan 4D</td>\n",
       "      <td>Sedan</td>\n",
       "      <td>6</td>\n",
       "      <td>3.1</td>\n",
       "      <td>4</td>\n",
       "      <td>1</td>\n",
       "      <td>1</td>\n",
       "      <td>1</td>\n",
       "    </tr>\n",
       "    <tr>\n",
       "      <th>1</th>\n",
       "      <td>17542.036083</td>\n",
       "      <td>9135</td>\n",
       "      <td>Buick</td>\n",
       "      <td>Century</td>\n",
       "      <td>Sedan 4D</td>\n",
       "      <td>Sedan</td>\n",
       "      <td>6</td>\n",
       "      <td>3.1</td>\n",
       "      <td>4</td>\n",
       "      <td>1</td>\n",
       "      <td>1</td>\n",
       "      <td>0</td>\n",
       "    </tr>\n",
       "    <tr>\n",
       "      <th>2</th>\n",
       "      <td>16218.847862</td>\n",
       "      <td>13196</td>\n",
       "      <td>Buick</td>\n",
       "      <td>Century</td>\n",
       "      <td>Sedan 4D</td>\n",
       "      <td>Sedan</td>\n",
       "      <td>6</td>\n",
       "      <td>3.1</td>\n",
       "      <td>4</td>\n",
       "      <td>1</td>\n",
       "      <td>1</td>\n",
       "      <td>0</td>\n",
       "    </tr>\n",
       "    <tr>\n",
       "      <th>3</th>\n",
       "      <td>16336.913140</td>\n",
       "      <td>16342</td>\n",
       "      <td>Buick</td>\n",
       "      <td>Century</td>\n",
       "      <td>Sedan 4D</td>\n",
       "      <td>Sedan</td>\n",
       "      <td>6</td>\n",
       "      <td>3.1</td>\n",
       "      <td>4</td>\n",
       "      <td>1</td>\n",
       "      <td>0</td>\n",
       "      <td>0</td>\n",
       "    </tr>\n",
       "    <tr>\n",
       "      <th>4</th>\n",
       "      <td>16339.170324</td>\n",
       "      <td>19832</td>\n",
       "      <td>Buick</td>\n",
       "      <td>Century</td>\n",
       "      <td>Sedan 4D</td>\n",
       "      <td>Sedan</td>\n",
       "      <td>6</td>\n",
       "      <td>3.1</td>\n",
       "      <td>4</td>\n",
       "      <td>1</td>\n",
       "      <td>0</td>\n",
       "      <td>1</td>\n",
       "    </tr>\n",
       "  </tbody>\n",
       "</table>\n",
       "</div>"
      ],
      "text/plain": [
       "          Price  Mileage   Make    Model      Trim   Type  Cylinder  Liter  \\\n",
       "0  17314.103129     8221  Buick  Century  Sedan 4D  Sedan         6    3.1   \n",
       "1  17542.036083     9135  Buick  Century  Sedan 4D  Sedan         6    3.1   \n",
       "2  16218.847862    13196  Buick  Century  Sedan 4D  Sedan         6    3.1   \n",
       "3  16336.913140    16342  Buick  Century  Sedan 4D  Sedan         6    3.1   \n",
       "4  16339.170324    19832  Buick  Century  Sedan 4D  Sedan         6    3.1   \n",
       "\n",
       "   Doors  Cruise  Sound  Leather  \n",
       "0      4       1      1        1  \n",
       "1      4       1      1        0  \n",
       "2      4       1      1        0  \n",
       "3      4       1      0        0  \n",
       "4      4       1      0        1  "
      ]
     },
     "execution_count": 5,
     "metadata": {},
     "output_type": "execute_result"
    }
   ],
   "source": [
    "df.head()"
   ]
  },
  {
   "cell_type": "code",
   "execution_count": 6,
   "id": "eee69c73-f979-470d-8317-df1ff01b5e9c",
   "metadata": {
    "collapsed": true,
    "jupyter": {
     "outputs_hidden": true
    },
    "tags": []
   },
   "outputs": [
    {
     "data": {
      "text/html": [
       "<div>\n",
       "<style scoped>\n",
       "    .dataframe tbody tr th:only-of-type {\n",
       "        vertical-align: middle;\n",
       "    }\n",
       "\n",
       "    .dataframe tbody tr th {\n",
       "        vertical-align: top;\n",
       "    }\n",
       "\n",
       "    .dataframe thead th {\n",
       "        text-align: right;\n",
       "    }\n",
       "</style>\n",
       "<table border=\"1\" class=\"dataframe\">\n",
       "  <thead>\n",
       "    <tr style=\"text-align: right;\">\n",
       "      <th></th>\n",
       "      <th>Price</th>\n",
       "      <th>Mileage</th>\n",
       "      <th>Make</th>\n",
       "      <th>Model</th>\n",
       "      <th>Trim</th>\n",
       "      <th>Type</th>\n",
       "      <th>Cylinder</th>\n",
       "      <th>Liter</th>\n",
       "      <th>Doors</th>\n",
       "      <th>Cruise</th>\n",
       "      <th>Sound</th>\n",
       "      <th>Leather</th>\n",
       "    </tr>\n",
       "  </thead>\n",
       "  <tbody>\n",
       "    <tr>\n",
       "      <th>799</th>\n",
       "      <td>16507.070267</td>\n",
       "      <td>16229</td>\n",
       "      <td>Saturn</td>\n",
       "      <td>L Series</td>\n",
       "      <td>L300 Sedan 4D</td>\n",
       "      <td>Sedan</td>\n",
       "      <td>6</td>\n",
       "      <td>3.0</td>\n",
       "      <td>4</td>\n",
       "      <td>1</td>\n",
       "      <td>0</td>\n",
       "      <td>0</td>\n",
       "    </tr>\n",
       "    <tr>\n",
       "      <th>800</th>\n",
       "      <td>16175.957604</td>\n",
       "      <td>19095</td>\n",
       "      <td>Saturn</td>\n",
       "      <td>L Series</td>\n",
       "      <td>L300 Sedan 4D</td>\n",
       "      <td>Sedan</td>\n",
       "      <td>6</td>\n",
       "      <td>3.0</td>\n",
       "      <td>4</td>\n",
       "      <td>1</td>\n",
       "      <td>1</td>\n",
       "      <td>0</td>\n",
       "    </tr>\n",
       "    <tr>\n",
       "      <th>801</th>\n",
       "      <td>15731.132897</td>\n",
       "      <td>20484</td>\n",
       "      <td>Saturn</td>\n",
       "      <td>L Series</td>\n",
       "      <td>L300 Sedan 4D</td>\n",
       "      <td>Sedan</td>\n",
       "      <td>6</td>\n",
       "      <td>3.0</td>\n",
       "      <td>4</td>\n",
       "      <td>1</td>\n",
       "      <td>1</td>\n",
       "      <td>0</td>\n",
       "    </tr>\n",
       "    <tr>\n",
       "      <th>802</th>\n",
       "      <td>15118.893228</td>\n",
       "      <td>25979</td>\n",
       "      <td>Saturn</td>\n",
       "      <td>L Series</td>\n",
       "      <td>L300 Sedan 4D</td>\n",
       "      <td>Sedan</td>\n",
       "      <td>6</td>\n",
       "      <td>3.0</td>\n",
       "      <td>4</td>\n",
       "      <td>1</td>\n",
       "      <td>1</td>\n",
       "      <td>0</td>\n",
       "    </tr>\n",
       "    <tr>\n",
       "      <th>803</th>\n",
       "      <td>13585.636802</td>\n",
       "      <td>35662</td>\n",
       "      <td>Saturn</td>\n",
       "      <td>L Series</td>\n",
       "      <td>L300 Sedan 4D</td>\n",
       "      <td>Sedan</td>\n",
       "      <td>6</td>\n",
       "      <td>3.0</td>\n",
       "      <td>4</td>\n",
       "      <td>1</td>\n",
       "      <td>0</td>\n",
       "      <td>0</td>\n",
       "    </tr>\n",
       "  </tbody>\n",
       "</table>\n",
       "</div>"
      ],
      "text/plain": [
       "            Price  Mileage    Make     Model           Trim   Type  Cylinder  \\\n",
       "799  16507.070267    16229  Saturn  L Series  L300 Sedan 4D  Sedan         6   \n",
       "800  16175.957604    19095  Saturn  L Series  L300 Sedan 4D  Sedan         6   \n",
       "801  15731.132897    20484  Saturn  L Series  L300 Sedan 4D  Sedan         6   \n",
       "802  15118.893228    25979  Saturn  L Series  L300 Sedan 4D  Sedan         6   \n",
       "803  13585.636802    35662  Saturn  L Series  L300 Sedan 4D  Sedan         6   \n",
       "\n",
       "     Liter  Doors  Cruise  Sound  Leather  \n",
       "799    3.0      4       1      0        0  \n",
       "800    3.0      4       1      1        0  \n",
       "801    3.0      4       1      1        0  \n",
       "802    3.0      4       1      1        0  \n",
       "803    3.0      4       1      0        0  "
      ]
     },
     "execution_count": 6,
     "metadata": {},
     "output_type": "execute_result"
    }
   ],
   "source": [
    "df.tail() #son 5 satiri gösterir"
   ]
  },
  {
   "cell_type": "code",
   "execution_count": 7,
   "id": "30bc2521-71be-4c81-a1ed-fb5f1d403cc8",
   "metadata": {
    "collapsed": true,
    "jupyter": {
     "outputs_hidden": true
    },
    "tags": []
   },
   "outputs": [
    {
     "data": {
      "text/plain": [
       "<bound method DataFrame.info of             Price  Mileage    Make     Model           Trim   Type  Cylinder  \\\n",
       "0    17314.103129     8221   Buick   Century       Sedan 4D  Sedan         6   \n",
       "1    17542.036083     9135   Buick   Century       Sedan 4D  Sedan         6   \n",
       "2    16218.847862    13196   Buick   Century       Sedan 4D  Sedan         6   \n",
       "3    16336.913140    16342   Buick   Century       Sedan 4D  Sedan         6   \n",
       "4    16339.170324    19832   Buick   Century       Sedan 4D  Sedan         6   \n",
       "..            ...      ...     ...       ...            ...    ...       ...   \n",
       "799  16507.070267    16229  Saturn  L Series  L300 Sedan 4D  Sedan         6   \n",
       "800  16175.957604    19095  Saturn  L Series  L300 Sedan 4D  Sedan         6   \n",
       "801  15731.132897    20484  Saturn  L Series  L300 Sedan 4D  Sedan         6   \n",
       "802  15118.893228    25979  Saturn  L Series  L300 Sedan 4D  Sedan         6   \n",
       "803  13585.636802    35662  Saturn  L Series  L300 Sedan 4D  Sedan         6   \n",
       "\n",
       "     Liter  Doors  Cruise  Sound  Leather  \n",
       "0      3.1      4       1      1        1  \n",
       "1      3.1      4       1      1        0  \n",
       "2      3.1      4       1      1        0  \n",
       "3      3.1      4       1      0        0  \n",
       "4      3.1      4       1      0        1  \n",
       "..     ...    ...     ...    ...      ...  \n",
       "799    3.0      4       1      0        0  \n",
       "800    3.0      4       1      1        0  \n",
       "801    3.0      4       1      1        0  \n",
       "802    3.0      4       1      1        0  \n",
       "803    3.0      4       1      0        0  \n",
       "\n",
       "[804 rows x 12 columns]>"
      ]
     },
     "execution_count": 7,
     "metadata": {},
     "output_type": "execute_result"
    }
   ],
   "source": [
    "df.info"
   ]
  },
  {
   "cell_type": "code",
   "execution_count": 8,
   "id": "06f481cc-81ed-4fce-a647-778cc0ba223d",
   "metadata": {
    "collapsed": true,
    "jupyter": {
     "outputs_hidden": true
    },
    "tags": []
   },
   "outputs": [
    {
     "data": {
      "text/html": [
       "<div>\n",
       "<style scoped>\n",
       "    .dataframe tbody tr th:only-of-type {\n",
       "        vertical-align: middle;\n",
       "    }\n",
       "\n",
       "    .dataframe tbody tr th {\n",
       "        vertical-align: top;\n",
       "    }\n",
       "\n",
       "    .dataframe thead th {\n",
       "        text-align: right;\n",
       "    }\n",
       "</style>\n",
       "<table border=\"1\" class=\"dataframe\">\n",
       "  <thead>\n",
       "    <tr style=\"text-align: right;\">\n",
       "      <th></th>\n",
       "      <th>Price</th>\n",
       "      <th>Mileage</th>\n",
       "      <th>Cylinder</th>\n",
       "      <th>Liter</th>\n",
       "      <th>Doors</th>\n",
       "      <th>Cruise</th>\n",
       "      <th>Sound</th>\n",
       "      <th>Leather</th>\n",
       "    </tr>\n",
       "  </thead>\n",
       "  <tbody>\n",
       "    <tr>\n",
       "      <th>count</th>\n",
       "      <td>804.000000</td>\n",
       "      <td>804.000000</td>\n",
       "      <td>804.000000</td>\n",
       "      <td>804.000000</td>\n",
       "      <td>804.000000</td>\n",
       "      <td>804.000000</td>\n",
       "      <td>804.000000</td>\n",
       "      <td>804.000000</td>\n",
       "    </tr>\n",
       "    <tr>\n",
       "      <th>mean</th>\n",
       "      <td>21343.143767</td>\n",
       "      <td>19831.934080</td>\n",
       "      <td>5.268657</td>\n",
       "      <td>3.037313</td>\n",
       "      <td>3.527363</td>\n",
       "      <td>0.752488</td>\n",
       "      <td>0.679104</td>\n",
       "      <td>0.723881</td>\n",
       "    </tr>\n",
       "    <tr>\n",
       "      <th>std</th>\n",
       "      <td>9884.852801</td>\n",
       "      <td>8196.319707</td>\n",
       "      <td>1.387531</td>\n",
       "      <td>1.105562</td>\n",
       "      <td>0.850169</td>\n",
       "      <td>0.431836</td>\n",
       "      <td>0.467111</td>\n",
       "      <td>0.447355</td>\n",
       "    </tr>\n",
       "    <tr>\n",
       "      <th>min</th>\n",
       "      <td>8638.930895</td>\n",
       "      <td>266.000000</td>\n",
       "      <td>4.000000</td>\n",
       "      <td>1.600000</td>\n",
       "      <td>2.000000</td>\n",
       "      <td>0.000000</td>\n",
       "      <td>0.000000</td>\n",
       "      <td>0.000000</td>\n",
       "    </tr>\n",
       "    <tr>\n",
       "      <th>25%</th>\n",
       "      <td>14273.073870</td>\n",
       "      <td>14623.500000</td>\n",
       "      <td>4.000000</td>\n",
       "      <td>2.200000</td>\n",
       "      <td>4.000000</td>\n",
       "      <td>1.000000</td>\n",
       "      <td>0.000000</td>\n",
       "      <td>0.000000</td>\n",
       "    </tr>\n",
       "    <tr>\n",
       "      <th>50%</th>\n",
       "      <td>18024.995019</td>\n",
       "      <td>20913.500000</td>\n",
       "      <td>6.000000</td>\n",
       "      <td>2.800000</td>\n",
       "      <td>4.000000</td>\n",
       "      <td>1.000000</td>\n",
       "      <td>1.000000</td>\n",
       "      <td>1.000000</td>\n",
       "    </tr>\n",
       "    <tr>\n",
       "      <th>75%</th>\n",
       "      <td>26717.316636</td>\n",
       "      <td>25213.000000</td>\n",
       "      <td>6.000000</td>\n",
       "      <td>3.800000</td>\n",
       "      <td>4.000000</td>\n",
       "      <td>1.000000</td>\n",
       "      <td>1.000000</td>\n",
       "      <td>1.000000</td>\n",
       "    </tr>\n",
       "    <tr>\n",
       "      <th>max</th>\n",
       "      <td>70755.466717</td>\n",
       "      <td>50387.000000</td>\n",
       "      <td>8.000000</td>\n",
       "      <td>6.000000</td>\n",
       "      <td>4.000000</td>\n",
       "      <td>1.000000</td>\n",
       "      <td>1.000000</td>\n",
       "      <td>1.000000</td>\n",
       "    </tr>\n",
       "  </tbody>\n",
       "</table>\n",
       "</div>"
      ],
      "text/plain": [
       "              Price       Mileage    Cylinder       Liter       Doors  \\\n",
       "count    804.000000    804.000000  804.000000  804.000000  804.000000   \n",
       "mean   21343.143767  19831.934080    5.268657    3.037313    3.527363   \n",
       "std     9884.852801   8196.319707    1.387531    1.105562    0.850169   \n",
       "min     8638.930895    266.000000    4.000000    1.600000    2.000000   \n",
       "25%    14273.073870  14623.500000    4.000000    2.200000    4.000000   \n",
       "50%    18024.995019  20913.500000    6.000000    2.800000    4.000000   \n",
       "75%    26717.316636  25213.000000    6.000000    3.800000    4.000000   \n",
       "max    70755.466717  50387.000000    8.000000    6.000000    4.000000   \n",
       "\n",
       "           Cruise       Sound     Leather  \n",
       "count  804.000000  804.000000  804.000000  \n",
       "mean     0.752488    0.679104    0.723881  \n",
       "std      0.431836    0.467111    0.447355  \n",
       "min      0.000000    0.000000    0.000000  \n",
       "25%      1.000000    0.000000    0.000000  \n",
       "50%      1.000000    1.000000    1.000000  \n",
       "75%      1.000000    1.000000    1.000000  \n",
       "max      1.000000    1.000000    1.000000  "
      ]
     },
     "execution_count": 8,
     "metadata": {},
     "output_type": "execute_result"
    }
   ],
   "source": [
    "df.describe()"
   ]
  },
  {
   "cell_type": "code",
   "execution_count": 9,
   "id": "b62585f2-7f57-461c-aea3-edecffcb7f03",
   "metadata": {},
   "outputs": [
    {
     "name": "stderr",
     "output_type": "stream",
     "text": [
      "<ipython-input-9-2f6f6606aa2c>:1: FutureWarning: The default value of numeric_only in DataFrame.corr is deprecated. In a future version, it will default to False. Select only valid columns or specify the value of numeric_only to silence this warning.\n",
      "  df.corr()\n"
     ]
    },
    {
     "data": {
      "text/html": [
       "<div>\n",
       "<style scoped>\n",
       "    .dataframe tbody tr th:only-of-type {\n",
       "        vertical-align: middle;\n",
       "    }\n",
       "\n",
       "    .dataframe tbody tr th {\n",
       "        vertical-align: top;\n",
       "    }\n",
       "\n",
       "    .dataframe thead th {\n",
       "        text-align: right;\n",
       "    }\n",
       "</style>\n",
       "<table border=\"1\" class=\"dataframe\">\n",
       "  <thead>\n",
       "    <tr style=\"text-align: right;\">\n",
       "      <th></th>\n",
       "      <th>Price</th>\n",
       "      <th>Mileage</th>\n",
       "      <th>Cylinder</th>\n",
       "      <th>Liter</th>\n",
       "      <th>Doors</th>\n",
       "      <th>Cruise</th>\n",
       "      <th>Sound</th>\n",
       "      <th>Leather</th>\n",
       "    </tr>\n",
       "  </thead>\n",
       "  <tbody>\n",
       "    <tr>\n",
       "      <th>Price</th>\n",
       "      <td>1.000000</td>\n",
       "      <td>-0.143051</td>\n",
       "      <td>0.569086</td>\n",
       "      <td>0.558146</td>\n",
       "      <td>-0.138750</td>\n",
       "      <td>0.430851</td>\n",
       "      <td>-0.124348</td>\n",
       "      <td>0.157197</td>\n",
       "    </tr>\n",
       "    <tr>\n",
       "      <th>Mileage</th>\n",
       "      <td>-0.143051</td>\n",
       "      <td>1.000000</td>\n",
       "      <td>-0.029461</td>\n",
       "      <td>-0.018641</td>\n",
       "      <td>-0.016944</td>\n",
       "      <td>0.025037</td>\n",
       "      <td>-0.026146</td>\n",
       "      <td>0.001005</td>\n",
       "    </tr>\n",
       "    <tr>\n",
       "      <th>Cylinder</th>\n",
       "      <td>0.569086</td>\n",
       "      <td>-0.029461</td>\n",
       "      <td>1.000000</td>\n",
       "      <td>0.957897</td>\n",
       "      <td>0.002206</td>\n",
       "      <td>0.354285</td>\n",
       "      <td>-0.089704</td>\n",
       "      <td>0.075520</td>\n",
       "    </tr>\n",
       "    <tr>\n",
       "      <th>Liter</th>\n",
       "      <td>0.558146</td>\n",
       "      <td>-0.018641</td>\n",
       "      <td>0.957897</td>\n",
       "      <td>1.000000</td>\n",
       "      <td>-0.079259</td>\n",
       "      <td>0.377509</td>\n",
       "      <td>-0.065527</td>\n",
       "      <td>0.087332</td>\n",
       "    </tr>\n",
       "    <tr>\n",
       "      <th>Doors</th>\n",
       "      <td>-0.138750</td>\n",
       "      <td>-0.016944</td>\n",
       "      <td>0.002206</td>\n",
       "      <td>-0.079259</td>\n",
       "      <td>1.000000</td>\n",
       "      <td>-0.047674</td>\n",
       "      <td>-0.062530</td>\n",
       "      <td>-0.061969</td>\n",
       "    </tr>\n",
       "    <tr>\n",
       "      <th>Cruise</th>\n",
       "      <td>0.430851</td>\n",
       "      <td>0.025037</td>\n",
       "      <td>0.354285</td>\n",
       "      <td>0.377509</td>\n",
       "      <td>-0.047674</td>\n",
       "      <td>1.000000</td>\n",
       "      <td>-0.091730</td>\n",
       "      <td>-0.070573</td>\n",
       "    </tr>\n",
       "    <tr>\n",
       "      <th>Sound</th>\n",
       "      <td>-0.124348</td>\n",
       "      <td>-0.026146</td>\n",
       "      <td>-0.089704</td>\n",
       "      <td>-0.065527</td>\n",
       "      <td>-0.062530</td>\n",
       "      <td>-0.091730</td>\n",
       "      <td>1.000000</td>\n",
       "      <td>0.165444</td>\n",
       "    </tr>\n",
       "    <tr>\n",
       "      <th>Leather</th>\n",
       "      <td>0.157197</td>\n",
       "      <td>0.001005</td>\n",
       "      <td>0.075520</td>\n",
       "      <td>0.087332</td>\n",
       "      <td>-0.061969</td>\n",
       "      <td>-0.070573</td>\n",
       "      <td>0.165444</td>\n",
       "      <td>1.000000</td>\n",
       "    </tr>\n",
       "  </tbody>\n",
       "</table>\n",
       "</div>"
      ],
      "text/plain": [
       "             Price   Mileage  Cylinder     Liter     Doors    Cruise  \\\n",
       "Price     1.000000 -0.143051  0.569086  0.558146 -0.138750  0.430851   \n",
       "Mileage  -0.143051  1.000000 -0.029461 -0.018641 -0.016944  0.025037   \n",
       "Cylinder  0.569086 -0.029461  1.000000  0.957897  0.002206  0.354285   \n",
       "Liter     0.558146 -0.018641  0.957897  1.000000 -0.079259  0.377509   \n",
       "Doors    -0.138750 -0.016944  0.002206 -0.079259  1.000000 -0.047674   \n",
       "Cruise    0.430851  0.025037  0.354285  0.377509 -0.047674  1.000000   \n",
       "Sound    -0.124348 -0.026146 -0.089704 -0.065527 -0.062530 -0.091730   \n",
       "Leather   0.157197  0.001005  0.075520  0.087332 -0.061969 -0.070573   \n",
       "\n",
       "             Sound   Leather  \n",
       "Price    -0.124348  0.157197  \n",
       "Mileage  -0.026146  0.001005  \n",
       "Cylinder -0.089704  0.075520  \n",
       "Liter    -0.065527  0.087332  \n",
       "Doors    -0.062530 -0.061969  \n",
       "Cruise   -0.091730 -0.070573  \n",
       "Sound     1.000000  0.165444  \n",
       "Leather   0.165444  1.000000  "
      ]
     },
     "execution_count": 9,
     "metadata": {},
     "output_type": "execute_result"
    }
   ],
   "source": [
    "df.corr()  #hangi sütunun hangi sütuna ne kadar bağlı onu görüyoruz. \n",
    "#kapı sayısı arttıkça fiyatı düşüyor. ters ilişki var\n",
    "#corr 0.20 alıyoruz 0.90 üzerinde çıkmışsa o zaman işimiz biraz daha değişiyor. veri kendisini bir şekilde tekrar etmiş oluyor.\n",
    "#cylinder 'ı almazdık. 0.95\n",
    "#0.20 altını da katkısı olmadığı için \n",
    "#hedefimizde çok az sütunla uğraşmak istiyoruz"
   ]
  },
  {
   "cell_type": "code",
   "execution_count": 10,
   "id": "fde4139c-47ae-4f41-9b74-37df865f3161",
   "metadata": {},
   "outputs": [
    {
     "data": {
      "text/plain": [
       "(804, 12)"
      ]
     },
     "execution_count": 10,
     "metadata": {},
     "output_type": "execute_result"
    }
   ],
   "source": [
    "df.shape"
   ]
  },
  {
   "cell_type": "code",
   "execution_count": 11,
   "id": "c13481fd-dea7-47a7-90df-038d6f6d7119",
   "metadata": {},
   "outputs": [
    {
     "data": {
      "text/plain": [
       "array(['Buick', 'Cadillac', 'Chevrolet', 'Pontiac', 'SAAB', 'Saturn'],\n",
       "      dtype=object)"
      ]
     },
     "execution_count": 11,
     "metadata": {},
     "output_type": "execute_result"
    }
   ],
   "source": [
    "df[\"Make\"].unique()"
   ]
  },
  {
   "cell_type": "code",
   "execution_count": 12,
   "id": "55ca3c41-c603-479a-bdcd-cf72d05480ef",
   "metadata": {},
   "outputs": [
    {
     "data": {
      "text/plain": [
       "6"
      ]
     },
     "execution_count": 12,
     "metadata": {},
     "output_type": "execute_result"
    }
   ],
   "source": [
    "df[\"Make\"].nunique()"
   ]
  },
  {
   "cell_type": "code",
   "execution_count": 13,
   "id": "33a990da-9f36-4766-9610-968d64910e7d",
   "metadata": {},
   "outputs": [
    {
     "data": {
      "text/plain": [
       "Chevrolet    320\n",
       "Pontiac      150\n",
       "SAAB         114\n",
       "Buick         80\n",
       "Cadillac      80\n",
       "Saturn        60\n",
       "Name: Make, dtype: int64"
      ]
     },
     "execution_count": 13,
     "metadata": {},
     "output_type": "execute_result"
    }
   ],
   "source": [
    "df[\"Make\"].value_counts() # hangisinden kaç tane var ?"
   ]
  },
  {
   "cell_type": "code",
   "execution_count": 15,
   "id": "13c81ca6-f679-4b6d-82b9-2b1960a0ef04",
   "metadata": {},
   "outputs": [
    {
     "data": {
      "text/plain": [
       "Chevrolet    0.398010\n",
       "Pontiac      0.186567\n",
       "SAAB         0.141791\n",
       "Buick        0.099502\n",
       "Cadillac     0.099502\n",
       "Saturn       0.074627\n",
       "Name: Make, dtype: float64"
      ]
     },
     "execution_count": 15,
     "metadata": {},
     "output_type": "execute_result"
    }
   ],
   "source": [
    "df[\"Make\"].value_counts(normalize=True) #oran olarak görmek istersek"
   ]
  },
  {
   "cell_type": "code",
   "execution_count": null,
   "id": "4c90a7cb-0fe8-46d8-9d58-57bf976b602a",
   "metadata": {},
   "outputs": [],
   "source": [
    "#Eigen Value, Eigen Vector - Öz Değerler ve Öz Vektörler"
   ]
  },
  {
   "cell_type": "code",
   "execution_count": 16,
   "id": "33183aae-c05d-4780-959f-3aa8e27cf77f",
   "metadata": {},
   "outputs": [],
   "source": [
    "import seaborn as sns\"\""
   ]
  },
  {
   "cell_type": "code",
   "execution_count": 18,
   "id": "178d79c7-bf54-4c97-8e76-9e24f977d30e",
   "metadata": {},
   "outputs": [
    {
     "data": {
      "image/png": "[encoded data removed]",
      "text/plain": [
       "<Figure size 432x288 with 1 Axes>"
      ]
     },
     "metadata": {
      "needs_background": "light"
     },
     "output_type": "display_data"
    }
   ],
   "source": [
    "sns.countplot(x=df[\"Make\"]);"
   ]
  },
  {
   "cell_type": "code",
   "execution_count": 20,
   "id": "fd77be22-67c3-4a3e-96b6-421fa9b524c8",
   "metadata": {},
   "outputs": [
    {
     "data": {
      "image/png": "[encoded data removed]",
      "text/plain": [
       "<Figure size 432x288 with 1 Axes>"
      ]
     },
     "metadata": {
      "needs_background": "light"
     },
     "output_type": "display_data"
    }
   ],
   "source": [
    "#bar üzerinde sayılar çıkmasını istiyorsak bu şekilde yapabiliriz.\n",
    "ax=sns.countplot(x=df[\"Make\"]);\n",
    "ax.bar_label(ax.containers[0]);"
   ]
  },
  {
   "cell_type": "code",
   "execution_count": 22,
   "id": "24170bb7-38ed-41e2-bbe8-f7c5af3af3d8",
   "metadata": {},
   "outputs": [
    {
     "name": "stderr",
     "output_type": "stream",
     "text": [
      "<ipython-input-22-6dc1c4c1753e>:1: FutureWarning: The default value of numeric_only in DataFrame.corr is deprecated. In a future version, it will default to False. Select only valid columns or specify the value of numeric_only to silence this warning.\n",
      "  sns.heatmap(df.corr(), annot=True)\n"
     ]
    },
    {
     "data": {
      "text/plain": [
       "<AxesSubplot: >"
      ]
     },
     "execution_count": 22,
     "metadata": {},
     "output_type": "execute_result"
    },
    {
     "data": {
      "image/png": "[encoded data removed]",
      "text/plain": [
       "<Figure size 432x288 with 2 Axes>"
      ]
     },
     "metadata": {
      "needs_background": "light"
     },
     "output_type": "display_data"
    }
   ],
   "source": [
    "sns.heatmap(df.corr(), annot=True)\n",
    "#annot true rakamlar yazsın diye"
   ]
  },
  {
   "cell_type": "code",
   "execution_count": 23,
   "id": "e0570ccb-c77a-4f21-baf2-26e25630c2a5",
   "metadata": {},
   "outputs": [],
   "source": [
    "import matplotlib.pyplot as plt"
   ]
  },
  {
   "cell_type": "code",
   "execution_count": 25,
   "id": "0cb4af0e-3c8a-498c-888f-20f2943c8d29",
   "metadata": {},
   "outputs": [
    {
     "name": "stderr",
     "output_type": "stream",
     "text": [
      "<ipython-input-25-a5bd57f73938>:2: FutureWarning: The default value of numeric_only in DataFrame.corr is deprecated. In a future version, it will default to False. Select only valid columns or specify the value of numeric_only to silence this warning.\n",
      "  sns.heatmap(df.corr(), annot=True)\n"
     ]
    },
    {
     "data": {
      "text/plain": [
       "<AxesSubplot: >"
      ]
     },
     "execution_count": 25,
     "metadata": {},
     "output_type": "execute_result"
    },
    {
     "data": {
      "image/png": "[encoded data removed]",
      "text/plain": [
       "<Figure size 576x576 with 2 Axes>"
      ]
     },
     "metadata": {
      "needs_background": "light"
     },
     "output_type": "display_data"
    }
   ],
   "source": [
    "plt.figure(figsize=(8,8))\n",
    "sns.heatmap(df.corr(), annot=True)"
   ]
  },
  {
   "cell_type": "code",
   "execution_count": 27,
   "id": "c2a1b3bb-db85-4c3b-bd54-c94c09a37199",
   "metadata": {},
   "outputs": [
    {
     "name": "stderr",
     "output_type": "stream",
     "text": [
      "<ipython-input-27-aa8fdb4e34e3>:1: FutureWarning: The default value of numeric_only in DataFrame.corr is deprecated. In a future version, it will default to False. Select only valid columns or specify the value of numeric_only to silence this warning.\n",
      "  abs(df.corr()['Price'].sort_values(ascending=False))\n"
     ]
    },
    {
     "data": {
      "text/plain": [
       "Price       1.000000\n",
       "Cylinder    0.569086\n",
       "Liter       0.558146\n",
       "Cruise      0.430851\n",
       "Leather     0.157197\n",
       "Sound       0.124348\n",
       "Doors       0.138750\n",
       "Mileage     0.143051\n",
       "Name: Price, dtype: float64"
      ]
     },
     "execution_count": 27,
     "metadata": {},
     "output_type": "execute_result"
    }
   ],
   "source": [
    "abs(df.corr()['Price'].sort_values(ascending=False))\n",
    "\n",
    "   \n",
    "#mutlak değer almak için\n"
   ]
  },
  {
   "cell_type": "code",
   "execution_count": 28,
   "id": "3f9d1976-8119-4ddc-986e-86c285bb6be2",
   "metadata": {},
   "outputs": [
    {
     "data": {
      "text/plain": [
       "4    614\n",
       "2    190\n",
       "Name: Doors, dtype: int64"
      ]
     },
     "execution_count": 28,
     "metadata": {},
     "output_type": "execute_result"
    }
   ],
   "source": [
    "df['Doors'].value_counts()"
   ]
  },
  {
   "cell_type": "code",
   "execution_count": 29,
   "id": "d16a5bc7-3904-4b05-b877-8f3a19e145c7",
   "metadata": {},
   "outputs": [
    {
     "data": {
      "text/plain": [
       "<AxesSubplot: xlabel='Doors', ylabel='count'>"
      ]
     },
     "execution_count": 29,
     "metadata": {},
     "output_type": "execute_result"
    },
    {
     "data": {
      "image/png": "[encoded data removed]",
      "text/plain": [
       "<Figure size 432x288 with 1 Axes>"
      ]
     },
     "metadata": {
      "needs_background": "light"
     },
     "output_type": "display_data"
    }
   ],
   "source": [
    "sns.countplot(x=df[\"Doors\"])"
   ]
  },
  {
   "cell_type": "code",
   "execution_count": 30,
   "id": "0389b874-5eb8-4d44-9acf-63adfe600c90",
   "metadata": {},
   "outputs": [],
   "source": [
    "# Feature Enginerring"
   ]
  },
  {
   "cell_type": "code",
   "execution_count": 34,
   "id": "8b869ae4-472c-4e18-a61f-74a1643821bd",
   "metadata": {},
   "outputs": [
    {
     "data": {
      "text/plain": [
       "Price       0\n",
       "Mileage     0\n",
       "Make        0\n",
       "Model       0\n",
       "Trim        0\n",
       "Type        0\n",
       "Cylinder    0\n",
       "Liter       0\n",
       "Doors       0\n",
       "Cruise      0\n",
       "Sound       0\n",
       "Leather     0\n",
       "dtype: int64"
      ]
     },
     "execution_count": 34,
     "metadata": {},
     "output_type": "execute_result"
    }
   ],
   "source": [
    "df.isnull().sum()"
   ]
  },
  {
   "cell_type": "code",
   "execution_count": 35,
   "id": "5879bfad-92f9-46b6-9d7a-ac577fe3ad5c",
   "metadata": {},
   "outputs": [
    {
     "data": {
      "image/png": "[encoded data removed]",
      "text/plain": [
       "<Figure size 1440x1440 with 72 Axes>"
      ]
     },
     "metadata": {
      "needs_background": "light"
     },
     "output_type": "display_data"
    }
   ],
   "source": [
    "sns.pairplot(df);\n",
    "#burada bütün sütunların diğer sütunlara göre değişimini gösterir."
   ]
  },
  {
   "cell_type": "markdown",
   "id": "423823e9-558e-4216-b859-c8b54b35ae3d",
   "metadata": {},
   "source": [
    "## Modelling"
   ]
  },
  {
   "cell_type": "code",
   "execution_count": 38,
   "id": "849f1ae3-500e-4f90-8c17-921165994006",
   "metadata": {},
   "outputs": [],
   "source": [
    "x=df[[\"Mileage\",\"Cylinder\",\"Liter\",\"Cruise\"]] #tek parantez koyarsak diziye/ seriye dönüşüyor. tablo şeklinde göstermiyor. korelasyonda %90 altı ve %20 üstü olan başlıkları seçiyorum\n",
    "y=df[\"Price\"] # hedefim fiyatla olan ilişki onu y'ye eşitledim"
   ]
  },
  {
   "cell_type": "code",
   "execution_count": 39,
   "id": "9ff7e948-efc6-414a-8782-5cd9907ffb42",
   "metadata": {},
   "outputs": [
    {
     "data": {
      "text/plain": [
       "Index(['Mileage', 'Cylinder', 'Liter', 'Cruise'], dtype='object')"
      ]
     },
     "execution_count": 39,
     "metadata": {},
     "output_type": "execute_result"
    }
   ],
   "source": [
    "x.columns"
   ]
  },
  {
   "cell_type": "code",
   "execution_count": 40,
   "id": "395f44cb-40fa-404a-93d2-592eb0512647",
   "metadata": {},
   "outputs": [
    {
     "data": {
      "text/plain": [
       "Index(['Price', 'Mileage', 'Make', 'Model', 'Trim', 'Type', 'Cylinder',\n",
       "       'Liter', 'Doors', 'Cruise', 'Sound', 'Leather'],\n",
       "      dtype='object')"
      ]
     },
     "execution_count": 40,
     "metadata": {},
     "output_type": "execute_result"
    }
   ],
   "source": [
    "df.columns"
   ]
  },
  {
   "cell_type": "code",
   "execution_count": 55,
   "id": "51b849f0-cb65-45bf-b53d-8a09342629d0",
   "metadata": {},
   "outputs": [
    {
     "data": {
      "text/html": [
       "<div>\n",
       "<style scoped>\n",
       "    .dataframe tbody tr th:only-of-type {\n",
       "        vertical-align: middle;\n",
       "    }\n",
       "\n",
       "    .dataframe tbody tr th {\n",
       "        vertical-align: top;\n",
       "    }\n",
       "\n",
       "    .dataframe thead th {\n",
       "        text-align: right;\n",
       "    }\n",
       "</style>\n",
       "<table border=\"1\" class=\"dataframe\">\n",
       "  <thead>\n",
       "    <tr style=\"text-align: right;\">\n",
       "      <th></th>\n",
       "      <th>Mileage</th>\n",
       "      <th>Cylinder</th>\n",
       "      <th>Liter</th>\n",
       "      <th>Cruise</th>\n",
       "    </tr>\n",
       "  </thead>\n",
       "  <tbody>\n",
       "    <tr>\n",
       "      <th>0</th>\n",
       "      <td>8221</td>\n",
       "      <td>6</td>\n",
       "      <td>3.1</td>\n",
       "      <td>1</td>\n",
       "    </tr>\n",
       "    <tr>\n",
       "      <th>1</th>\n",
       "      <td>9135</td>\n",
       "      <td>6</td>\n",
       "      <td>3.1</td>\n",
       "      <td>1</td>\n",
       "    </tr>\n",
       "    <tr>\n",
       "      <th>2</th>\n",
       "      <td>13196</td>\n",
       "      <td>6</td>\n",
       "      <td>3.1</td>\n",
       "      <td>1</td>\n",
       "    </tr>\n",
       "    <tr>\n",
       "      <th>3</th>\n",
       "      <td>16342</td>\n",
       "      <td>6</td>\n",
       "      <td>3.1</td>\n",
       "      <td>1</td>\n",
       "    </tr>\n",
       "    <tr>\n",
       "      <th>4</th>\n",
       "      <td>19832</td>\n",
       "      <td>6</td>\n",
       "      <td>3.1</td>\n",
       "      <td>1</td>\n",
       "    </tr>\n",
       "    <tr>\n",
       "      <th>...</th>\n",
       "      <td>...</td>\n",
       "      <td>...</td>\n",
       "      <td>...</td>\n",
       "      <td>...</td>\n",
       "    </tr>\n",
       "    <tr>\n",
       "      <th>799</th>\n",
       "      <td>16229</td>\n",
       "      <td>6</td>\n",
       "      <td>3.0</td>\n",
       "      <td>1</td>\n",
       "    </tr>\n",
       "    <tr>\n",
       "      <th>800</th>\n",
       "      <td>19095</td>\n",
       "      <td>6</td>\n",
       "      <td>3.0</td>\n",
       "      <td>1</td>\n",
       "    </tr>\n",
       "    <tr>\n",
       "      <th>801</th>\n",
       "      <td>20484</td>\n",
       "      <td>6</td>\n",
       "      <td>3.0</td>\n",
       "      <td>1</td>\n",
       "    </tr>\n",
       "    <tr>\n",
       "      <th>802</th>\n",
       "      <td>25979</td>\n",
       "      <td>6</td>\n",
       "      <td>3.0</td>\n",
       "      <td>1</td>\n",
       "    </tr>\n",
       "    <tr>\n",
       "      <th>803</th>\n",
       "      <td>35662</td>\n",
       "      <td>6</td>\n",
       "      <td>3.0</td>\n",
       "      <td>1</td>\n",
       "    </tr>\n",
       "  </tbody>\n",
       "</table>\n",
       "<p>804 rows × 4 columns</p>\n",
       "</div>"
      ],
      "text/plain": [
       "     Mileage  Cylinder  Liter  Cruise\n",
       "0       8221         6    3.1       1\n",
       "1       9135         6    3.1       1\n",
       "2      13196         6    3.1       1\n",
       "3      16342         6    3.1       1\n",
       "4      19832         6    3.1       1\n",
       "..       ...       ...    ...     ...\n",
       "799    16229         6    3.0       1\n",
       "800    19095         6    3.0       1\n",
       "801    20484         6    3.0       1\n",
       "802    25979         6    3.0       1\n",
       "803    35662         6    3.0       1\n",
       "\n",
       "[804 rows x 4 columns]"
      ]
     },
     "execution_count": 55,
     "metadata": {},
     "output_type": "execute_result"
    }
   ],
   "source": [
    "x"
   ]
  },
  {
   "cell_type": "code",
   "execution_count": 56,
   "id": "8ebce164-8dbf-434c-8d57-e151edbda6ca",
   "metadata": {},
   "outputs": [
    {
     "data": {
      "text/plain": [
       "0      17314.103129\n",
       "1      17542.036083\n",
       "2      16218.847862\n",
       "3      16336.913140\n",
       "4      16339.170324\n",
       "           ...     \n",
       "799    16507.070267\n",
       "800    16175.957604\n",
       "801    15731.132897\n",
       "802    15118.893228\n",
       "803    13585.636802\n",
       "Name: Price, Length: 804, dtype: float64"
      ]
     },
     "execution_count": 56,
     "metadata": {},
     "output_type": "execute_result"
    }
   ],
   "source": [
    "y"
   ]
  },
  {
   "cell_type": "code",
   "execution_count": 41,
   "id": "0c01a456-516a-4ce7-84b3-d2142063de2f",
   "metadata": {},
   "outputs": [],
   "source": [
    "#Korelasyon çeşitleri = Pearson, Spearman, Kendall"
   ]
  },
  {
   "cell_type": "code",
   "execution_count": 68,
   "id": "bee7426e-35a7-4fb3-800c-c7a6186439a8",
   "metadata": {},
   "outputs": [],
   "source": [
    "## !pip install scikit-learn"
   ]
  },
  {
   "cell_type": "code",
   "execution_count": 62,
   "id": "35e99544-2d52-4260-810a-f9a2bd863ede",
   "metadata": {},
   "outputs": [],
   "source": [
    "from sklearn.model_selection import train_test_split\n",
    "#Seed"
   ]
  },
  {
   "cell_type": "code",
   "execution_count": 63,
   "id": "0cfb61c6-7390-4bfe-8e3c-30cd2b1369d9",
   "metadata": {},
   "outputs": [],
   "source": [
    "x_train,x_test,y_train,y_test= train_test_split(x,y,test_size=0.20,random_state=42) #%20 test içn kalanı eğitim için, aynı rakamları seçmesi için 42'yi belirliyorum ki tekrar çalıştırdığımda veriler fakrlı olmasın ve daha sonra karşılaştırma yapabileyim"
   ]
  },
  {
   "cell_type": "code",
   "execution_count": 64,
   "id": "d7f1a2f3-d932-404e-9ca6-b0f7a518ae8a",
   "metadata": {},
   "outputs": [
    {
     "data": {
      "text/plain": [
       "((643, 4), (161, 4))"
      ]
     },
     "execution_count": 64,
     "metadata": {},
     "output_type": "execute_result"
    }
   ],
   "source": [
    "x_train.shape,x_test.shape"
   ]
  },
  {
   "cell_type": "code",
   "execution_count": 65,
   "id": "7e68e534-7fd6-4e19-a223-2a28b3018d5a",
   "metadata": {},
   "outputs": [],
   "source": [
    "from sklearn.linear_model import LinearRegression"
   ]
  },
  {
   "cell_type": "code",
   "execution_count": 66,
   "id": "d0c064b5-ecfa-41ea-b11f-d3c3a5079750",
   "metadata": {},
   "outputs": [],
   "source": [
    "lr=LinearRegression()"
   ]
  },
  {
   "cell_type": "code",
   "execution_count": 70,
   "id": "0cfffb43-1d09-4bb9-8fa3-fc3aef85d8f7",
   "metadata": {},
   "outputs": [],
   "source": [
    "model=lr.fit(x_train,y_train)\n",
    "#modeli eğitmek için fit kullanılır."
   ]
  },
  {
   "cell_type": "code",
   "execution_count": 71,
   "id": "c28370d9-1b6c-432e-acfb-a5d3e40fd567",
   "metadata": {},
   "outputs": [],
   "source": [
    "tahmin=model.predict(x_test)\n",
    "#eğitilen model ile kenara saklanan verileri tahmin ederiz."
   ]
  },
  {
   "cell_type": "code",
   "execution_count": 72,
   "id": "7e9e979b-aa88-4127-8b0a-e04df3023362",
   "metadata": {},
   "outputs": [],
   "source": [
    "from sklearn.metrics import r2_score, mean_squared_error"
   ]
  },
  {
   "cell_type": "code",
   "execution_count": 73,
   "id": "06b2273c-3399-44aa-80f3-d2d966a8bea8",
   "metadata": {},
   "outputs": [
    {
     "data": {
      "text/plain": [
       "7413.255792158803"
      ]
     },
     "execution_count": 73,
     "metadata": {},
     "output_type": "execute_result"
    }
   ],
   "source": [
    "(mean_squared_error(tahmin,y_test))**0.5\n",
    "#hata oranı"
   ]
  },
  {
   "cell_type": "code",
   "execution_count": 74,
   "id": "7e72d31d-3f22-430a-8420-40e8f32520ca",
   "metadata": {},
   "outputs": [
    {
     "data": {
      "text/plain": [
       "-0.3671260571211752"
      ]
     },
     "execution_count": 74,
     "metadata": {},
     "output_type": "execute_result"
    }
   ],
   "source": [
    "r2_score(tahmin,y_test)\n",
    "#başarı oranı, burda başarısız olduk. çünkü marka yoktu. string ifade olduğu için. sparse matrix oluşturduk ve tekrar denedik."
   ]
  },
  {
   "cell_type": "code",
   "execution_count": 77,
   "id": "30fe6a70-d10a-486c-824b-edcfa162e863",
   "metadata": {},
   "outputs": [],
   "source": [
    "x=df[[\"Mileage\",\"Cylinder\",\"Liter\",\"Cruise\",\"Make\",\"Trim\"]] #tek parantez koyarsak diziye/ seriye dönüşüyor. tablo şeklinde göstermiyor\n",
    "#Mileage domain bilgisi\n",
    "# burda tekrrar tanımladık ve marka ve trimi de aldık.\n",
    "y=df[[\"Price\"]]"
   ]
  },
  {
   "cell_type": "code",
   "execution_count": 89,
   "id": "90b30cc2-a4ad-4c08-a460-a458c7c938d0",
   "metadata": {},
   "outputs": [],
   "source": [
    "x=pd.get_dummies(x,drop_first=True) #"
   ]
  },
  {
   "cell_type": "code",
   "execution_count": 90,
   "id": "64e46a72-1d75-4cc8-938e-96980154c5ac",
   "metadata": {},
   "outputs": [
    {
     "data": {
      "text/html": [
       "<div>\n",
       "<style scoped>\n",
       "    .dataframe tbody tr th:only-of-type {\n",
       "        vertical-align: middle;\n",
       "    }\n",
       "\n",
       "    .dataframe tbody tr th {\n",
       "        vertical-align: top;\n",
       "    }\n",
       "\n",
       "    .dataframe thead th {\n",
       "        text-align: right;\n",
       "    }\n",
       "</style>\n",
       "<table border=\"1\" class=\"dataframe\">\n",
       "  <thead>\n",
       "    <tr style=\"text-align: right;\">\n",
       "      <th></th>\n",
       "      <th>Mileage</th>\n",
       "      <th>Cylinder</th>\n",
       "      <th>Liter</th>\n",
       "      <th>Cruise</th>\n",
       "      <th>Make_Cadillac</th>\n",
       "      <th>Make_Chevrolet</th>\n",
       "      <th>Make_Pontiac</th>\n",
       "      <th>Make_SAAB</th>\n",
       "      <th>Make_Saturn</th>\n",
       "      <th>Trim_Aero Conv 2D</th>\n",
       "      <th>...</th>\n",
       "      <th>Trim_Quad Coupe 2D</th>\n",
       "      <th>Trim_SE Sedan 4D</th>\n",
       "      <th>Trim_SLE Sedan 4D</th>\n",
       "      <th>Trim_SS Coupe 2D</th>\n",
       "      <th>Trim_SS Sedan 4D</th>\n",
       "      <th>Trim_SVM Hatchback 4D</th>\n",
       "      <th>Trim_SVM Sedan 4D</th>\n",
       "      <th>Trim_Sedan 4D</th>\n",
       "      <th>Trim_Special Ed Ultra 4D</th>\n",
       "      <th>Trim_Sportwagon 4D</th>\n",
       "    </tr>\n",
       "  </thead>\n",
       "  <tbody>\n",
       "    <tr>\n",
       "      <th>0</th>\n",
       "      <td>8221</td>\n",
       "      <td>6</td>\n",
       "      <td>3.1</td>\n",
       "      <td>1</td>\n",
       "      <td>0</td>\n",
       "      <td>0</td>\n",
       "      <td>0</td>\n",
       "      <td>0</td>\n",
       "      <td>0</td>\n",
       "      <td>0</td>\n",
       "      <td>...</td>\n",
       "      <td>0</td>\n",
       "      <td>0</td>\n",
       "      <td>0</td>\n",
       "      <td>0</td>\n",
       "      <td>0</td>\n",
       "      <td>0</td>\n",
       "      <td>0</td>\n",
       "      <td>1</td>\n",
       "      <td>0</td>\n",
       "      <td>0</td>\n",
       "    </tr>\n",
       "    <tr>\n",
       "      <th>1</th>\n",
       "      <td>9135</td>\n",
       "      <td>6</td>\n",
       "      <td>3.1</td>\n",
       "      <td>1</td>\n",
       "      <td>0</td>\n",
       "      <td>0</td>\n",
       "      <td>0</td>\n",
       "      <td>0</td>\n",
       "      <td>0</td>\n",
       "      <td>0</td>\n",
       "      <td>...</td>\n",
       "      <td>0</td>\n",
       "      <td>0</td>\n",
       "      <td>0</td>\n",
       "      <td>0</td>\n",
       "      <td>0</td>\n",
       "      <td>0</td>\n",
       "      <td>0</td>\n",
       "      <td>1</td>\n",
       "      <td>0</td>\n",
       "      <td>0</td>\n",
       "    </tr>\n",
       "    <tr>\n",
       "      <th>2</th>\n",
       "      <td>13196</td>\n",
       "      <td>6</td>\n",
       "      <td>3.1</td>\n",
       "      <td>1</td>\n",
       "      <td>0</td>\n",
       "      <td>0</td>\n",
       "      <td>0</td>\n",
       "      <td>0</td>\n",
       "      <td>0</td>\n",
       "      <td>0</td>\n",
       "      <td>...</td>\n",
       "      <td>0</td>\n",
       "      <td>0</td>\n",
       "      <td>0</td>\n",
       "      <td>0</td>\n",
       "      <td>0</td>\n",
       "      <td>0</td>\n",
       "      <td>0</td>\n",
       "      <td>1</td>\n",
       "      <td>0</td>\n",
       "      <td>0</td>\n",
       "    </tr>\n",
       "    <tr>\n",
       "      <th>3</th>\n",
       "      <td>16342</td>\n",
       "      <td>6</td>\n",
       "      <td>3.1</td>\n",
       "      <td>1</td>\n",
       "      <td>0</td>\n",
       "      <td>0</td>\n",
       "      <td>0</td>\n",
       "      <td>0</td>\n",
       "      <td>0</td>\n",
       "      <td>0</td>\n",
       "      <td>...</td>\n",
       "      <td>0</td>\n",
       "      <td>0</td>\n",
       "      <td>0</td>\n",
       "      <td>0</td>\n",
       "      <td>0</td>\n",
       "      <td>0</td>\n",
       "      <td>0</td>\n",
       "      <td>1</td>\n",
       "      <td>0</td>\n",
       "      <td>0</td>\n",
       "    </tr>\n",
       "    <tr>\n",
       "      <th>4</th>\n",
       "      <td>19832</td>\n",
       "      <td>6</td>\n",
       "      <td>3.1</td>\n",
       "      <td>1</td>\n",
       "      <td>0</td>\n",
       "      <td>0</td>\n",
       "      <td>0</td>\n",
       "      <td>0</td>\n",
       "      <td>0</td>\n",
       "      <td>0</td>\n",
       "      <td>...</td>\n",
       "      <td>0</td>\n",
       "      <td>0</td>\n",
       "      <td>0</td>\n",
       "      <td>0</td>\n",
       "      <td>0</td>\n",
       "      <td>0</td>\n",
       "      <td>0</td>\n",
       "      <td>1</td>\n",
       "      <td>0</td>\n",
       "      <td>0</td>\n",
       "    </tr>\n",
       "    <tr>\n",
       "      <th>...</th>\n",
       "      <td>...</td>\n",
       "      <td>...</td>\n",
       "      <td>...</td>\n",
       "      <td>...</td>\n",
       "      <td>...</td>\n",
       "      <td>...</td>\n",
       "      <td>...</td>\n",
       "      <td>...</td>\n",
       "      <td>...</td>\n",
       "      <td>...</td>\n",
       "      <td>...</td>\n",
       "      <td>...</td>\n",
       "      <td>...</td>\n",
       "      <td>...</td>\n",
       "      <td>...</td>\n",
       "      <td>...</td>\n",
       "      <td>...</td>\n",
       "      <td>...</td>\n",
       "      <td>...</td>\n",
       "      <td>...</td>\n",
       "      <td>...</td>\n",
       "    </tr>\n",
       "    <tr>\n",
       "      <th>799</th>\n",
       "      <td>16229</td>\n",
       "      <td>6</td>\n",
       "      <td>3.0</td>\n",
       "      <td>1</td>\n",
       "      <td>0</td>\n",
       "      <td>0</td>\n",
       "      <td>0</td>\n",
       "      <td>0</td>\n",
       "      <td>1</td>\n",
       "      <td>0</td>\n",
       "      <td>...</td>\n",
       "      <td>0</td>\n",
       "      <td>0</td>\n",
       "      <td>0</td>\n",
       "      <td>0</td>\n",
       "      <td>0</td>\n",
       "      <td>0</td>\n",
       "      <td>0</td>\n",
       "      <td>0</td>\n",
       "      <td>0</td>\n",
       "      <td>0</td>\n",
       "    </tr>\n",
       "    <tr>\n",
       "      <th>800</th>\n",
       "      <td>19095</td>\n",
       "      <td>6</td>\n",
       "      <td>3.0</td>\n",
       "      <td>1</td>\n",
       "      <td>0</td>\n",
       "      <td>0</td>\n",
       "      <td>0</td>\n",
       "      <td>0</td>\n",
       "      <td>1</td>\n",
       "      <td>0</td>\n",
       "      <td>...</td>\n",
       "      <td>0</td>\n",
       "      <td>0</td>\n",
       "      <td>0</td>\n",
       "      <td>0</td>\n",
       "      <td>0</td>\n",
       "      <td>0</td>\n",
       "      <td>0</td>\n",
       "      <td>0</td>\n",
       "      <td>0</td>\n",
       "      <td>0</td>\n",
       "    </tr>\n",
       "    <tr>\n",
       "      <th>801</th>\n",
       "      <td>20484</td>\n",
       "      <td>6</td>\n",
       "      <td>3.0</td>\n",
       "      <td>1</td>\n",
       "      <td>0</td>\n",
       "      <td>0</td>\n",
       "      <td>0</td>\n",
       "      <td>0</td>\n",
       "      <td>1</td>\n",
       "      <td>0</td>\n",
       "      <td>...</td>\n",
       "      <td>0</td>\n",
       "      <td>0</td>\n",
       "      <td>0</td>\n",
       "      <td>0</td>\n",
       "      <td>0</td>\n",
       "      <td>0</td>\n",
       "      <td>0</td>\n",
       "      <td>0</td>\n",
       "      <td>0</td>\n",
       "      <td>0</td>\n",
       "    </tr>\n",
       "    <tr>\n",
       "      <th>802</th>\n",
       "      <td>25979</td>\n",
       "      <td>6</td>\n",
       "      <td>3.0</td>\n",
       "      <td>1</td>\n",
       "      <td>0</td>\n",
       "      <td>0</td>\n",
       "      <td>0</td>\n",
       "      <td>0</td>\n",
       "      <td>1</td>\n",
       "      <td>0</td>\n",
       "      <td>...</td>\n",
       "      <td>0</td>\n",
       "      <td>0</td>\n",
       "      <td>0</td>\n",
       "      <td>0</td>\n",
       "      <td>0</td>\n",
       "      <td>0</td>\n",
       "      <td>0</td>\n",
       "      <td>0</td>\n",
       "      <td>0</td>\n",
       "      <td>0</td>\n",
       "    </tr>\n",
       "    <tr>\n",
       "      <th>803</th>\n",
       "      <td>35662</td>\n",
       "      <td>6</td>\n",
       "      <td>3.0</td>\n",
       "      <td>1</td>\n",
       "      <td>0</td>\n",
       "      <td>0</td>\n",
       "      <td>0</td>\n",
       "      <td>0</td>\n",
       "      <td>1</td>\n",
       "      <td>0</td>\n",
       "      <td>...</td>\n",
       "      <td>0</td>\n",
       "      <td>0</td>\n",
       "      <td>0</td>\n",
       "      <td>0</td>\n",
       "      <td>0</td>\n",
       "      <td>0</td>\n",
       "      <td>0</td>\n",
       "      <td>0</td>\n",
       "      <td>0</td>\n",
       "      <td>0</td>\n",
       "    </tr>\n",
       "  </tbody>\n",
       "</table>\n",
       "<p>804 rows × 55 columns</p>\n",
       "</div>"
      ],
      "text/plain": [
       "     Mileage  Cylinder  Liter  Cruise  Make_Cadillac  Make_Chevrolet  \\\n",
       "0       8221         6    3.1       1              0               0   \n",
       "1       9135         6    3.1       1              0               0   \n",
       "2      13196         6    3.1       1              0               0   \n",
       "3      16342         6    3.1       1              0               0   \n",
       "4      19832         6    3.1       1              0               0   \n",
       "..       ...       ...    ...     ...            ...             ...   \n",
       "799    16229         6    3.0       1              0               0   \n",
       "800    19095         6    3.0       1              0               0   \n",
       "801    20484         6    3.0       1              0               0   \n",
       "802    25979         6    3.0       1              0               0   \n",
       "803    35662         6    3.0       1              0               0   \n",
       "\n",
       "     Make_Pontiac  Make_SAAB  Make_Saturn  Trim_Aero Conv 2D  ...  \\\n",
       "0               0          0            0                  0  ...   \n",
       "1               0          0            0                  0  ...   \n",
       "2               0          0            0                  0  ...   \n",
       "3               0          0            0                  0  ...   \n",
       "4               0          0            0                  0  ...   \n",
       "..            ...        ...          ...                ...  ...   \n",
       "799             0          0            1                  0  ...   \n",
       "800             0          0            1                  0  ...   \n",
       "801             0          0            1                  0  ...   \n",
       "802             0          0            1                  0  ...   \n",
       "803             0          0            1                  0  ...   \n",
       "\n",
       "     Trim_Quad Coupe 2D  Trim_SE Sedan 4D  Trim_SLE Sedan 4D  \\\n",
       "0                     0                 0                  0   \n",
       "1                     0                 0                  0   \n",
       "2                     0                 0                  0   \n",
       "3                     0                 0                  0   \n",
       "4                     0                 0                  0   \n",
       "..                  ...               ...                ...   \n",
       "799                   0                 0                  0   \n",
       "800                   0                 0                  0   \n",
       "801                   0                 0                  0   \n",
       "802                   0                 0                  0   \n",
       "803                   0                 0                  0   \n",
       "\n",
       "     Trim_SS Coupe 2D  Trim_SS Sedan 4D  Trim_SVM Hatchback 4D  \\\n",
       "0                   0                 0                      0   \n",
       "1                   0                 0                      0   \n",
       "2                   0                 0                      0   \n",
       "3                   0                 0                      0   \n",
       "4                   0                 0                      0   \n",
       "..                ...               ...                    ...   \n",
       "799                 0                 0                      0   \n",
       "800                 0                 0                      0   \n",
       "801                 0                 0                      0   \n",
       "802                 0                 0                      0   \n",
       "803                 0                 0                      0   \n",
       "\n",
       "     Trim_SVM Sedan 4D  Trim_Sedan 4D  Trim_Special Ed Ultra 4D  \\\n",
       "0                    0              1                         0   \n",
       "1                    0              1                         0   \n",
       "2                    0              1                         0   \n",
       "3                    0              1                         0   \n",
       "4                    0              1                         0   \n",
       "..                 ...            ...                       ...   \n",
       "799                  0              0                         0   \n",
       "800                  0              0                         0   \n",
       "801                  0              0                         0   \n",
       "802                  0              0                         0   \n",
       "803                  0              0                         0   \n",
       "\n",
       "     Trim_Sportwagon 4D  \n",
       "0                     0  \n",
       "1                     0  \n",
       "2                     0  \n",
       "3                     0  \n",
       "4                     0  \n",
       "..                  ...  \n",
       "799                   0  \n",
       "800                   0  \n",
       "801                   0  \n",
       "802                   0  \n",
       "803                   0  \n",
       "\n",
       "[804 rows x 55 columns]"
      ]
     },
     "execution_count": 90,
     "metadata": {},
     "output_type": "execute_result"
    }
   ],
   "source": [
    "x"
   ]
  },
  {
   "cell_type": "code",
   "execution_count": 91,
   "id": "269f402e-aa49-4a2a-8f58-4cc0e4e15cb0",
   "metadata": {},
   "outputs": [],
   "source": [
    "x_train,x_test,y_train,y_test= train_test_split(x,y,test_size=0.20,random_state=42)"
   ]
  },
  {
   "cell_type": "code",
   "execution_count": 92,
   "id": "dc1b62ef-1b26-47a4-8c49-4b518c800e1b",
   "metadata": {},
   "outputs": [],
   "source": [
    "model=lr.fit(x_train,y_train)"
   ]
  },
  {
   "cell_type": "code",
   "execution_count": 95,
   "id": "64cea795-44cf-4955-8dcd-b3d6e92b7d81",
   "metadata": {},
   "outputs": [],
   "source": [
    "tahmin=model.predict(x_test)"
   ]
  },
  {
   "cell_type": "code",
   "execution_count": 96,
   "id": "934171f6-3b60-4920-b89b-fdb063611310",
   "metadata": {},
   "outputs": [
    {
     "data": {
      "text/plain": [
       "1523.6314728711338"
      ]
     },
     "execution_count": 96,
     "metadata": {},
     "output_type": "execute_result"
    }
   ],
   "source": [
    "(mean_squared_error(tahmin,y_test))**0.5\n",
    "#1523 dolar"
   ]
  },
  {
   "cell_type": "code",
   "execution_count": 97,
   "id": "7fddbd7c-7bef-420a-95dd-5b10e1c21935",
   "metadata": {},
   "outputs": [
    {
     "data": {
      "text/plain": [
       "0.9717252793475156"
      ]
     },
     "execution_count": 97,
     "metadata": {},
     "output_type": "execute_result"
    }
   ],
   "source": [
    "r2_score(tahmin,y_test)\n",
    "#başarı oranı %97'ye çıktı"
   ]
  },
  {
   "cell_type": "code",
   "execution_count": 98,
   "id": "ae5b3af9-9cb9-4b23-ae35-67502ba88a48",
   "metadata": {},
   "outputs": [],
   "source": [
    "from sklearn.linear_model import Ridge, Lasso\n",
    "#tek bir kaynapa güvenmedik ve Ridge ve lasso algoritmalarıyla da denedik.\n",
    "#Ridge karesini alıyor\n",
    "#Lasso mutlak değerini alıyor"
   ]
  },
  {
   "cell_type": "code",
   "execution_count": 104,
   "id": "5fb796bc-add3-4df6-9c44-afec4814b9a6",
   "metadata": {},
   "outputs": [],
   "source": [
    "R=Ridge()\n",
    "L=Lasso()"
   ]
  },
  {
   "cell_type": "code",
   "execution_count": 105,
   "id": "211e86ae-7e31-4aa2-b40f-408c599cdf97",
   "metadata": {},
   "outputs": [
    {
     "data": {
      "text/html": [
       "<style>#sk-container-id-3 {color: black;background-color: white;}#sk-container-id-3 pre{padding: 0;}#sk-container-id-3 div.sk-toggleable {background-color: white;}#sk-container-id-3 label.sk-toggleable__label {cursor: pointer;display: block;width: 100%;margin-bottom: 0;padding: 0.3em;box-sizing: border-box;text-align: center;}#sk-container-id-3 label.sk-toggleable__label-arrow:before {content: \"▸\";float: left;margin-right: 0.25em;color: #696969;}#sk-container-id-3 label.sk-toggleable__label-arrow:hover:before {color: black;}#sk-container-id-3 div.sk-estimator:hover label.sk-toggleable__label-arrow:before {color: black;}#sk-container-id-3 div.sk-toggleable__content {max-height: 0;max-width: 0;overflow: hidden;text-align: left;background-color: #f0f8ff;}#sk-container-id-3 div.sk-toggleable__content pre {margin: 0.2em;color: black;border-radius: 0.25em;background-color: #f0f8ff;}#sk-container-id-3 input.sk-toggleable__control:checked~div.sk-toggleable__content {max-height: 200px;max-width: 100%;overflow: auto;}#sk-container-id-3 input.sk-toggleable__control:checked~label.sk-toggleable__label-arrow:before {content: \"▾\";}#sk-container-id-3 div.sk-estimator input.sk-toggleable__control:checked~label.sk-toggleable__label {background-color: #d4ebff;}#sk-container-id-3 div.sk-label input.sk-toggleable__control:checked~label.sk-toggleable__label {background-color: #d4ebff;}#sk-container-id-3 input.sk-hidden--visually {border: 0;clip: rect(1px 1px 1px 1px);clip: rect(1px, 1px, 1px, 1px);height: 1px;margin: -1px;overflow: hidden;padding: 0;position: absolute;width: 1px;}#sk-container-id-3 div.sk-estimator {font-family: monospace;background-color: #f0f8ff;border: 1px dotted black;border-radius: 0.25em;box-sizing: border-box;margin-bottom: 0.5em;}#sk-container-id-3 div.sk-estimator:hover {background-color: #d4ebff;}#sk-container-id-3 div.sk-parallel-item::after {content: \"\";width: 100%;border-bottom: 1px solid gray;flex-grow: 1;}#sk-container-id-3 div.sk-label:hover label.sk-toggleable__label {background-color: #d4ebff;}#sk-container-id-3 div.sk-serial::before {content: \"\";position: absolute;border-left: 1px solid gray;box-sizing: border-box;top: 0;bottom: 0;left: 50%;z-index: 0;}#sk-container-id-3 div.sk-serial {display: flex;flex-direction: column;align-items: center;background-color: white;padding-right: 0.2em;padding-left: 0.2em;position: relative;}#sk-container-id-3 div.sk-item {position: relative;z-index: 1;}#sk-container-id-3 div.sk-parallel {display: flex;align-items: stretch;justify-content: center;background-color: white;position: relative;}#sk-container-id-3 div.sk-item::before, #sk-container-id-3 div.sk-parallel-item::before {content: \"\";position: absolute;border-left: 1px solid gray;box-sizing: border-box;top: 0;bottom: 0;left: 50%;z-index: -1;}#sk-container-id-3 div.sk-parallel-item {display: flex;flex-direction: column;z-index: 1;position: relative;background-color: white;}#sk-container-id-3 div.sk-parallel-item:first-child::after {align-self: flex-end;width: 50%;}#sk-container-id-3 div.sk-parallel-item:last-child::after {align-self: flex-start;width: 50%;}#sk-container-id-3 div.sk-parallel-item:only-child::after {width: 0;}#sk-container-id-3 div.sk-dashed-wrapped {border: 1px dashed gray;margin: 0 0.4em 0.5em 0.4em;box-sizing: border-box;padding-bottom: 0.4em;background-color: white;}#sk-container-id-3 div.sk-label label {font-family: monospace;font-weight: bold;display: inline-block;line-height: 1.2em;}#sk-container-id-3 div.sk-label-container {text-align: center;}#sk-container-id-3 div.sk-container {/* jupyter's `normalize.less` sets `[hidden] { display: none; }` but bootstrap.min.css set `[hidden] { display: none !important; }` so we also need the `!important` here to be able to override the default hidden behavior on the sphinx rendered scikit-learn.org. See: https://github.com/scikit-learn/scikit-learn/issues/21755 */display: inline-block !important;position: relative;}#sk-container-id-3 div.sk-text-repr-fallback {display: none;}</style><div id=\"sk-container-id-3\" class=\"sk-top-container\"><div class=\"sk-text-repr-fallback\"><pre>Ridge()</pre><b>In a Jupyter environment, please rerun this cell to show the HTML representation or trust the notebook. <br />On GitHub, the HTML representation is unable to render, please try loading this page with nbviewer.org.</b></div><div class=\"sk-container\" hidden><div class=\"sk-item\"><div class=\"sk-estimator sk-toggleable\"><input class=\"sk-toggleable__control sk-hidden--visually\" id=\"sk-estimator-id-3\" type=\"checkbox\" checked><label for=\"sk-estimator-id-3\" class=\"sk-toggleable__label sk-toggleable__label-arrow\">Ridge</label><div class=\"sk-toggleable__content\"><pre>Ridge()</pre></div></div></div></div></div>"
      ],
      "text/plain": [
       "Ridge()"
      ]
     },
     "execution_count": 105,
     "metadata": {},
     "output_type": "execute_result"
    }
   ],
   "source": [
    "R.fit(x_train,y_train)\n",
    "#modeli eğittik"
   ]
  },
  {
   "cell_type": "code",
   "execution_count": 106,
   "id": "49642b31-ee93-4cb1-b6c2-7021cd0e2a6a",
   "metadata": {},
   "outputs": [],
   "source": [
    "tahmin2=R.predict(x_test)\n",
    "#tahmin ettirdik."
   ]
  },
  {
   "cell_type": "code",
   "execution_count": 108,
   "id": "488422ca-ecc2-45fd-9bc5-1169d7973439",
   "metadata": {},
   "outputs": [
    {
     "data": {
      "text/plain": [
       "1575.6786242840176"
      ]
     },
     "execution_count": 108,
     "metadata": {},
     "output_type": "execute_result"
    }
   ],
   "source": [
    "(mean_squared_error(tahmin2,y_test))**0.5"
   ]
  },
  {
   "cell_type": "raw",
   "id": "75897f43-0b63-4519-a8fd-80b6d3c9b60d",
   "metadata": {},
   "source": [
    "r2_score(tahmin2,y_test)"
   ]
  },
  {
   "cell_type": "code",
   "execution_count": 109,
   "id": "5f5afbb0-2670-4079-8436-f8b22dab93f0",
   "metadata": {},
   "outputs": [
    {
     "data": {
      "text/html": [
       "<style>#sk-container-id-4 {color: black;background-color: white;}#sk-container-id-4 pre{padding: 0;}#sk-container-id-4 div.sk-toggleable {background-color: white;}#sk-container-id-4 label.sk-toggleable__label {cursor: pointer;display: block;width: 100%;margin-bottom: 0;padding: 0.3em;box-sizing: border-box;text-align: center;}#sk-container-id-4 label.sk-toggleable__label-arrow:before {content: \"▸\";float: left;margin-right: 0.25em;color: #696969;}#sk-container-id-4 label.sk-toggleable__label-arrow:hover:before {color: black;}#sk-container-id-4 div.sk-estimator:hover label.sk-toggleable__label-arrow:before {color: black;}#sk-container-id-4 div.sk-toggleable__content {max-height: 0;max-width: 0;overflow: hidden;text-align: left;background-color: #f0f8ff;}#sk-container-id-4 div.sk-toggleable__content pre {margin: 0.2em;color: black;border-radius: 0.25em;background-color: #f0f8ff;}#sk-container-id-4 input.sk-toggleable__control:checked~div.sk-toggleable__content {max-height: 200px;max-width: 100%;overflow: auto;}#sk-container-id-4 input.sk-toggleable__control:checked~label.sk-toggleable__label-arrow:before {content: \"▾\";}#sk-container-id-4 div.sk-estimator input.sk-toggleable__control:checked~label.sk-toggleable__label {background-color: #d4ebff;}#sk-container-id-4 div.sk-label input.sk-toggleable__control:checked~label.sk-toggleable__label {background-color: #d4ebff;}#sk-container-id-4 input.sk-hidden--visually {border: 0;clip: rect(1px 1px 1px 1px);clip: rect(1px, 1px, 1px, 1px);height: 1px;margin: -1px;overflow: hidden;padding: 0;position: absolute;width: 1px;}#sk-container-id-4 div.sk-estimator {font-family: monospace;background-color: #f0f8ff;border: 1px dotted black;border-radius: 0.25em;box-sizing: border-box;margin-bottom: 0.5em;}#sk-container-id-4 div.sk-estimator:hover {background-color: #d4ebff;}#sk-container-id-4 div.sk-parallel-item::after {content: \"\";width: 100%;border-bottom: 1px solid gray;flex-grow: 1;}#sk-container-id-4 div.sk-label:hover label.sk-toggleable__label {background-color: #d4ebff;}#sk-container-id-4 div.sk-serial::before {content: \"\";position: absolute;border-left: 1px solid gray;box-sizing: border-box;top: 0;bottom: 0;left: 50%;z-index: 0;}#sk-container-id-4 div.sk-serial {display: flex;flex-direction: column;align-items: center;background-color: white;padding-right: 0.2em;padding-left: 0.2em;position: relative;}#sk-container-id-4 div.sk-item {position: relative;z-index: 1;}#sk-container-id-4 div.sk-parallel {display: flex;align-items: stretch;justify-content: center;background-color: white;position: relative;}#sk-container-id-4 div.sk-item::before, #sk-container-id-4 div.sk-parallel-item::before {content: \"\";position: absolute;border-left: 1px solid gray;box-sizing: border-box;top: 0;bottom: 0;left: 50%;z-index: -1;}#sk-container-id-4 div.sk-parallel-item {display: flex;flex-direction: column;z-index: 1;position: relative;background-color: white;}#sk-container-id-4 div.sk-parallel-item:first-child::after {align-self: flex-end;width: 50%;}#sk-container-id-4 div.sk-parallel-item:last-child::after {align-self: flex-start;width: 50%;}#sk-container-id-4 div.sk-parallel-item:only-child::after {width: 0;}#sk-container-id-4 div.sk-dashed-wrapped {border: 1px dashed gray;margin: 0 0.4em 0.5em 0.4em;box-sizing: border-box;padding-bottom: 0.4em;background-color: white;}#sk-container-id-4 div.sk-label label {font-family: monospace;font-weight: bold;display: inline-block;line-height: 1.2em;}#sk-container-id-4 div.sk-label-container {text-align: center;}#sk-container-id-4 div.sk-container {/* jupyter's `normalize.less` sets `[hidden] { display: none; }` but bootstrap.min.css set `[hidden] { display: none !important; }` so we also need the `!important` here to be able to override the default hidden behavior on the sphinx rendered scikit-learn.org. See: https://github.com/scikit-learn/scikit-learn/issues/21755 */display: inline-block !important;position: relative;}#sk-container-id-4 div.sk-text-repr-fallback {display: none;}</style><div id=\"sk-container-id-4\" class=\"sk-top-container\"><div class=\"sk-text-repr-fallback\"><pre>Lasso()</pre><b>In a Jupyter environment, please rerun this cell to show the HTML representation or trust the notebook. <br />On GitHub, the HTML representation is unable to render, please try loading this page with nbviewer.org.</b></div><div class=\"sk-container\" hidden><div class=\"sk-item\"><div class=\"sk-estimator sk-toggleable\"><input class=\"sk-toggleable__control sk-hidden--visually\" id=\"sk-estimator-id-4\" type=\"checkbox\" checked><label for=\"sk-estimator-id-4\" class=\"sk-toggleable__label sk-toggleable__label-arrow\">Lasso</label><div class=\"sk-toggleable__content\"><pre>Lasso()</pre></div></div></div></div></div>"
      ],
      "text/plain": [
       "Lasso()"
      ]
     },
     "execution_count": 109,
     "metadata": {},
     "output_type": "execute_result"
    }
   ],
   "source": [
    "L.fit(x_train,y_train)"
   ]
  },
  {
   "cell_type": "code",
   "execution_count": 110,
   "id": "0b2e399a-2050-4b32-9eae-6e152c1a8936",
   "metadata": {},
   "outputs": [],
   "source": [
    "tahmin3=L.predict(x_test)"
   ]
  },
  {
   "cell_type": "code",
   "execution_count": 111,
   "id": "877502af-2be9-4b20-bf64-8fd0c73d0f17",
   "metadata": {},
   "outputs": [
    {
     "data": {
      "text/plain": [
       "1527.043092830228"
      ]
     },
     "execution_count": 111,
     "metadata": {},
     "output_type": "execute_result"
    }
   ],
   "source": [
    "(mean_squared_error(tahmin3,y_test))**0.5"
   ]
  },
  {
   "cell_type": "code",
   "execution_count": 112,
   "id": "70da6e9b-750b-4605-82b7-c68b0a7577e3",
   "metadata": {},
   "outputs": [
    {
     "data": {
      "text/plain": [
       "0.9712425418609402"
      ]
     },
     "execution_count": 112,
     "metadata": {},
     "output_type": "execute_result"
    }
   ],
   "source": [
    "r2_score(tahmin3,y_test)"
   ]
  },
  {
   "cell_type": "code",
   "execution_count": 113,
   "id": "40c9bdc5-d97e-4394-8d58-0403ba34db0d",
   "metadata": {},
   "outputs": [],
   "source": [
    "from sklearn.linear_model import ElasticNet"
   ]
  },
  {
   "cell_type": "code",
   "execution_count": 118,
   "id": "02548dcb-3176-4666-9693-036dcc4aea8d",
   "metadata": {},
   "outputs": [],
   "source": [
    "E=ElasticNet(l1_ratio=0.8) \n",
    "#%80 Ridge %20 Lasso'dan alıyor\n",
    "#Ridge ve lassoyu ayrı ayrı çalıştırmak yerine bu ikisini de çalıştırıyor"
   ]
  },
  {
   "cell_type": "code",
   "execution_count": 119,
   "id": "2c75a990-7ed5-44cd-835c-e8c5df8a894a",
   "metadata": {},
   "outputs": [
    {
     "data": {
      "text/html": [
       "<style>#sk-container-id-6 {color: black;background-color: white;}#sk-container-id-6 pre{padding: 0;}#sk-container-id-6 div.sk-toggleable {background-color: white;}#sk-container-id-6 label.sk-toggleable__label {cursor: pointer;display: block;width: 100%;margin-bottom: 0;padding: 0.3em;box-sizing: border-box;text-align: center;}#sk-container-id-6 label.sk-toggleable__label-arrow:before {content: \"▸\";float: left;margin-right: 0.25em;color: #696969;}#sk-container-id-6 label.sk-toggleable__label-arrow:hover:before {color: black;}#sk-container-id-6 div.sk-estimator:hover label.sk-toggleable__label-arrow:before {color: black;}#sk-container-id-6 div.sk-toggleable__content {max-height: 0;max-width: 0;overflow: hidden;text-align: left;background-color: #f0f8ff;}#sk-container-id-6 div.sk-toggleable__content pre {margin: 0.2em;color: black;border-radius: 0.25em;background-color: #f0f8ff;}#sk-container-id-6 input.sk-toggleable__control:checked~div.sk-toggleable__content {max-height: 200px;max-width: 100%;overflow: auto;}#sk-container-id-6 input.sk-toggleable__control:checked~label.sk-toggleable__label-arrow:before {content: \"▾\";}#sk-container-id-6 div.sk-estimator input.sk-toggleable__control:checked~label.sk-toggleable__label {background-color: #d4ebff;}#sk-container-id-6 div.sk-label input.sk-toggleable__control:checked~label.sk-toggleable__label {background-color: #d4ebff;}#sk-container-id-6 input.sk-hidden--visually {border: 0;clip: rect(1px 1px 1px 1px);clip: rect(1px, 1px, 1px, 1px);height: 1px;margin: -1px;overflow: hidden;padding: 0;position: absolute;width: 1px;}#sk-container-id-6 div.sk-estimator {font-family: monospace;background-color: #f0f8ff;border: 1px dotted black;border-radius: 0.25em;box-sizing: border-box;margin-bottom: 0.5em;}#sk-container-id-6 div.sk-estimator:hover {background-color: #d4ebff;}#sk-container-id-6 div.sk-parallel-item::after {content: \"\";width: 100%;border-bottom: 1px solid gray;flex-grow: 1;}#sk-container-id-6 div.sk-label:hover label.sk-toggleable__label {background-color: #d4ebff;}#sk-container-id-6 div.sk-serial::before {content: \"\";position: absolute;border-left: 1px solid gray;box-sizing: border-box;top: 0;bottom: 0;left: 50%;z-index: 0;}#sk-container-id-6 div.sk-serial {display: flex;flex-direction: column;align-items: center;background-color: white;padding-right: 0.2em;padding-left: 0.2em;position: relative;}#sk-container-id-6 div.sk-item {position: relative;z-index: 1;}#sk-container-id-6 div.sk-parallel {display: flex;align-items: stretch;justify-content: center;background-color: white;position: relative;}#sk-container-id-6 div.sk-item::before, #sk-container-id-6 div.sk-parallel-item::before {content: \"\";position: absolute;border-left: 1px solid gray;box-sizing: border-box;top: 0;bottom: 0;left: 50%;z-index: -1;}#sk-container-id-6 div.sk-parallel-item {display: flex;flex-direction: column;z-index: 1;position: relative;background-color: white;}#sk-container-id-6 div.sk-parallel-item:first-child::after {align-self: flex-end;width: 50%;}#sk-container-id-6 div.sk-parallel-item:last-child::after {align-self: flex-start;width: 50%;}#sk-container-id-6 div.sk-parallel-item:only-child::after {width: 0;}#sk-container-id-6 div.sk-dashed-wrapped {border: 1px dashed gray;margin: 0 0.4em 0.5em 0.4em;box-sizing: border-box;padding-bottom: 0.4em;background-color: white;}#sk-container-id-6 div.sk-label label {font-family: monospace;font-weight: bold;display: inline-block;line-height: 1.2em;}#sk-container-id-6 div.sk-label-container {text-align: center;}#sk-container-id-6 div.sk-container {/* jupyter's `normalize.less` sets `[hidden] { display: none; }` but bootstrap.min.css set `[hidden] { display: none !important; }` so we also need the `!important` here to be able to override the default hidden behavior on the sphinx rendered scikit-learn.org. See: https://github.com/scikit-learn/scikit-learn/issues/21755 */display: inline-block !important;position: relative;}#sk-container-id-6 div.sk-text-repr-fallback {display: none;}</style><div id=\"sk-container-id-6\" class=\"sk-top-container\"><div class=\"sk-text-repr-fallback\"><pre>ElasticNet(l1_ratio=0.8)</pre><b>In a Jupyter environment, please rerun this cell to show the HTML representation or trust the notebook. <br />On GitHub, the HTML representation is unable to render, please try loading this page with nbviewer.org.</b></div><div class=\"sk-container\" hidden><div class=\"sk-item\"><div class=\"sk-estimator sk-toggleable\"><input class=\"sk-toggleable__control sk-hidden--visually\" id=\"sk-estimator-id-6\" type=\"checkbox\" checked><label for=\"sk-estimator-id-6\" class=\"sk-toggleable__label sk-toggleable__label-arrow\">ElasticNet</label><div class=\"sk-toggleable__content\"><pre>ElasticNet(l1_ratio=0.8)</pre></div></div></div></div></div>"
      ],
      "text/plain": [
       "ElasticNet(l1_ratio=0.8)"
      ]
     },
     "execution_count": 119,
     "metadata": {},
     "output_type": "execute_result"
    }
   ],
   "source": [
    "E.fit(x_train,y_train)"
   ]
  },
  {
   "cell_type": "code",
   "execution_count": 122,
   "id": "07e3f8fd-45b9-4b20-923d-0e90407d23f7",
   "metadata": {},
   "outputs": [],
   "source": [
    "tahmin4=E.predict(x_test)"
   ]
  },
  {
   "cell_type": "code",
   "execution_count": 123,
   "id": "7df051ff-b6a7-4425-96fb-31d8d2bed72d",
   "metadata": {},
   "outputs": [
    {
     "data": {
      "text/plain": [
       "0.3971899351969109"
      ]
     },
     "execution_count": 123,
     "metadata": {},
     "output_type": "execute_result"
    }
   ],
   "source": [
    "r2_score(tahmin4,y_test)"
   ]
  },
  {
   "cell_type": "code",
   "execution_count": null,
   "id": "a82bccb4-3d79-45ed-9ff6-8365d769a2ed",
   "metadata": {},
   "outputs": [],
   "source": []
  }
 ],
 "metadata": {
  "kernelspec": {
   "display_name": "Python 3",
   "language": "python",
   "name": "python3"
  },
  "language_info": {
   "codemirror_mode": {
    "name": "ipython",
    "version": 3
   },
   "file_extension": ".py",
   "mimetype": "text/x-python",
   "name": "python",
   "nbconvert_exporter": "python",
   "pygments_lexer": "ipython3",
   "version": "3.8.2"
  }
 },
 "nbformat": 4,
 "nbformat_minor": 5
}
